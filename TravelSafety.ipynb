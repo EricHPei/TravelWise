{
 "cells": [
  {
   "cell_type": "markdown",
   "metadata": {},
   "source": [
    "# TRAVEL SAFE"
   ]
  },
  {
   "cell_type": "code",
   "execution_count": 24,
   "metadata": {
    "collapsed": false
   },
   "outputs": [],
   "source": [
    "import matplotlib.pyplot as plt\n",
    "import seaborn as sns\n",
    "%matplotlib inline"
   ]
  },
  {
   "cell_type": "code",
   "execution_count": 1,
   "metadata": {
    "collapsed": false
   },
   "outputs": [
    {
     "name": "stderr",
     "output_type": "stream",
     "text": [
      "/Users/ericpei/anaconda/lib/python2.7/site-packages/IPython/core/interactiveshell.py:2723: DtypeWarning: Columns (0,18) have mixed types. Specify dtype option on import or set low_memory=False.\n",
      "  interactivity=interactivity, compiler=compiler, result=result)\n"
     ]
    }
   ],
   "source": [
    "df = pd.read_csv('Seattle_Police_Department_911_Incident_Response.csv')"
   ]
  },
  {
   "cell_type": "code",
   "execution_count": 2,
   "metadata": {
    "collapsed": false
   },
   "outputs": [
    {
     "data": {
      "text/html": [
       "<div>\n",
       "<table border=\"1\" class=\"dataframe\">\n",
       "  <thead>\n",
       "    <tr style=\"text-align: right;\">\n",
       "      <th></th>\n",
       "      <th>CAD Event Number</th>\n",
       "      <th>General Offense Number</th>\n",
       "      <th>Event Clearance Code</th>\n",
       "      <th>Census Tract</th>\n",
       "      <th>Longitude</th>\n",
       "      <th>Latitude</th>\n",
       "    </tr>\n",
       "  </thead>\n",
       "  <tbody>\n",
       "    <tr>\n",
       "      <th>count</th>\n",
       "      <td>1.225301e+06</td>\n",
       "      <td>1.225301e+06</td>\n",
       "      <td>1209537.000000</td>\n",
       "      <td>1222688.000000</td>\n",
       "      <td>1225299.000000</td>\n",
       "      <td>1225299.000000</td>\n",
       "    </tr>\n",
       "    <tr>\n",
       "      <th>mean</th>\n",
       "      <td>1.290269e+10</td>\n",
       "      <td>1.574653e+09</td>\n",
       "      <td>252.227996</td>\n",
       "      <td>7106.798344</td>\n",
       "      <td>-122.330588</td>\n",
       "      <td>47.619441</td>\n",
       "    </tr>\n",
       "    <tr>\n",
       "      <th>std</th>\n",
       "      <td>1.877879e+09</td>\n",
       "      <td>7.830210e+08</td>\n",
       "      <td>135.485290</td>\n",
       "      <td>3123.635769</td>\n",
       "      <td>0.030214</td>\n",
       "      <td>0.054012</td>\n",
       "    </tr>\n",
       "    <tr>\n",
       "      <th>min</th>\n",
       "      <td>9.000210e+09</td>\n",
       "      <td>2.011400e+04</td>\n",
       "      <td>10.000000</td>\n",
       "      <td>100.100000</td>\n",
       "      <td>-122.432252</td>\n",
       "      <td>47.448440</td>\n",
       "    </tr>\n",
       "    <tr>\n",
       "      <th>25%</th>\n",
       "      <td>1.100033e+10</td>\n",
       "      <td>2.010266e+09</td>\n",
       "      <td>170.000000</td>\n",
       "      <td>5200.201000</td>\n",
       "      <td>-122.346722</td>\n",
       "      <td>47.591354</td>\n",
       "    </tr>\n",
       "    <tr>\n",
       "      <th>50%</th>\n",
       "      <td>1.200044e+10</td>\n",
       "      <td>2.012113e+09</td>\n",
       "      <td>245.000000</td>\n",
       "      <td>8001.301400</td>\n",
       "      <td>-122.330810</td>\n",
       "      <td>47.613934</td>\n",
       "    </tr>\n",
       "    <tr>\n",
       "      <th>75%</th>\n",
       "      <td>1.500006e+10</td>\n",
       "      <td>2.014272e+09</td>\n",
       "      <td>350.000000</td>\n",
       "      <td>9300.202700</td>\n",
       "      <td>-122.313409</td>\n",
       "      <td>47.661259</td>\n",
       "    </tr>\n",
       "    <tr>\n",
       "      <th>max</th>\n",
       "      <td>1.600018e+10</td>\n",
       "      <td>2.012221e+10</td>\n",
       "      <td>617.000000</td>\n",
       "      <td>26500.100900</td>\n",
       "      <td>-122.217418</td>\n",
       "      <td>47.777976</td>\n",
       "    </tr>\n",
       "  </tbody>\n",
       "</table>\n",
       "</div>"
      ],
      "text/plain": [
       "       CAD Event Number  General Offense Number  Event Clearance Code  \\\n",
       "count      1.225301e+06            1.225301e+06        1209537.000000   \n",
       "mean       1.290269e+10            1.574653e+09            252.227996   \n",
       "std        1.877879e+09            7.830210e+08            135.485290   \n",
       "min        9.000210e+09            2.011400e+04             10.000000   \n",
       "25%        1.100033e+10            2.010266e+09            170.000000   \n",
       "50%        1.200044e+10            2.012113e+09            245.000000   \n",
       "75%        1.500006e+10            2.014272e+09            350.000000   \n",
       "max        1.600018e+10            2.012221e+10            617.000000   \n",
       "\n",
       "         Census Tract       Longitude        Latitude  \n",
       "count  1222688.000000  1225299.000000  1225299.000000  \n",
       "mean      7106.798344     -122.330588       47.619441  \n",
       "std       3123.635769        0.030214        0.054012  \n",
       "min        100.100000     -122.432252       47.448440  \n",
       "25%       5200.201000     -122.346722       47.591354  \n",
       "50%       8001.301400     -122.330810       47.613934  \n",
       "75%       9300.202700     -122.313409       47.661259  \n",
       "max      26500.100900     -122.217418       47.777976  "
      ]
     },
     "execution_count": 2,
     "metadata": {},
     "output_type": "execute_result"
    }
   ],
   "source": [
    "df.describe()"
   ]
  },
  {
   "cell_type": "code",
   "execution_count": 3,
   "metadata": {
    "collapsed": false
   },
   "outputs": [
    {
     "name": "stdout",
     "output_type": "stream",
     "text": [
      "<class 'pandas.core.frame.DataFrame'>\n",
      "Int64Index: 1225301 entries, 0 to 1225300\n",
      "Data columns (total 19 columns):\n",
      "CAD CDW ID                     1225301 non-null object\n",
      "CAD Event Number               1225301 non-null int64\n",
      "General Offense Number         1225301 non-null int64\n",
      "Event Clearance Code           1209537 non-null float64\n",
      "Event Clearance Description    1209535 non-null object\n",
      "Event Clearance SubGroup       1209535 non-null object\n",
      "Event Clearance Group          1209535 non-null object\n",
      "Event Clearance Date           1209322 non-null object\n",
      "Hundred Block Location         1221813 non-null object\n",
      "District/Sector                1224080 non-null object\n",
      "Zone/Beat                      1225299 non-null object\n",
      "Census Tract                   1222688 non-null float64\n",
      "Longitude                      1225299 non-null float64\n",
      "Latitude                       1225299 non-null float64\n",
      "Incident Location              1225299 non-null object\n",
      "Initial Type Description       620420 non-null object\n",
      "Initial Type Subgroup          620420 non-null object\n",
      "Initial Type Group             620420 non-null object\n",
      "At Scene Time                  300891 non-null object\n",
      "dtypes: float64(4), int64(2), object(13)\n",
      "memory usage: 187.0+ MB\n"
     ]
    }
   ],
   "source": [
    "df.info()"
   ]
  },
  {
   "cell_type": "code",
   "execution_count": 4,
   "metadata": {
    "collapsed": false
   },
   "outputs": [
    {
     "data": {
      "text/html": [
       "<div>\n",
       "<table border=\"1\" class=\"dataframe\">\n",
       "  <thead>\n",
       "    <tr style=\"text-align: right;\">\n",
       "      <th></th>\n",
       "      <th>CAD CDW ID</th>\n",
       "      <th>CAD Event Number</th>\n",
       "      <th>General Offense Number</th>\n",
       "      <th>Event Clearance Code</th>\n",
       "      <th>Event Clearance Description</th>\n",
       "      <th>Event Clearance SubGroup</th>\n",
       "      <th>Event Clearance Group</th>\n",
       "      <th>Event Clearance Date</th>\n",
       "      <th>Hundred Block Location</th>\n",
       "      <th>District/Sector</th>\n",
       "      <th>Zone/Beat</th>\n",
       "      <th>Census Tract</th>\n",
       "      <th>Longitude</th>\n",
       "      <th>Latitude</th>\n",
       "      <th>Incident Location</th>\n",
       "      <th>Initial Type Description</th>\n",
       "      <th>Initial Type Subgroup</th>\n",
       "      <th>Initial Type Group</th>\n",
       "      <th>At Scene Time</th>\n",
       "    </tr>\n",
       "  </thead>\n",
       "  <tbody>\n",
       "    <tr>\n",
       "      <th>0</th>\n",
       "      <td>﻿15736</td>\n",
       "      <td>10000246357</td>\n",
       "      <td>2010246357</td>\n",
       "      <td>242</td>\n",
       "      <td>FIGHT DISTURBANCE</td>\n",
       "      <td>DISTURBANCES</td>\n",
       "      <td>DISTURBANCES</td>\n",
       "      <td>07/17/2010 08:49:00 PM</td>\n",
       "      <td>3XX BLOCK OF PINE ST</td>\n",
       "      <td>M</td>\n",
       "      <td>M2</td>\n",
       "      <td>8100.2001</td>\n",
       "      <td>-122.338147</td>\n",
       "      <td>47.610975</td>\n",
       "      <td>(47.610975163, -122.338146748)</td>\n",
       "      <td>NaN</td>\n",
       "      <td>NaN</td>\n",
       "      <td>NaN</td>\n",
       "      <td>NaN</td>\n",
       "    </tr>\n",
       "    <tr>\n",
       "      <th>1</th>\n",
       "      <td>15737</td>\n",
       "      <td>10000246471</td>\n",
       "      <td>2010246471</td>\n",
       "      <td>65</td>\n",
       "      <td>THEFT - MISCELLANEOUS</td>\n",
       "      <td>THEFT</td>\n",
       "      <td>OTHER PROPERTY</td>\n",
       "      <td>07/17/2010 08:50:00 PM</td>\n",
       "      <td>36XX BLOCK OF DISCOVERY PARK BLVD</td>\n",
       "      <td>Q</td>\n",
       "      <td>Q1</td>\n",
       "      <td>5700.1012</td>\n",
       "      <td>-122.404613</td>\n",
       "      <td>47.658325</td>\n",
       "      <td>(47.658324899, -122.404612874)</td>\n",
       "      <td>NaN</td>\n",
       "      <td>NaN</td>\n",
       "      <td>NaN</td>\n",
       "      <td>NaN</td>\n",
       "    </tr>\n",
       "    <tr>\n",
       "      <th>2</th>\n",
       "      <td>15738</td>\n",
       "      <td>10000246255</td>\n",
       "      <td>2010246255</td>\n",
       "      <td>250</td>\n",
       "      <td>MISCHIEF, NUISANCE COMPLAINTS</td>\n",
       "      <td>NUISANCE, MISCHIEF COMPLAINTS</td>\n",
       "      <td>NUISANCE, MISCHIEF</td>\n",
       "      <td>07/17/2010 08:55:00 PM</td>\n",
       "      <td>21XX BLOCK OF 3RD AVE</td>\n",
       "      <td>M</td>\n",
       "      <td>M2</td>\n",
       "      <td>7200.2025</td>\n",
       "      <td>-122.342843</td>\n",
       "      <td>47.613551</td>\n",
       "      <td>(47.613551471, -122.342843234)</td>\n",
       "      <td>NaN</td>\n",
       "      <td>NaN</td>\n",
       "      <td>NaN</td>\n",
       "      <td>NaN</td>\n",
       "    </tr>\n",
       "    <tr>\n",
       "      <th>3</th>\n",
       "      <td>15739</td>\n",
       "      <td>10000246473</td>\n",
       "      <td>2010246473</td>\n",
       "      <td>460</td>\n",
       "      <td>TRAFFIC (MOVING) VIOLATION</td>\n",
       "      <td>TRAFFIC RELATED CALLS</td>\n",
       "      <td>TRAFFIC RELATED CALLS</td>\n",
       "      <td>07/17/2010 09:00:00 PM</td>\n",
       "      <td>7XX BLOCK OF ROY ST</td>\n",
       "      <td>D</td>\n",
       "      <td>D1</td>\n",
       "      <td>7200.1002</td>\n",
       "      <td>-122.341847</td>\n",
       "      <td>47.625401</td>\n",
       "      <td>(47.625401388, -122.341846999)</td>\n",
       "      <td>NaN</td>\n",
       "      <td>NaN</td>\n",
       "      <td>NaN</td>\n",
       "      <td>NaN</td>\n",
       "    </tr>\n",
       "    <tr>\n",
       "      <th>4</th>\n",
       "      <td>15740</td>\n",
       "      <td>10000246330</td>\n",
       "      <td>2010246330</td>\n",
       "      <td>250</td>\n",
       "      <td>MISCHIEF, NUISANCE COMPLAINTS</td>\n",
       "      <td>NUISANCE, MISCHIEF COMPLAINTS</td>\n",
       "      <td>NUISANCE, MISCHIEF</td>\n",
       "      <td>07/17/2010 09:00:00 PM</td>\n",
       "      <td>9XX BLOCK OF ALOHA ST</td>\n",
       "      <td>D</td>\n",
       "      <td>D1</td>\n",
       "      <td>6700.1009</td>\n",
       "      <td>-122.339709</td>\n",
       "      <td>47.627425</td>\n",
       "      <td>(47.627424837, -122.339708605)</td>\n",
       "      <td>NaN</td>\n",
       "      <td>NaN</td>\n",
       "      <td>NaN</td>\n",
       "      <td>NaN</td>\n",
       "    </tr>\n",
       "  </tbody>\n",
       "</table>\n",
       "</div>"
      ],
      "text/plain": [
       "  CAD CDW ID  CAD Event Number  General Offense Number  Event Clearance Code  \\\n",
       "0     ﻿15736       10000246357              2010246357                   242   \n",
       "1      15737       10000246471              2010246471                    65   \n",
       "2      15738       10000246255              2010246255                   250   \n",
       "3      15739       10000246473              2010246473                   460   \n",
       "4      15740       10000246330              2010246330                   250   \n",
       "\n",
       "     Event Clearance Description       Event Clearance SubGroup  \\\n",
       "0              FIGHT DISTURBANCE                   DISTURBANCES   \n",
       "1          THEFT - MISCELLANEOUS                          THEFT   \n",
       "2  MISCHIEF, NUISANCE COMPLAINTS  NUISANCE, MISCHIEF COMPLAINTS   \n",
       "3     TRAFFIC (MOVING) VIOLATION          TRAFFIC RELATED CALLS   \n",
       "4  MISCHIEF, NUISANCE COMPLAINTS  NUISANCE, MISCHIEF COMPLAINTS   \n",
       "\n",
       "   Event Clearance Group    Event Clearance Date  \\\n",
       "0           DISTURBANCES  07/17/2010 08:49:00 PM   \n",
       "1         OTHER PROPERTY  07/17/2010 08:50:00 PM   \n",
       "2    NUISANCE, MISCHIEF   07/17/2010 08:55:00 PM   \n",
       "3  TRAFFIC RELATED CALLS  07/17/2010 09:00:00 PM   \n",
       "4    NUISANCE, MISCHIEF   07/17/2010 09:00:00 PM   \n",
       "\n",
       "              Hundred Block Location District/Sector Zone/Beat  Census Tract  \\\n",
       "0               3XX BLOCK OF PINE ST               M        M2     8100.2001   \n",
       "1  36XX BLOCK OF DISCOVERY PARK BLVD               Q        Q1     5700.1012   \n",
       "2              21XX BLOCK OF 3RD AVE               M        M2     7200.2025   \n",
       "3                7XX BLOCK OF ROY ST               D        D1     7200.1002   \n",
       "4              9XX BLOCK OF ALOHA ST               D        D1     6700.1009   \n",
       "\n",
       "    Longitude   Latitude               Incident Location  \\\n",
       "0 -122.338147  47.610975  (47.610975163, -122.338146748)   \n",
       "1 -122.404613  47.658325  (47.658324899, -122.404612874)   \n",
       "2 -122.342843  47.613551  (47.613551471, -122.342843234)   \n",
       "3 -122.341847  47.625401  (47.625401388, -122.341846999)   \n",
       "4 -122.339709  47.627425  (47.627424837, -122.339708605)   \n",
       "\n",
       "  Initial Type Description Initial Type Subgroup Initial Type Group  \\\n",
       "0                      NaN                   NaN                NaN   \n",
       "1                      NaN                   NaN                NaN   \n",
       "2                      NaN                   NaN                NaN   \n",
       "3                      NaN                   NaN                NaN   \n",
       "4                      NaN                   NaN                NaN   \n",
       "\n",
       "  At Scene Time  \n",
       "0           NaN  \n",
       "1           NaN  \n",
       "2           NaN  \n",
       "3           NaN  \n",
       "4           NaN  "
      ]
     },
     "execution_count": 4,
     "metadata": {},
     "output_type": "execute_result"
    }
   ],
   "source": [
    "df.head()"
   ]
  },
  {
   "cell_type": "code",
   "execution_count": 10,
   "metadata": {
    "collapsed": true
   },
   "outputs": [],
   "source": [
    "dfsample = df.sample(frac=.1)"
   ]
  },
  {
   "cell_type": "code",
   "execution_count": 12,
   "metadata": {
    "collapsed": false
   },
   "outputs": [
    {
     "data": {
      "text/html": [
       "<div>\n",
       "<table border=\"1\" class=\"dataframe\">\n",
       "  <thead>\n",
       "    <tr style=\"text-align: right;\">\n",
       "      <th></th>\n",
       "      <th>CAD Event Number</th>\n",
       "      <th>General Offense Number</th>\n",
       "      <th>Event Clearance Code</th>\n",
       "      <th>Census Tract</th>\n",
       "      <th>Longitude</th>\n",
       "      <th>Latitude</th>\n",
       "    </tr>\n",
       "  </thead>\n",
       "  <tbody>\n",
       "    <tr>\n",
       "      <th>count</th>\n",
       "      <td>1.225300e+05</td>\n",
       "      <td>1.225300e+05</td>\n",
       "      <td>120977.000000</td>\n",
       "      <td>122298.000000</td>\n",
       "      <td>122530.000000</td>\n",
       "      <td>122530.000000</td>\n",
       "    </tr>\n",
       "    <tr>\n",
       "      <th>mean</th>\n",
       "      <td>1.290330e+10</td>\n",
       "      <td>1.576725e+09</td>\n",
       "      <td>251.595741</td>\n",
       "      <td>7108.582047</td>\n",
       "      <td>-122.330609</td>\n",
       "      <td>47.619493</td>\n",
       "    </tr>\n",
       "    <tr>\n",
       "      <th>std</th>\n",
       "      <td>1.877527e+09</td>\n",
       "      <td>7.848685e+08</td>\n",
       "      <td>135.199207</td>\n",
       "      <td>3114.510035</td>\n",
       "      <td>0.030168</td>\n",
       "      <td>0.053894</td>\n",
       "    </tr>\n",
       "    <tr>\n",
       "      <th>min</th>\n",
       "      <td>9.000210e+09</td>\n",
       "      <td>2.011400e+04</td>\n",
       "      <td>10.000000</td>\n",
       "      <td>100.100000</td>\n",
       "      <td>-122.432252</td>\n",
       "      <td>47.451451</td>\n",
       "    </tr>\n",
       "    <tr>\n",
       "      <th>25%</th>\n",
       "      <td>1.100033e+10</td>\n",
       "      <td>2.010268e+09</td>\n",
       "      <td>170.000000</td>\n",
       "      <td>5200.300100</td>\n",
       "      <td>-122.346727</td>\n",
       "      <td>47.592392</td>\n",
       "    </tr>\n",
       "    <tr>\n",
       "      <th>50%</th>\n",
       "      <td>1.200044e+10</td>\n",
       "      <td>2.012116e+09</td>\n",
       "      <td>245.000000</td>\n",
       "      <td>8001.301500</td>\n",
       "      <td>-122.330807</td>\n",
       "      <td>47.613934</td>\n",
       "    </tr>\n",
       "    <tr>\n",
       "      <th>75%</th>\n",
       "      <td>1.500006e+10</td>\n",
       "      <td>2.014272e+09</td>\n",
       "      <td>350.000000</td>\n",
       "      <td>9300.201800</td>\n",
       "      <td>-122.313437</td>\n",
       "      <td>47.661113</td>\n",
       "    </tr>\n",
       "    <tr>\n",
       "      <th>max</th>\n",
       "      <td>1.600018e+10</td>\n",
       "      <td>2.012221e+10</td>\n",
       "      <td>482.000000</td>\n",
       "      <td>26500.100200</td>\n",
       "      <td>-122.218030</td>\n",
       "      <td>47.777605</td>\n",
       "    </tr>\n",
       "  </tbody>\n",
       "</table>\n",
       "</div>"
      ],
      "text/plain": [
       "       CAD Event Number  General Offense Number  Event Clearance Code  \\\n",
       "count      1.225300e+05            1.225300e+05         120977.000000   \n",
       "mean       1.290330e+10            1.576725e+09            251.595741   \n",
       "std        1.877527e+09            7.848685e+08            135.199207   \n",
       "min        9.000210e+09            2.011400e+04             10.000000   \n",
       "25%        1.100033e+10            2.010268e+09            170.000000   \n",
       "50%        1.200044e+10            2.012116e+09            245.000000   \n",
       "75%        1.500006e+10            2.014272e+09            350.000000   \n",
       "max        1.600018e+10            2.012221e+10            482.000000   \n",
       "\n",
       "        Census Tract      Longitude       Latitude  \n",
       "count  122298.000000  122530.000000  122530.000000  \n",
       "mean     7108.582047    -122.330609      47.619493  \n",
       "std      3114.510035       0.030168       0.053894  \n",
       "min       100.100000    -122.432252      47.451451  \n",
       "25%      5200.300100    -122.346727      47.592392  \n",
       "50%      8001.301500    -122.330807      47.613934  \n",
       "75%      9300.201800    -122.313437      47.661113  \n",
       "max     26500.100200    -122.218030      47.777605  "
      ]
     },
     "execution_count": 12,
     "metadata": {},
     "output_type": "execute_result"
    }
   ],
   "source": [
    "dfsample.describe()"
   ]
  },
  {
   "cell_type": "code",
   "execution_count": 15,
   "metadata": {
    "collapsed": false
   },
   "outputs": [],
   "source": [
    "dfsample = dfsample.drop(['At Scene Time'], axis=1)"
   ]
  },
  {
   "cell_type": "code",
   "execution_count": 16,
   "metadata": {
    "collapsed": false
   },
   "outputs": [
    {
     "name": "stdout",
     "output_type": "stream",
     "text": [
      "<class 'pandas.core.frame.DataFrame'>\n",
      "Int64Index: 122530 entries, 340330 to 1199463\n",
      "Data columns (total 18 columns):\n",
      "CAD CDW ID                     122530 non-null object\n",
      "CAD Event Number               122530 non-null int64\n",
      "General Offense Number         122530 non-null int64\n",
      "Event Clearance Code           120977 non-null float64\n",
      "Event Clearance Description    120977 non-null object\n",
      "Event Clearance SubGroup       120977 non-null object\n",
      "Event Clearance Group          120977 non-null object\n",
      "Event Clearance Date           120951 non-null object\n",
      "Hundred Block Location         122151 non-null object\n",
      "District/Sector                122423 non-null object\n",
      "Zone/Beat                      122530 non-null object\n",
      "Census Tract                   122298 non-null float64\n",
      "Longitude                      122530 non-null float64\n",
      "Latitude                       122530 non-null float64\n",
      "Incident Location              122530 non-null object\n",
      "Initial Type Description       62211 non-null object\n",
      "Initial Type Subgroup          62211 non-null object\n",
      "Initial Type Group             62211 non-null object\n",
      "dtypes: float64(4), int64(2), object(12)\n",
      "memory usage: 17.8+ MB\n"
     ]
    }
   ],
   "source": [
    "dfsample.info()"
   ]
  },
  {
   "cell_type": "code",
   "execution_count": 43,
   "metadata": {
    "collapsed": true
   },
   "outputs": [],
   "source": [
    "dfsample = dfsample.dropna(subset=['Event Clearance Code'])\n",
    "dfsample = dfsample.dropna(subset=['Event Clearance Date'])\n",
    "dfsample = dfsample.dropna(subset=['Hundred Block Location'])\n",
    "dfsample = dfsample.dropna(subset=['District/Sector'])\n",
    "dfsample = dfsample.dropna(subset=['Census Tract'])"
   ]
  },
  {
   "cell_type": "code",
   "execution_count": 44,
   "metadata": {
    "collapsed": false
   },
   "outputs": [
    {
     "name": "stdout",
     "output_type": "stream",
     "text": [
      "<class 'pandas.core.frame.DataFrame'>\n",
      "Int64Index: 120332 entries, 340330 to 1199463\n",
      "Data columns (total 18 columns):\n",
      "CAD CDW ID                     120332 non-null object\n",
      "CAD Event Number               120332 non-null int64\n",
      "General Offense Number         120332 non-null int64\n",
      "Event Clearance Code           120332 non-null float64\n",
      "Event Clearance Description    120332 non-null object\n",
      "Event Clearance SubGroup       120332 non-null object\n",
      "Event Clearance Group          120332 non-null object\n",
      "Event Clearance Date           120332 non-null object\n",
      "Hundred Block Location         120332 non-null object\n",
      "District/Sector                120332 non-null object\n",
      "Zone/Beat                      120332 non-null object\n",
      "Census Tract                   120332 non-null float64\n",
      "Longitude                      120332 non-null float64\n",
      "Latitude                       120332 non-null float64\n",
      "Incident Location              120332 non-null object\n",
      "Initial Type Description       60710 non-null object\n",
      "Initial Type Subgroup          60710 non-null object\n",
      "Initial Type Group             60710 non-null object\n",
      "dtypes: float64(4), int64(2), object(12)\n",
      "memory usage: 17.4+ MB\n"
     ]
    }
   ],
   "source": [
    "dfsample.info()"
   ]
  },
  {
   "cell_type": "code",
   "execution_count": 50,
   "metadata": {
    "collapsed": false,
    "scrolled": true
   },
   "outputs": [
    {
     "data": {
      "image/png": "[encoded data removed]",
      "text/plain": [
       "<matplotlib.figure.Figure at 0x110e44610>"
      ]
     },
     "metadata": {},
     "output_type": "display_data"
    }
   ],
   "source": [
    "plt.figure(0, figsize=(14,20))\n",
    "\n",
    "plt.subplot(421)\n",
    "plt.grid(True)\n",
    "plt.xlabel('CAD Event Number')\n",
    "plt.ylabel('Frequency')\n",
    "plt.title('CAD Event # Distribution')\n",
    "plt.hist(dfsample['CAD Event Number'], bins=100)\n",
    "\n",
    "plt.subplot(422)\n",
    "plt.grid(True)\n",
    "plt.xlabel('General Offense Number')\n",
    "plt.ylabel('Frequency')\n",
    "plt.xlim(0,20000000000)\n",
    "plt.title('General Offense Distribution')\n",
    "plt.hist(dfsample['General Offense Number'], bins=100)\n",
    "\n",
    "plt.subplot(423)\n",
    "plt.grid(True)\n",
    "plt.xlabel('Event Clearance Code')\n",
    "plt.ylabel('Frequency')\n",
    "plt.title('Event Clearance Code Distribution')\n",
    "plt.hist(dfsample['Event Clearance Code'], bins=100)\n",
    "\n",
    "plt.subplot(424)\n",
    "plt.grid(True)\n",
    "plt.xlabel('Census Tract')\n",
    "plt.ylabel('Frequency')\n",
    "plt.title('Census Tract Frequency')\n",
    "plt.hist(dfsample['Census Tract'], bins=100)\n",
    "\n",
    "plt.subplot(425)\n",
    "plt.grid(True)\n",
    "plt.xlabel('Latitude')\n",
    "plt.ylabel('Frequency')\n",
    "plt.title('Latitude')\n",
    "plt.hist(dfsample['Latitude'], bins=100)\n",
    "\n",
    "plt.subplot(426)\n",
    "plt.grid(True)\n",
    "plt.xlabel('Longitude')\n",
    "plt.ylabel('Frequency')\n",
    "plt.title('Longitude')\n",
    "plt.hist(dfsample['Longitude'], bins=100)\n",
    "\n",
    "# plt.subplot(427)\n",
    "# plt.grid(True)\n",
    "# plt.xlabel('Event Clearance Code')\n",
    "# plt.ylabel('Frequency')\n",
    "# plt.title('Event Clearance Code Distribution')\n",
    "# plt.hist(dfsample['Event Clearance Code'])\n",
    "\n",
    "plt.show()"
   ]
  },
  {
   "cell_type": "code",
   "execution_count": 37,
   "metadata": {
    "collapsed": false
   },
   "outputs": [
    {
     "data": {
      "text/plain": [
       "340330     2011414041\n",
       "994005     2014217899\n",
       "779015     2015333840\n",
       "1199262    2015184623\n",
       "1139555     201564504\n",
       "Name: General Offense Number, dtype: int64"
      ]
     },
     "execution_count": 37,
     "metadata": {},
     "output_type": "execute_result"
    }
   ],
   "source": [
    "dfsample['General Offense Number'].head()"
   ]
  },
  {
   "cell_type": "markdown",
   "metadata": {},
   "source": [
    "### General Offense Number seems like Date and Time, but needs to be cleaned"
   ]
  },
  {
   "cell_type": "code",
   "execution_count": 51,
   "metadata": {
    "collapsed": false
   },
   "outputs": [
    {
     "data": {
      "text/html": [
       "<div>\n",
       "<table border=\"1\" class=\"dataframe\">\n",
       "  <thead>\n",
       "    <tr style=\"text-align: right;\">\n",
       "      <th></th>\n",
       "      <th>CAD CDW ID</th>\n",
       "      <th>CAD Event Number</th>\n",
       "      <th>General Offense Number</th>\n",
       "      <th>Event Clearance Code</th>\n",
       "      <th>Event Clearance Description</th>\n",
       "      <th>Event Clearance SubGroup</th>\n",
       "      <th>Event Clearance Group</th>\n",
       "      <th>Event Clearance Date</th>\n",
       "      <th>Hundred Block Location</th>\n",
       "      <th>District/Sector</th>\n",
       "      <th>Zone/Beat</th>\n",
       "      <th>Census Tract</th>\n",
       "      <th>Longitude</th>\n",
       "      <th>Latitude</th>\n",
       "      <th>Incident Location</th>\n",
       "      <th>Initial Type Description</th>\n",
       "      <th>Initial Type Subgroup</th>\n",
       "      <th>Initial Type Group</th>\n",
       "    </tr>\n",
       "  </thead>\n",
       "  <tbody>\n",
       "    <tr>\n",
       "      <th>340330</th>\n",
       "      <td>699372</td>\n",
       "      <td>11000414041</td>\n",
       "      <td>2011414041</td>\n",
       "      <td>470</td>\n",
       "      <td>PARKING VIOLATION (EXCEPT ABANDONED VEHICLES)</td>\n",
       "      <td>PARKING VIOLATIONS</td>\n",
       "      <td>TRAFFIC RELATED CALLS</td>\n",
       "      <td>12/28/2011 05:01:00 PM</td>\n",
       "      <td>79XX BLOCK OF RAINIER AVE S</td>\n",
       "      <td>S</td>\n",
       "      <td>S2</td>\n",
       "      <td>11800.6000</td>\n",
       "      <td>-122.269990</td>\n",
       "      <td>47.530966</td>\n",
       "      <td>(47.530965617, -122.269989578)</td>\n",
       "      <td>NaN</td>\n",
       "      <td>NaN</td>\n",
       "      <td>NaN</td>\n",
       "    </tr>\n",
       "    <tr>\n",
       "      <th>994005</th>\n",
       "      <td>2100887</td>\n",
       "      <td>14000217899</td>\n",
       "      <td>2014217899</td>\n",
       "      <td>177</td>\n",
       "      <td>LIQUOR VIOLATION - INTOXICATED PERSON</td>\n",
       "      <td>LIQUOR VIOLATIONS</td>\n",
       "      <td>LIQUOR VIOLATIONS</td>\n",
       "      <td>07/05/2014 06:40:00 PM</td>\n",
       "      <td>13 AV S / S BAYVIEW ST</td>\n",
       "      <td>O</td>\n",
       "      <td>O1</td>\n",
       "      <td>9300.3000</td>\n",
       "      <td>-122.316019</td>\n",
       "      <td>47.581021</td>\n",
       "      <td>(47.581021171, -122.316019387)</td>\n",
       "      <td>DETOX - REQUEST FOR</td>\n",
       "      <td>LIQUOR VIOLATIONS</td>\n",
       "      <td>LIQUOR VIOLATIONS</td>\n",
       "    </tr>\n",
       "    <tr>\n",
       "      <th>779015</th>\n",
       "      <td>1559924</td>\n",
       "      <td>15000333840</td>\n",
       "      <td>2015333840</td>\n",
       "      <td>40</td>\n",
       "      <td>ASSAULTS, OTHER</td>\n",
       "      <td>ASSAULTS</td>\n",
       "      <td>ASSAULTS</td>\n",
       "      <td>09/23/2015 10:37:00 PM</td>\n",
       "      <td>14XX BLOCK OF WESTERN AV</td>\n",
       "      <td>M</td>\n",
       "      <td>M1</td>\n",
       "      <td>8100.3012</td>\n",
       "      <td>-122.340670</td>\n",
       "      <td>47.607860</td>\n",
       "      <td>(47.607860352, -122.340669908)</td>\n",
       "      <td>ASLT - WITH OR W/O WEAPONS (NO SHOOTINGS)</td>\n",
       "      <td>ASSAULTS</td>\n",
       "      <td>ASSAULTS</td>\n",
       "    </tr>\n",
       "    <tr>\n",
       "      <th>1199262</th>\n",
       "      <td>1110254</td>\n",
       "      <td>15000184623</td>\n",
       "      <td>2015184623</td>\n",
       "      <td>100</td>\n",
       "      <td>FRAUD (INCLUDING IDENTITY THEFT)</td>\n",
       "      <td>FRAUD CALLS</td>\n",
       "      <td>FRAUD CALLS</td>\n",
       "      <td>06/03/2015 10:00:00 PM</td>\n",
       "      <td>63XX BLOCK OF SW MARGUERITE CT</td>\n",
       "      <td>W</td>\n",
       "      <td>W1</td>\n",
       "      <td>9701.3029</td>\n",
       "      <td>-122.414065</td>\n",
       "      <td>47.573842</td>\n",
       "      <td>(47.573842098, -122.41406469)</td>\n",
       "      <td>TRU - FORGERY/CHKS/BUNCO/SCAMS/ID THEFT</td>\n",
       "      <td>FRAUD CALLS</td>\n",
       "      <td>FRAUD CALLS</td>\n",
       "    </tr>\n",
       "    <tr>\n",
       "      <th>1139555</th>\n",
       "      <td>1026848</td>\n",
       "      <td>15000064504</td>\n",
       "      <td>201564504</td>\n",
       "      <td>71</td>\n",
       "      <td>AUTO THEFT</td>\n",
       "      <td>AUTO THEFTS</td>\n",
       "      <td>AUTO THEFTS</td>\n",
       "      <td>02/26/2015 03:22:00 AM</td>\n",
       "      <td>60XX BLOCK OF 51 AV S</td>\n",
       "      <td>R</td>\n",
       "      <td>R3</td>\n",
       "      <td>10200.3015</td>\n",
       "      <td>-122.269896</td>\n",
       "      <td>47.548110</td>\n",
       "      <td>(47.548109671, -122.269896389)</td>\n",
       "      <td>AUTO THEFT - VEH THEFT OR THEFT AND RECOVERY</td>\n",
       "      <td>AUTO THEFTS</td>\n",
       "      <td>AUTO RECOVERIES</td>\n",
       "    </tr>\n",
       "  </tbody>\n",
       "</table>\n",
       "</div>"
      ],
      "text/plain": [
       "        CAD CDW ID  CAD Event Number  General Offense Number  \\\n",
       "340330      699372       11000414041              2011414041   \n",
       "994005     2100887       14000217899              2014217899   \n",
       "779015     1559924       15000333840              2015333840   \n",
       "1199262    1110254       15000184623              2015184623   \n",
       "1139555    1026848       15000064504               201564504   \n",
       "\n",
       "         Event Clearance Code                    Event Clearance Description  \\\n",
       "340330                    470  PARKING VIOLATION (EXCEPT ABANDONED VEHICLES)   \n",
       "994005                    177          LIQUOR VIOLATION - INTOXICATED PERSON   \n",
       "779015                     40                                ASSAULTS, OTHER   \n",
       "1199262                   100               FRAUD (INCLUDING IDENTITY THEFT)   \n",
       "1139555                    71                                     AUTO THEFT   \n",
       "\n",
       "        Event Clearance SubGroup  Event Clearance Group  \\\n",
       "340330        PARKING VIOLATIONS  TRAFFIC RELATED CALLS   \n",
       "994005         LIQUOR VIOLATIONS      LIQUOR VIOLATIONS   \n",
       "779015                  ASSAULTS               ASSAULTS   \n",
       "1199262              FRAUD CALLS            FRAUD CALLS   \n",
       "1139555              AUTO THEFTS            AUTO THEFTS   \n",
       "\n",
       "           Event Clearance Date          Hundred Block Location  \\\n",
       "340330   12/28/2011 05:01:00 PM     79XX BLOCK OF RAINIER AVE S   \n",
       "994005   07/05/2014 06:40:00 PM          13 AV S / S BAYVIEW ST   \n",
       "779015   09/23/2015 10:37:00 PM        14XX BLOCK OF WESTERN AV   \n",
       "1199262  06/03/2015 10:00:00 PM  63XX BLOCK OF SW MARGUERITE CT   \n",
       "1139555  02/26/2015 03:22:00 AM           60XX BLOCK OF 51 AV S   \n",
       "\n",
       "        District/Sector Zone/Beat  Census Tract   Longitude   Latitude  \\\n",
       "340330                S        S2    11800.6000 -122.269990  47.530966   \n",
       "994005                O        O1     9300.3000 -122.316019  47.581021   \n",
       "779015                M        M1     8100.3012 -122.340670  47.607860   \n",
       "1199262               W        W1     9701.3029 -122.414065  47.573842   \n",
       "1139555               R        R3    10200.3015 -122.269896  47.548110   \n",
       "\n",
       "                      Incident Location  \\\n",
       "340330   (47.530965617, -122.269989578)   \n",
       "994005   (47.581021171, -122.316019387)   \n",
       "779015   (47.607860352, -122.340669908)   \n",
       "1199262   (47.573842098, -122.41406469)   \n",
       "1139555  (47.548109671, -122.269896389)   \n",
       "\n",
       "                             Initial Type Description Initial Type Subgroup  \\\n",
       "340330                                            NaN                   NaN   \n",
       "994005                            DETOX - REQUEST FOR     LIQUOR VIOLATIONS   \n",
       "779015      ASLT - WITH OR W/O WEAPONS (NO SHOOTINGS)              ASSAULTS   \n",
       "1199262       TRU - FORGERY/CHKS/BUNCO/SCAMS/ID THEFT           FRAUD CALLS   \n",
       "1139555  AUTO THEFT - VEH THEFT OR THEFT AND RECOVERY           AUTO THEFTS   \n",
       "\n",
       "        Initial Type Group  \n",
       "340330                 NaN  \n",
       "994005   LIQUOR VIOLATIONS  \n",
       "779015            ASSAULTS  \n",
       "1199262        FRAUD CALLS  \n",
       "1139555    AUTO RECOVERIES  "
      ]
     },
     "execution_count": 51,
     "metadata": {},
     "output_type": "execute_result"
    }
   ],
   "source": [
    "dfsample.head()"
   ]
  },
  {
   "cell_type": "code",
   "execution_count": 53,
   "metadata": {
    "collapsed": false
   },
   "outputs": [
    {
     "data": {
      "text/plain": [
       "TRAFFIC RELATED CALLS                    21693\n",
       "SUSPICIOUS CIRCUMSTANCES                 18930\n",
       "DISTURBANCES                             16523\n",
       "LIQUOR VIOLATIONS                         6801\n",
       "FALSE ALARMS                              4600\n",
       "CAR PROWL                                 4474\n",
       "ACCIDENT INVESTIGATION                    3846\n",
       "BURGLARY                                  3662\n",
       "OTHER PROPERTY                            3507\n",
       "TRESPASS                                  3283\n",
       "SHOPLIFTING                               3233\n",
       "AUTO THEFTS                               2753\n",
       "NARCOTICS COMPLAINTS                      2562\n",
       "NUISANCE, MISCHIEF                        2329\n",
       "MENTAL HEALTH                             2106\n",
       "PROPERTY DAMAGE                           2097\n",
       "ASSAULTS                                  2046\n",
       "FRAUD CALLS                               1621\n",
       "ARREST                                    1575\n",
       "MOTOR VEHICLE COLLISION INVESTIGATION     1534\n",
       "HAZARDS                                   1482\n",
       "PROPERTY - MISSING, FOUND                 1353\n",
       "THREATS, HARASSMENT                       1347\n",
       "NUISANCE, MISCHIEF                        1003\n",
       "PERSON DOWN/INJURY                         857\n",
       "ROBBERY                                    789\n",
       "MISCELLANEOUS MISDEMEANORS                 710\n",
       "FALSE ALACAD                               634\n",
       "PERSONS - LOST, FOUND, MISSING             529\n",
       "BEHAVIORAL HEALTH                          437\n",
       "BIKE                                       383\n",
       "ANIMAL COMPLAINTS                          368\n",
       "PROSTITUTION                               307\n",
       "WEAPONS CALLS                              282\n",
       "LEWD CONDUCT                               259\n",
       "PROWLER                                    146\n",
       "HARBOR CALLS                               103\n",
       "DRIVE BY (NO INJURY)                        41\n",
       "OTHER VICE                                  41\n",
       "RECKLESS BURNING                            28\n",
       "HOMICIDE                                    24\n",
       "FAILURE TO REGISTER (SEX OFFENDER)          21\n",
       "PUBLIC GATHERINGS                           11\n",
       "VICE CALLS                                   2\n",
       "Name: Event Clearance Group, dtype: int64"
      ]
     },
     "execution_count": 53,
     "metadata": {},
     "output_type": "execute_result"
    }
   ],
   "source": [
    "dfsample['Event Clearance Group'].value_counts()"
   ]
  },
  {
   "cell_type": "code",
   "execution_count": 55,
   "metadata": {
    "collapsed": false
   },
   "outputs": [
    {
     "data": {
      "text/plain": [
       "SUSPICIOUS CIRCUMSTANCES          18930\n",
       "TRAFFIC RELATED CALLS             17591\n",
       "DISTURBANCES                      15835\n",
       "PARKING VIOLATIONS                 9482\n",
       "THEFT                              7123\n",
       "LIQUOR VIOLATIONS                  7060\n",
       "CAR PROWL                          4474\n",
       "BURGLARY ALARMS (FALSE)            4039\n",
       "NUISANCE, MISCHIEF COMPLAINTS      3332\n",
       "TRESPASS                           3188\n",
       "RESIDENTIAL BURGLARIES             2788\n",
       "NARCOTICS COMPLAINTS               2562\n",
       "MENTAL CALL                        2106\n",
       "PROPERTY DAMAGE                    2097\n",
       "AUTO THEFTS                        2009\n",
       "ASSAULTS                           1977\n",
       "FRAUD CALLS                        1621\n",
       "WARRANT CALLS                      1575\n",
       "HAZARDS                            1482\n",
       "PROPERTY - MISSING, FOUND          1353\n",
       "THREATS, HARASSMENT                1347\n",
       "COMMERCIAL BURGLARIES               874\n",
       "CASUALTIES                          857\n",
       "AUTO RECOVERIES                     744\n",
       "NOISE DISTURBANCE                   688\n",
       "GUN CALLS                           572\n",
       "BURGLARY ALACAD (FALSE)             557\n",
       "PERSONS - LOST, FOUND, MISSING      529\n",
       "ROBBERY                             500\n",
       "PANIC ALARMS (FALSE)                453\n",
       "CRISIS CALL                         437\n",
       "PARKS EXCLUSIONS                    416\n",
       "MISCELLANEOUS MISDEMEANORS          389\n",
       "ANIMAL COMPLAINTS                   368\n",
       "VICE CALLS                          350\n",
       "PROWLER                             146\n",
       "WEAPONS CALLS                       109\n",
       "VEHICLE ALARMS (FALSE)              108\n",
       "HARBOR CALLS                        103\n",
       "PANIC ALACAD (FALSE)                 67\n",
       "RECKLESS BURNING                     28\n",
       "HOMICIDE                             24\n",
       "SEX OFFENSE (NO RAPE)                21\n",
       "PUBLIC GATHERINGS                    11\n",
       "VEHICLE ALACAD (FALSE)               10\n",
       "Name: Event Clearance SubGroup, dtype: int64"
      ]
     },
     "execution_count": 55,
     "metadata": {},
     "output_type": "execute_result"
    }
   ],
   "source": [
    "dfsample['Event Clearance SubGroup'].value_counts()"
   ]
  },
  {
   "cell_type": "code",
   "execution_count": 61,
   "metadata": {
    "collapsed": false
   },
   "outputs": [
    {
     "data": {
      "text/plain": [
       "TRAFFIC RELATED CALLS    12211\n",
       "PARKING VIOLATIONS        9482\n",
       "Name: Event Clearance SubGroup, dtype: int64"
      ]
     },
     "execution_count": 61,
     "metadata": {},
     "output_type": "execute_result"
    }
   ],
   "source": [
    "df_traffic = dfsample[dfsample['Event Clearance Group']=='TRAFFIC RELATED CALLS']\n",
    "df_traffic['Event Clearance SubGroup'].value_counts()"
   ]
  },
  {
   "cell_type": "markdown",
   "metadata": {},
   "source": [
    "# Toss traffic related calls"
   ]
  },
  {
   "cell_type": "code",
   "execution_count": 63,
   "metadata": {
    "collapsed": false
   },
   "outputs": [
    {
     "data": {
      "text/plain": [
       "SUSPICIOUS CIRCUMSTANCES    18930\n",
       "Name: Event Clearance SubGroup, dtype: int64"
      ]
     },
     "execution_count": 63,
     "metadata": {},
     "output_type": "execute_result"
    }
   ],
   "source": [
    "df_suspicious = dfsample[dfsample['Event Clearance Group']=='SUSPICIOUS CIRCUMSTANCES']\n",
    "df_suspicious['Event Clearance SubGroup'].value_counts()"
   ]
  },
  {
   "cell_type": "code",
   "execution_count": 64,
   "metadata": {
    "collapsed": false
   },
   "outputs": [
    {
     "data": {
      "text/plain": [
       "SUSPICIOUS CIRCUMSTANCES          191020\n",
       "TRAFFIC RELATED CALLS             180120\n",
       "DISTURBANCES                      157119\n",
       "PARKING VIOLATIONS                 95678\n",
       "THEFT                              72151\n",
       "LIQUOR VIOLATIONS                  69938\n",
       "CAR PROWL                          44637\n",
       "BURGLARY ALARMS (FALSE)            39624\n",
       "NUISANCE, MISCHIEF COMPLAINTS      33679\n",
       "TRESPASS                           31581\n",
       "RESIDENTIAL BURGLARIES             27594\n",
       "NARCOTICS COMPLAINTS               25313\n",
       "PROPERTY DAMAGE                    21360\n",
       "MENTAL CALL                        20758\n",
       "ASSAULTS                           20370\n",
       "AUTO THEFTS                        20303\n",
       "FRAUD CALLS                        16035\n",
       "WARRANT CALLS                      15843\n",
       "HAZARDS                            14918\n",
       "PROPERTY - MISSING, FOUND          13685\n",
       "THREATS, HARASSMENT                13355\n",
       "CASUALTIES                          8854\n",
       "COMMERCIAL BURGLARIES               8495\n",
       "AUTO RECOVERIES                     7796\n",
       "NOISE DISTURBANCE                   6974\n",
       "PERSONS - LOST, FOUND, MISSING      5827\n",
       "GUN CALLS                           5581\n",
       "BURGLARY ALACAD (FALSE)             5524\n",
       "ROBBERY                             4850\n",
       "PANIC ALARMS (FALSE)                4675\n",
       "CRISIS CALL                         4468\n",
       "MISCELLANEOUS MISDEMEANORS          4127\n",
       "PARKS EXCLUSIONS                    4025\n",
       "VICE CALLS                          3713\n",
       "ANIMAL COMPLAINTS                   3367\n",
       "PROWLER                             1673\n",
       "WEAPONS CALLS                       1130\n",
       "VEHICLE ALARMS (FALSE)              1059\n",
       "HARBOR CALLS                         894\n",
       "PANIC ALACAD (FALSE)                 630\n",
       "HOMICIDE                             224\n",
       "RECKLESS BURNING                     221\n",
       "SEX OFFENSE (NO RAPE)                139\n",
       "PUBLIC GATHERINGS                    109\n",
       "VEHICLE ALACAD (FALSE)                99\n",
       "Name: Event Clearance SubGroup, dtype: int64"
      ]
     },
     "execution_count": 64,
     "metadata": {},
     "output_type": "execute_result"
    }
   ],
   "source": [
    "df['Event Clearance SubGroup'].value_counts()"
   ]
  },
  {
   "cell_type": "code",
   "execution_count": 65,
   "metadata": {
    "collapsed": false
   },
   "outputs": [
    {
     "data": {
      "text/plain": [
       "K     11593\n",
       "M     10917\n",
       "E      8667\n",
       "D      8094\n",
       "U      7327\n",
       "N      7051\n",
       "J      6904\n",
       "B      6695\n",
       "C      6467\n",
       "Q      6203\n",
       "R      6145\n",
       "O      6100\n",
       "W      6042\n",
       "L      5933\n",
       "S      5746\n",
       "G      5245\n",
       "F      5197\n",
       "99        5\n",
       "H         1\n",
       "Name: District/Sector, dtype: int64"
      ]
     },
     "execution_count": 65,
     "metadata": {},
     "output_type": "execute_result"
    }
   ],
   "source": [
    "dfsample['District/Sector'].value_counts()"
   ]
  },
  {
   "cell_type": "code",
   "execution_count": 66,
   "metadata": {
    "collapsed": false
   },
   "outputs": [
    {
     "data": {
      "text/plain": [
       "3XX BLOCK OF 2 AV S                  706\n",
       "4XX BLOCK OF PINE ST                 434\n",
       "8XX BLOCK OF VIRGINIA ST             374\n",
       "14XX BLOCK OF BROADWAY               331\n",
       "3XX BLOCK OF 2ND AV ET S             315\n",
       "15XX BLOCK OF 3RD AVE                290\n",
       "5XX BLOCK OF 3 AV                    283\n",
       "5XX BLOCK OF PINE ST                 278\n",
       "3 AV / PIKE ST                       263\n",
       "1XX BLOCK OF S WASHINGTON ST         263\n",
       "3XX BLOCK OF PINE ST                 257\n",
       "2XX BLOCK OF PIKE ST                 254\n",
       "5XX BLOCK OF 3RD AVE                 253\n",
       "3 AV / PINE ST                       243\n",
       "19XX BLOCK OF WESTERN AV             240\n",
       "1XX BLOCK OF BROADWAY E              222\n",
       "14XX BLOCK OF S LANE ST              220\n",
       "47XX BLOCK OF UNIVERSITY WAY NE      213\n",
       "4XX BLOCK OF NE NORTHGATE WY         208\n",
       "15XX BLOCK OF BROADWAY               207\n",
       "1XX BLOCK OF PIKE ST                 183\n",
       "16XX BLOCK OF 11 AV                  179\n",
       "30XX BLOCK OF S MYRTLE ST            166\n",
       "4XX BLOCK OF BROADWAY E              160\n",
       "26XX BLOCK OF SW BARTON ST           159\n",
       "14XX BLOCK OF 3 AV                   156\n",
       "4 AV / PINE ST                       151\n",
       "4XX BLOCK OF 2 AV S                  148\n",
       "14XX BLOCK OF 3RD AVE                143\n",
       "6XX BLOCK OF 5TH AVE S               142\n",
       "                                    ... \n",
       "9XX BLOCK OF NE 63RD ST                1\n",
       "54XX BLOCK OF 35 AV SW                 1\n",
       "30XX BLOCK OF SW HINDS ST              1\n",
       "45XX BLOCK OF SAND POINT WAY NE        1\n",
       "17 AV NW / NW 63 ST                    1\n",
       "17XX BLOCK OF 46 AV SW                 1\n",
       "127XX BLOCK OF DAYTON AV N             1\n",
       "98XX BLOCK OF 62ND AVE S               1\n",
       "33XX BLOCK OF S CHARLESTOWN ST         1\n",
       "11 AV NW / NW 80 ST                    1\n",
       "49XX BLOCK OF 39TH AVE S               1\n",
       "S SPOKANE ST BR / EB                   1\n",
       "12XX BLOCK OF NW 121ST ST              1\n",
       "19XX BLOCK OF 42 AV SW                 1\n",
       "10XX BLOCK OF NE 120TH ST              1\n",
       "30 AV S / S MASSACHUSETTS ST           1\n",
       "48XX BLOCK OF 49 AV S                  1\n",
       "18 AV NW / NW 87 ST                    1\n",
       "16 AV NW / NW 85 ST                    1\n",
       "TALLMAN AV NW / NW IONE PL             1\n",
       "RAVENNA AV NE / NE 89 ST               1\n",
       "75XX BLOCK OF FAIRWAY DR NE            1\n",
       "57XX BLOCK OF KIRKWOOD PL N            1\n",
       "57XX BLOCK OF 55TH AVE S               1\n",
       "LINDEN AV N / N 43 ST                  1\n",
       "30XX BLOCK OF W LAURELHURST DR NE      1\n",
       "19XX BLOCK OF 4TH AVE W                1\n",
       "QUEEN ANNE AV N / W DRAVUS ST          1\n",
       "36XX BLOCK OF E DENNY WAY              1\n",
       "6XX BLOCK OF N 103RD ST                1\n",
       "Name: Hundred Block Location, dtype: int64"
      ]
     },
     "execution_count": 66,
     "metadata": {},
     "output_type": "execute_result"
    }
   ],
   "source": [
    "dfsample['Hundred Block Location'].value_counts()"
   ]
  },
  {
   "cell_type": "code",
   "execution_count": 67,
   "metadata": {
    "collapsed": false
   },
   "outputs": [
    {
     "data": {
      "text/plain": [
       "8100.2004     776\n",
       "9200.2021     609\n",
       "8100.2010     609\n",
       "8100.2005     521\n",
       "8400.1017     456\n",
       "8001.2008     451\n",
       "8100.2035     450\n",
       "7500.4006     446\n",
       "9200.2028     415\n",
       "7100.2001     380\n",
       "8100.2002     379\n",
       "7300.3022     363\n",
       "8100.2009     363\n",
       "8200.1003     342\n",
       "8200.1004     330\n",
       "8002.1001     320\n",
       "1200.4005     320\n",
       "8100.2001     292\n",
       "8100.1027     269\n",
       "5301.2001     251\n",
       "7500.5008     246\n",
       "9100.1002     245\n",
       "5301.2000     228\n",
       "9200.2002     221\n",
       "11800.4000    221\n",
       "7500.4016     217\n",
       "11000.3000    212\n",
       "8100.3003     210\n",
       "8100.2043     209\n",
       "600.3005      208\n",
       "             ... \n",
       "6900.2011       1\n",
       "7200.1082       1\n",
       "7200.1081       1\n",
       "800.1001        1\n",
       "2700.6012       1\n",
       "7800.3024       1\n",
       "11401.3016      1\n",
       "11000.3015      1\n",
       "4200.2008       1\n",
       "10100.1030      1\n",
       "9500.1066       1\n",
       "900.1008        1\n",
       "9702.3008       1\n",
       "100.5002        1\n",
       "6400.3001       1\n",
       "10702.3012      1\n",
       "10000.6019      1\n",
       "11800.2015      1\n",
       "12100.1022      1\n",
       "7800.7018       1\n",
       "5700.1039       1\n",
       "2100.2010       1\n",
       "5302.3016       1\n",
       "4600.2018       1\n",
       "2800.4016       1\n",
       "3900.4010       1\n",
       "9800.1014       1\n",
       "10001.3001      1\n",
       "12000.4012      1\n",
       "2600.5009       1\n",
       "Name: Census Tract, dtype: int64"
      ]
     },
     "execution_count": 67,
     "metadata": {},
     "output_type": "execute_result"
    }
   ],
   "source": [
    "dfsample['Census Tract'].value_counts()"
   ]
  },
  {
   "cell_type": "code",
   "execution_count": 68,
   "metadata": {
    "collapsed": false
   },
   "outputs": [
    {
     "data": {
      "text/plain": [
       "SUSPICIOUS PERSON                                          14117\n",
       "DISTURBANCE, OTHER                                         11549\n",
       "PARKING VIOLATION (EXCEPT ABANDONED VEHICLES)               8936\n",
       "TRAFFIC (MOVING) VIOLATION                                  8907\n",
       "LIQUOR VIOLATION - INTOXICATED PERSON                       5204\n",
       "SUSPICIOUS VEHICLE                                          4056\n",
       "THEFT - CAR PROWL                                           4014\n",
       "ACCIDENT INVESTIGATION                                      3846\n",
       "THEFT - MISCELLANEOUS                                       3507\n",
       "MISCHIEF, NUISANCE COMPLAINTS                               3332\n",
       "NOISE DISTURBANCE                                           3282\n",
       "SHOPLIFT                                                    3233\n",
       "ALARMS - RESIDENTIAL BURGLARY (FALSE)                       2181\n",
       "MENTAL COMPLAINT                                            2096\n",
       "TRESPASS                                                    2022\n",
       "AUTO THEFT                                                  2009\n",
       "ASSAULTS, OTHER                                             1969\n",
       "NARCOTICS, OTHER                                            1873\n",
       "ALARMS - COMMERCIAL BURGLARY (FALSE)                        1858\n",
       "PROPERTY DESTRUCTION                                        1848\n",
       "BURGLARY - RESIDENTIAL, UNOCCUPIED                          1761\n",
       "MOTOR VEHICLE COLLISION                                     1534\n",
       "LIQUOR VIOLATION - ADULT                                    1530\n",
       "HAZARDS                                                     1482\n",
       "FRAUD (INCLUDING IDENTITY THEFT)                            1219\n",
       "DRIVING WHILE UNDER INFLUENCE (DUI)                         1218\n",
       "HARASSMENT, THREATS                                         1208\n",
       "PROPERTY - FOUND (FOLLOW UP TO SPD CASE)                    1167\n",
       "TRESPASS                                                    1166\n",
       "BLOCKING VEHICLE                                            1015\n",
       "                                                           ...  \n",
       "PROPERTY - FOUND (NON SPD GO#)                                30\n",
       "RECKLESS BURNING                                              28\n",
       "HOMICIDE                                                      24\n",
       "HARBOR - DEBRIS, NAVIGATIONAL HAZARDS                         23\n",
       "SEX OFFENDER - FAILURE TO REGISTER                            21\n",
       "TRAFFIC CONTROL (SPECIAL EVENTS)                              13\n",
       "NARCOTICS WARRANT SERVICE                                     11\n",
       "HARBOR - ASSIST BOATER (NON EMERGENCY)                        10\n",
       "ALACAD - VEHICLE (FALSE)                                      10\n",
       "MENTAL PERSON PICK-UP OR TRANSPORT                            10\n",
       "PURSUIT                                                        9\n",
       "CROWD MANAGEMENT (Stand by only)                               9\n",
       "LOST PERSON                                                    8\n",
       "PORNOGRAPHY                                                    5\n",
       "ASSAULTS, GANG RELATED                                         5\n",
       "GAMBLING                                                       5\n",
       "HARBOR - BOAT ACCIDENT                                         4\n",
       "HARBOR - VESSEL ABANDONED                                      4\n",
       "HARBOR - VESSEL THEFT                                          4\n",
       "AWOL                                                           4\n",
       "SOAP (STAY OUT OF AREA OF PROSTITUTION) ORDER VIOLATION        4\n",
       "AWOL                                                           4\n",
       "ASSAULTS, GANG RELATED                                         3\n",
       "HARBOR - CODE VIOLATION                                        3\n",
       "LIQUOR VIOLATIONS (BUSINESS)                                   2\n",
       "CRISIS COMPLAINT - PICK-UP OR TRANSPORT                        2\n",
       "DEMONSTRATION MANAGEMENT (Control tactics used)                2\n",
       "HARBOR - VESSEL THEFT AND RECOVERY                             1\n",
       "HARBOR - MARINE FIRE                                           1\n",
       "HARBOR - VESSEL RECOVERY                                       1\n",
       "Name: Event Clearance Description, dtype: int64"
      ]
     },
     "execution_count": 68,
     "metadata": {},
     "output_type": "execute_result"
    }
   ],
   "source": [
    "dfsample['Event Clearance Description'].value_counts()"
   ]
  },
  {
   "cell_type": "code",
   "execution_count": 79,
   "metadata": {
    "collapsed": false
   },
   "outputs": [
    {
     "data": {
      "text/plain": [
       "105333"
      ]
     },
     "execution_count": 79,
     "metadata": {},
     "output_type": "execute_result"
    }
   ],
   "source": [
    "len(set(df['Incident Location']))"
   ]
  },
  {
   "cell_type": "markdown",
   "metadata": {},
   "source": [
    "### longtitude latitude limited region"
   ]
  },
  {
   "cell_type": "code",
   "execution_count": 86,
   "metadata": {
    "collapsed": false
   },
   "outputs": [],
   "source": [
    "df_region = df[(df['Latitude'] > 47.595114) & (df['Latitude'] < 47.6129902)]\n",
    "df_region = df_region[(df_region['Longitude'] > -122.3521897) & (df_region['Longitude'] < -122.3211315)]"
   ]
  },
  {
   "cell_type": "code",
   "execution_count": 87,
   "metadata": {
    "collapsed": false
   },
   "outputs": [
    {
     "data": {
      "text/html": [
       "<div>\n",
       "<table border=\"1\" class=\"dataframe\">\n",
       "  <thead>\n",
       "    <tr style=\"text-align: right;\">\n",
       "      <th></th>\n",
       "      <th>CAD Event Number</th>\n",
       "      <th>General Offense Number</th>\n",
       "      <th>Event Clearance Code</th>\n",
       "      <th>Census Tract</th>\n",
       "      <th>Longitude</th>\n",
       "      <th>Latitude</th>\n",
       "    </tr>\n",
       "  </thead>\n",
       "  <tbody>\n",
       "    <tr>\n",
       "      <th>count</th>\n",
       "      <td>2.103890e+05</td>\n",
       "      <td>2.103890e+05</td>\n",
       "      <td>208227.000000</td>\n",
       "      <td>210014.000000</td>\n",
       "      <td>210389.000000</td>\n",
       "      <td>210389.000000</td>\n",
       "    </tr>\n",
       "    <tr>\n",
       "      <th>mean</th>\n",
       "      <td>1.305797e+10</td>\n",
       "      <td>1.547383e+09</td>\n",
       "      <td>223.429233</td>\n",
       "      <td>8389.166139</td>\n",
       "      <td>-122.334088</td>\n",
       "      <td>47.606376</td>\n",
       "    </tr>\n",
       "    <tr>\n",
       "      <th>std</th>\n",
       "      <td>1.878125e+09</td>\n",
       "      <td>7.985494e+08</td>\n",
       "      <td>120.551599</td>\n",
       "      <td>494.537999</td>\n",
       "      <td>0.005805</td>\n",
       "      <td>0.004922</td>\n",
       "    </tr>\n",
       "    <tr>\n",
       "      <th>min</th>\n",
       "      <td>9.000369e+09</td>\n",
       "      <td>2.011140e+05</td>\n",
       "      <td>10.000000</td>\n",
       "      <td>200.100000</td>\n",
       "      <td>-122.351190</td>\n",
       "      <td>47.595130</td>\n",
       "    </tr>\n",
       "    <tr>\n",
       "      <th>25%</th>\n",
       "      <td>1.100039e+10</td>\n",
       "      <td>2.016917e+08</td>\n",
       "      <td>162.000000</td>\n",
       "      <td>8100.200200</td>\n",
       "      <td>-122.338247</td>\n",
       "      <td>47.601718</td>\n",
       "    </tr>\n",
       "    <tr>\n",
       "      <th>50%</th>\n",
       "      <td>1.300045e+10</td>\n",
       "      <td>2.012137e+09</td>\n",
       "      <td>200.000000</td>\n",
       "      <td>8100.204200</td>\n",
       "      <td>-122.334190</td>\n",
       "      <td>47.608260</td>\n",
       "    </tr>\n",
       "    <tr>\n",
       "      <th>75%</th>\n",
       "      <td>1.500011e+10</td>\n",
       "      <td>2.014347e+09</td>\n",
       "      <td>280.000000</td>\n",
       "      <td>8500.300400</td>\n",
       "      <td>-122.330510</td>\n",
       "      <td>47.610619</td>\n",
       "    </tr>\n",
       "    <tr>\n",
       "      <th>max</th>\n",
       "      <td>1.600018e+10</td>\n",
       "      <td>2.016177e+09</td>\n",
       "      <td>617.000000</td>\n",
       "      <td>12100.100200</td>\n",
       "      <td>-122.321144</td>\n",
       "      <td>47.612990</td>\n",
       "    </tr>\n",
       "  </tbody>\n",
       "</table>\n",
       "</div>"
      ],
      "text/plain": [
       "       CAD Event Number  General Offense Number  Event Clearance Code  \\\n",
       "count      2.103890e+05            2.103890e+05         208227.000000   \n",
       "mean       1.305797e+10            1.547383e+09            223.429233   \n",
       "std        1.878125e+09            7.985494e+08            120.551599   \n",
       "min        9.000369e+09            2.011140e+05             10.000000   \n",
       "25%        1.100039e+10            2.016917e+08            162.000000   \n",
       "50%        1.300045e+10            2.012137e+09            200.000000   \n",
       "75%        1.500011e+10            2.014347e+09            280.000000   \n",
       "max        1.600018e+10            2.016177e+09            617.000000   \n",
       "\n",
       "        Census Tract      Longitude       Latitude  \n",
       "count  210014.000000  210389.000000  210389.000000  \n",
       "mean     8389.166139    -122.334088      47.606376  \n",
       "std       494.537999       0.005805       0.004922  \n",
       "min       200.100000    -122.351190      47.595130  \n",
       "25%      8100.200200    -122.338247      47.601718  \n",
       "50%      8100.204200    -122.334190      47.608260  \n",
       "75%      8500.300400    -122.330510      47.610619  \n",
       "max     12100.100200    -122.321144      47.612990  "
      ]
     },
     "execution_count": 87,
     "metadata": {},
     "output_type": "execute_result"
    }
   ],
   "source": [
    "df_region.describe()"
   ]
  },
  {
   "cell_type": "code",
   "execution_count": 88,
   "metadata": {
    "collapsed": false
   },
   "outputs": [
    {
     "data": {
      "text/html": [
       "<div>\n",
       "<table border=\"1\" class=\"dataframe\">\n",
       "  <thead>\n",
       "    <tr style=\"text-align: right;\">\n",
       "      <th></th>\n",
       "      <th>CAD Event Number</th>\n",
       "      <th>General Offense Number</th>\n",
       "      <th>Event Clearance Code</th>\n",
       "      <th>Census Tract</th>\n",
       "      <th>Longitude</th>\n",
       "      <th>Latitude</th>\n",
       "    </tr>\n",
       "  </thead>\n",
       "  <tbody>\n",
       "    <tr>\n",
       "      <th>count</th>\n",
       "      <td>2.103890e+05</td>\n",
       "      <td>2.103890e+05</td>\n",
       "      <td>208227.000000</td>\n",
       "      <td>210014.000000</td>\n",
       "      <td>210389.000000</td>\n",
       "      <td>210389.000000</td>\n",
       "    </tr>\n",
       "    <tr>\n",
       "      <th>mean</th>\n",
       "      <td>1.305797e+10</td>\n",
       "      <td>1.547383e+09</td>\n",
       "      <td>223.429233</td>\n",
       "      <td>8389.166139</td>\n",
       "      <td>-122.334088</td>\n",
       "      <td>47.606376</td>\n",
       "    </tr>\n",
       "    <tr>\n",
       "      <th>std</th>\n",
       "      <td>1.878125e+09</td>\n",
       "      <td>7.985494e+08</td>\n",
       "      <td>120.551599</td>\n",
       "      <td>494.537999</td>\n",
       "      <td>0.005805</td>\n",
       "      <td>0.004922</td>\n",
       "    </tr>\n",
       "    <tr>\n",
       "      <th>min</th>\n",
       "      <td>9.000369e+09</td>\n",
       "      <td>2.011140e+05</td>\n",
       "      <td>10.000000</td>\n",
       "      <td>200.100000</td>\n",
       "      <td>-122.351190</td>\n",
       "      <td>47.595130</td>\n",
       "    </tr>\n",
       "    <tr>\n",
       "      <th>25%</th>\n",
       "      <td>1.100039e+10</td>\n",
       "      <td>2.016917e+08</td>\n",
       "      <td>162.000000</td>\n",
       "      <td>8100.200200</td>\n",
       "      <td>-122.338247</td>\n",
       "      <td>47.601718</td>\n",
       "    </tr>\n",
       "    <tr>\n",
       "      <th>50%</th>\n",
       "      <td>1.300045e+10</td>\n",
       "      <td>2.012137e+09</td>\n",
       "      <td>200.000000</td>\n",
       "      <td>8100.204200</td>\n",
       "      <td>-122.334190</td>\n",
       "      <td>47.608260</td>\n",
       "    </tr>\n",
       "    <tr>\n",
       "      <th>75%</th>\n",
       "      <td>1.500011e+10</td>\n",
       "      <td>2.014347e+09</td>\n",
       "      <td>280.000000</td>\n",
       "      <td>8500.300400</td>\n",
       "      <td>-122.330510</td>\n",
       "      <td>47.610619</td>\n",
       "    </tr>\n",
       "    <tr>\n",
       "      <th>max</th>\n",
       "      <td>1.600018e+10</td>\n",
       "      <td>2.016177e+09</td>\n",
       "      <td>617.000000</td>\n",
       "      <td>12100.100200</td>\n",
       "      <td>-122.321144</td>\n",
       "      <td>47.612990</td>\n",
       "    </tr>\n",
       "  </tbody>\n",
       "</table>\n",
       "</div>"
      ],
      "text/plain": [
       "       CAD Event Number  General Offense Number  Event Clearance Code  \\\n",
       "count      2.103890e+05            2.103890e+05         208227.000000   \n",
       "mean       1.305797e+10            1.547383e+09            223.429233   \n",
       "std        1.878125e+09            7.985494e+08            120.551599   \n",
       "min        9.000369e+09            2.011140e+05             10.000000   \n",
       "25%        1.100039e+10            2.016917e+08            162.000000   \n",
       "50%        1.300045e+10            2.012137e+09            200.000000   \n",
       "75%        1.500011e+10            2.014347e+09            280.000000   \n",
       "max        1.600018e+10            2.016177e+09            617.000000   \n",
       "\n",
       "        Census Tract      Longitude       Latitude  \n",
       "count  210014.000000  210389.000000  210389.000000  \n",
       "mean     8389.166139    -122.334088      47.606376  \n",
       "std       494.537999       0.005805       0.004922  \n",
       "min       200.100000    -122.351190      47.595130  \n",
       "25%      8100.200200    -122.338247      47.601718  \n",
       "50%      8100.204200    -122.334190      47.608260  \n",
       "75%      8500.300400    -122.330510      47.610619  \n",
       "max     12100.100200    -122.321144      47.612990  "
      ]
     },
     "execution_count": 88,
     "metadata": {},
     "output_type": "execute_result"
    }
   ],
   "source": [
    "df_region.describe()"
   ]
  },
  {
   "cell_type": "code",
   "execution_count": 95,
   "metadata": {
    "collapsed": false
   },
   "outputs": [],
   "source": [
    "#df_region['Event Clearance Date']"
   ]
  },
  {
   "cell_type": "code",
   "execution_count": 97,
   "metadata": {
    "collapsed": false,
    "scrolled": true
   },
   "outputs": [
    {
     "data": {
      "text/plain": [
       "LIQUOR VIOLATION - INTOXICATED PERSON                                      29324\n",
       "DISTURBANCE, OTHER                                                         23782\n",
       "SUSPICIOUS PERSON                                                          17195\n",
       "MISCHIEF, NUISANCE COMPLAINTS                                              11349\n",
       "SHOPLIFT                                                                   10723\n",
       "TRAFFIC (MOVING) VIOLATION                                                 10154\n",
       "PARKING VIOLATION (EXCEPT ABANDONED VEHICLES)                               8885\n",
       "NARCOTICS, OTHER                                                            8712\n",
       "THEFT - MISCELLANEOUS                                                       7222\n",
       "THEFT - CAR PROWL                                                           7017\n",
       "TRESPASS                                                                    5767\n",
       "ASSAULTS, OTHER                                                             5267\n",
       "LIQUOR VIOLATION - ADULT                                                    4617\n",
       "MENTAL COMPLAINT                                                            4132\n",
       "ACCIDENT INVESTIGATION                                                      4066\n",
       "TRESPASS                                                                    3280\n",
       "SUSPICIOUS VEHICLE                                                          2393\n",
       "ALARMS - COMMERCIAL BURGLARY (FALSE)                                        2282\n",
       "NOISE DISTURBANCE                                                           2272\n",
       "FELONY WARRANT SERVICE                                                      2172\n",
       "MISDEMEANOR WARRANT SERVICE                                                 2063\n",
       "PROPERTY DESTRUCTION                                                        1967\n",
       "HARASSMENT, THREATS                                                         1858\n",
       "FIGHT DISTURBANCE                                                           1853\n",
       "PEDESTRIAN VIOLATION                                                        1810\n",
       "MOTOR VEHICLE COLLISION                                                     1729\n",
       "CASUALTY (NON CRIMINAL/TRAFFIC) - MAN DOWN, SICK PERSONS, INJURED, DOA)     1705\n",
       "PROPERTY - FOUND (FOLLOW UP TO SPD CASE)                                    1529\n",
       "HAZARDS                                                                     1525\n",
       "RECKLESS ENDANGERMENT, LITTERING, PARKS CODE VIOLATIONS                     1496\n",
       "                                                                           ...  \n",
       "DISTURBANCE, GANG RELATED                                                     22\n",
       "VICE, OTHER                                                                   18\n",
       "RECKLESS BURNING                                                              18\n",
       "JUVENILE DISTURBANCE                                                          18\n",
       "CRISIS COMPLAINT - PICK-UP OR TRANSPORT                                       15\n",
       "DEMONSTRATION MANAGEMENT (Control tactics used)                               15\n",
       "ALARMS - RESIDENTIAL PANIC (FALSE)                                            15\n",
       "TRAFFIC CONTROL (SPECIAL EVENTS)                                              14\n",
       "GAMBLING                                                                      13\n",
       "DRIVE BY SHOOTING (NO INJURIES)                                               11\n",
       "PURSUIT                                                                       11\n",
       "LOST PERSON                                                                   10\n",
       "ALACAD - RESIDENTIAL BURGLARY (FALSE)                                         10\n",
       "HARBOR - BOAT ACCIDENT                                                         8\n",
       "PORNOGRAPHY                                                                    7\n",
       "HARBOR - WATER EMERGENCIES                                                     7\n",
       "AWOL                                                                           5\n",
       "ASSAULTS, GANG RELATED                                                         5\n",
       "HARBOR - VESSEL THEFT                                                          4\n",
       "ALACAD - RESIDENTIAL PANIC (FALSE)                                             4\n",
       "LIQUOR VIOLATIONS (BUSINESS)                                                   3\n",
       "AWOL                                                                           3\n",
       "ASSAULTS, GANG RELATED                                                         3\n",
       "HARBOR - DEBRIS, NAVIGATIONAL HAZARDS                                          3\n",
       "DOMESTIC SEX TRAFFICKING, ADULT                                                2\n",
       "HARBOR - VESSEL ABANDONED                                                      2\n",
       "ALACAD - VEHICLE (FALSE)                                                       1\n",
       "HARBOR - MARINE FIRE                                                           1\n",
       "DOMESTIC HUMAN TRAFFICKING, ADULT                                              1\n",
       "HARBOR - VESSEL THEFT AND RECOVERY                                             1\n",
       "Name: Event Clearance Description, dtype: int64"
      ]
     },
     "execution_count": 97,
     "metadata": {},
     "output_type": "execute_result"
    }
   ],
   "source": [
    "df_region['Event Clearance Description'].value_counts()"
   ]
  },
  {
   "cell_type": "markdown",
   "metadata": {},
   "source": [
    "### Only Use Travel Incidents"
   ]
  },
  {
   "cell_type": "code",
   "execution_count": null,
   "metadata": {
    "collapsed": true
   },
   "outputs": [],
   "source": [
    "df.query('c != [1, 2]')"
   ]
  },
  {
   "cell_type": "code",
   "execution_count": 134,
   "metadata": {
    "collapsed": false
   },
   "outputs": [],
   "source": [
    "df_travel = df_region[df_region['Event Clearance Description'] != 'SHOPLIFT']\n",
    "df_travel = df_travel[df_travel['Event Clearance Description'] != 'HARBOR - VESSEL THEFT']\n",
    "df_travel = df_travel[df_travel['Event Clearance Description'] != 'TRAFFIC (MOVING) VIOLATION']\n",
    "df_travel = df_travel[df_travel['Event Clearance Description'] != 'PARKING VIOLATION (EXCEPT ABANDONED VEHICLES)']\n",
    "df_travel = df_travel[df_travel['Event Clearance Description'] != 'TRESPASS']\n",
    "df_travel = df_travel[df_travel['Event Clearance Description'] != 'NOISE DISTURBANCE']\n",
    "df_travel = df_travel[df_travel['Event Clearance Description'] != 'MOTOR VEHICLE COLLISION']\n",
    "df_travel = df_travel[df_travel['Event Clearance Description'] != 'PROPERTY - FOUND (FOLLOW UP TO SPD CASE)']\n",
    "df_travel = df_travel[df_travel['Event Clearance Description'] != 'MENTAL COMPLAINT']\n",
    "df_travel = df_travel[df_travel['Event Clearance Description'] != 'PROPERTY DESTRUCTION']\n",
    "df_travel = df_travel[df_travel['Event Clearance Description'] != 'GAMBLING']\n",
    "df_travel = df_travel[df_travel['Event Clearance Description'] != 'TRESPASS ']\n",
    "df_travel = df_travel[df_travel['Event Clearance Description'] != 'ALARMS - COMMERCIAL BURGLARY (FALSE)']\n",
    "df_travel = df_travel[df_travel['Event Clearance Description'] != 'BLOCKING VEHICLE']\n",
    "df_travel = df_travel[df_travel['Event Clearance Description'] != 'AWOL']\n",
    "df_travel = df_travel[df_travel['Event Clearance Description'] != 'BURGLARY - COMMERCIAL']\n",
    "df_travel = df_travel[df_travel['Event Clearance Description'] != 'AWOL ']\n",
    "df_travel = df_travel[df_travel['Event Clearance Description'] != 'ALACAD - RESIDENTIAL BURGLARY (FALSE)']"
   ]
  },
  {
   "cell_type": "code",
   "execution_count": 140,
   "metadata": {
    "collapsed": false
   },
   "outputs": [
    {
     "name": "stdout",
     "output_type": "stream",
     "text": [
      "LIQUOR VIOLATION - INTOXICATED PERSON                                      29324\n",
      "DISTURBANCE, OTHER                                                         23782\n",
      "SUSPICIOUS PERSON                                                          17195\n",
      "MISCHIEF, NUISANCE COMPLAINTS                                              11349\n",
      "NARCOTICS, OTHER                                                            8712\n",
      "THEFT - MISCELLANEOUS                                                       7222\n",
      "THEFT - CAR PROWL                                                           7017\n",
      "ASSAULTS, OTHER                                                             5267\n",
      "LIQUOR VIOLATION - ADULT                                                    4617\n",
      "ACCIDENT INVESTIGATION                                                      4066\n",
      "SUSPICIOUS VEHICLE                                                          2393\n",
      "FELONY WARRANT SERVICE                                                      2172\n",
      "MISDEMEANOR WARRANT SERVICE                                                 2063\n",
      "HARASSMENT, THREATS                                                         1858\n",
      "FIGHT DISTURBANCE                                                           1853\n",
      "PEDESTRIAN VIOLATION                                                        1810\n",
      "CASUALTY (NON CRIMINAL/TRAFFIC) - MAN DOWN, SICK PERSONS, INJURED, DOA)     1705\n",
      "HAZARDS                                                                     1525\n",
      "RECKLESS ENDANGERMENT, LITTERING, PARKS CODE VIOLATIONS                     1496\n",
      "FRAUD (INCLUDING IDENTITY THEFT)                                            1388\n",
      "AUTO THEFT                                                                  1101\n",
      "CRISIS COMPLAINT - GENERAL                                                  1061\n",
      "DRIVING WHILE UNDER INFLUENCE (DUI)                                          933\n",
      "STRONG ARM ROBBERY                                                           791\n",
      "MOTORIST ASSIST                                                              722\n",
      "NARCOTICS, DRUG TRAFFIC LOITERING                                            602\n",
      "LEWD CONDUCT                                                                 566\n",
      "MISSING PERSON                                                               561\n",
      "BICYCLE THEFT                                                                533\n",
      "MARIJUANA PUBLIC USE (NOT DISPENSARY)                                        515\n",
      "NARCOTICS, DRUG TRAFFIC LOITERING                                            449\n",
      "NARCOTICS ACTIVITY REPORT                                                    431\n",
      "FORGERY, BAD CHECKS                                                          429\n",
      "ARMED ROBBERY                                                                414\n",
      "SUSPICIOUS CIRCUMSTANCES - BUILDING (OPEN DOOR, ETC.)                        408\n",
      "BURGLARY - RESIDENTIAL, UNOCCUPIED                                           401\n",
      "TRESPASS - PARKS EXCLUSION                                                   393\n",
      "STRONG ARM ROBBERY                                                           349\n",
      "PARKS EXCLUSION                                                              331\n",
      "PROPERTY - MISSING                                                           329\n",
      "ALARMS - COMMERCIAL PANIC (FALSE)                                            310\n",
      "ALACAD - COMMERCIAL BURGLARY (FALSE)                                         301\n",
      "CASUALTY - DRUG RELATED (OVERDOSE, OTHER)                                    300\n",
      "PERSON WITH A WEAPON (NOT GUN)                                               291\n",
      "PERSON WITH A GUN                                                            274\n",
      "AUTO RECOVERY                                                                272\n",
      "PARKS EXCLUSION                                                              255\n",
      "BURGLARY - UNOCCUPIED STRUCTURE ON RESIDENTIAL PROPERTY                      251\n",
      "BURGLARY - COMMERCIAL                                                        250\n",
      "NARCOTICS FOUND, RECOVERED                                                   212\n",
      "Name: Event Clearance Description, dtype: int64\n",
      "GANG GRAFFITI                                      200\n",
      "NOISE DISTURBANCE, RESIDENTIAL                     176\n",
      "PROWLER                                            169\n",
      "PROSTITUTION                                       161\n",
      "HARASSMENT, THREATS - BY TELEPHONE, WRITING        145\n",
      "FOUND PERSON                                       138\n",
      "ANIMALS - INJURED, DEAD, DANGEROUS                 132\n",
      "BURGLARY - RESIDENTIAL, OCCUPIED                   126\n",
      "LICENSE PLATE THEFT OR LOSS                        117\n",
      "THEFT - AUTO ACCESSORIES                           115\n",
      "ANIMAL NOISE, STRAYS, BITES                        101\n",
      "AUTO THEFT AND RECOVERY                             91\n",
      "ALARMS - RESIDENTIAL BURGLARY (FALSE)               83\n",
      "ASSAULTS, FIREARM INVOLVED                          77\n",
      "ABANDONED VEHICLE                                   74\n",
      "ALARMS - VEHICLE (FALSE)                            65\n",
      "LIQUOR VIOLATION - MINOR                            56\n",
      "NOISE DISTURBANCE, RESIDENTIAL                      40\n",
      "PROPERTY - FOUND (NON SPD GO#)                      40\n",
      "MENTAL PERSON PICK-UP OR TRANSPORT                  39\n",
      "ALACAD - COMMERCIAL PANIC (FALSE)                   38\n",
      "HOMICIDE                                            31\n",
      "CROWD MANAGEMENT (Stand by only)                    24\n",
      "NARCOTICS WARRANT SERVICE                           24\n",
      "SEX OFFENDER - FAILURE TO REGISTER                  23\n",
      "DISTURBANCE, GANG RELATED                           22\n",
      "VICE, OTHER                                         18\n",
      "JUVENILE DISTURBANCE                                18\n",
      "RECKLESS BURNING                                    18\n",
      "CRISIS COMPLAINT - PICK-UP OR TRANSPORT             15\n",
      "DEMONSTRATION MANAGEMENT (Control tactics used)     15\n",
      "ALARMS - RESIDENTIAL PANIC (FALSE)                  15\n",
      "TRAFFIC CONTROL (SPECIAL EVENTS)                    14\n",
      "DRIVE BY SHOOTING (NO INJURIES)                     11\n",
      "PURSUIT                                             11\n",
      "LOST PERSON                                         10\n",
      "HARBOR - BOAT ACCIDENT                               8\n",
      "PORNOGRAPHY                                          7\n",
      "HARBOR - WATER EMERGENCIES                           7\n",
      "ASSAULTS, GANG RELATED                               5\n",
      "ALACAD - RESIDENTIAL PANIC (FALSE)                   4\n",
      "ASSAULTS, GANG RELATED                               3\n",
      "LIQUOR VIOLATIONS (BUSINESS)                         3\n",
      "HARBOR - DEBRIS, NAVIGATIONAL HAZARDS                3\n",
      "DOMESTIC SEX TRAFFICKING, ADULT                      2\n",
      "HARBOR - VESSEL ABANDONED                            2\n",
      "DOMESTIC HUMAN TRAFFICKING, ADULT                    1\n",
      "ALACAD - VEHICLE (FALSE)                             1\n",
      "HARBOR - MARINE FIRE                                 1\n",
      "HARBOR - VESSEL THEFT AND RECOVERY                   1\n",
      "Name: Event Clearance Description, dtype: int64\n"
     ]
    }
   ],
   "source": [
    "print df_travel['Event Clearance Description'].value_counts()[:50]\n",
    "print df_travel['Event Clearance Description'].value_counts()[50:]"
   ]
  },
  {
   "cell_type": "code",
   "execution_count": 136,
   "metadata": {
    "collapsed": false
   },
   "outputs": [
    {
     "data": {
      "text/plain": [
       "100"
      ]
     },
     "execution_count": 136,
     "metadata": {},
     "output_type": "execute_result"
    }
   ],
   "source": [
    "len(df_travel['Event Clearance Description'].value_counts())"
   ]
  },
  {
   "cell_type": "code",
   "execution_count": 147,
   "metadata": {
    "collapsed": false
   },
   "outputs": [
    {
     "data": {
      "text/plain": [
       "3596"
      ]
     },
     "execution_count": 147,
     "metadata": {},
     "output_type": "execute_result"
    }
   ],
   "source": [
    "len(df_travel['Incident Location'].value_counts())"
   ]
  },
  {
   "cell_type": "code",
   "execution_count": 148,
   "metadata": {
    "collapsed": true
   },
   "outputs": [],
   "source": [
    "df_travel.to_csv('travel.csv', sep=',')"
   ]
  },
  {
   "cell_type": "code",
   "execution_count": 150,
   "metadata": {
    "collapsed": false
   },
   "outputs": [],
   "source": [
    "from statsmodels.discrete.discrete_model import Poisson"
   ]
  },
  {
   "cell_type": "code",
   "execution_count": 152,
   "metadata": {
    "collapsed": false
   },
   "outputs": [
    {
     "data": {
      "text/plain": [
       "155511"
      ]
     },
     "execution_count": 152,
     "metadata": {},
     "output_type": "execute_result"
    }
   ],
   "source": [
    "len(df_travel['Incident Location'])"
   ]
  },
  {
   "cell_type": "code",
   "execution_count": 171,
   "metadata": {
    "collapsed": false
   },
   "outputs": [],
   "source": [
    "df_travel_assault = df_travel[(df_travel['Event Clearance Description']=='ASSAULTS, OTHER') | \n",
    "                              (df_travel['Event Clearance Description']=='ASSAULTS, FIREARM INVOLVED') |\n",
    "                              (df_travel['Event Clearance Description']=='MISCHIEF, NUISANCE COMPLAINTS') |\n",
    "                              (df_travel['Event Clearance Description']=='THREATS, HARASSMENT') |\n",
    "                              (df_travel['Event Clearance Description']=='LEWD CONDUCT')\n",
    "                             ]"
   ]
  },
  {
   "cell_type": "code",
   "execution_count": 186,
   "metadata": {
    "collapsed": false
   },
   "outputs": [
    {
     "name": "stderr",
     "output_type": "stream",
     "text": [
      "/Users/ericpei/anaconda/lib/python2.7/site-packages/ipykernel/__main__.py:1: SettingWithCopyWarning: \n",
      "A value is trying to be set on a copy of a slice from a DataFrame.\n",
      "Try using .loc[row_indexer,col_indexer] = value instead\n",
      "\n",
      "See the caveats in the documentation: http://pandas.pydata.org/pandas-docs/stable/indexing.html#indexing-view-versus-copy\n",
      "  if __name__ == '__main__':\n"
     ]
    }
   ],
   "source": [
    "df_travel_assault['Event Clearance Date'] = pd.to_datetime(df_travel_assault['Event Clearance Date'])\n",
    "df_assault = df_travel_assault"
   ]
  },
  {
   "cell_type": "markdown",
   "metadata": {},
   "source": [
    "## Travel DF"
   ]
  },
  {
   "cell_type": "code",
   "execution_count": 178,
   "metadata": {
    "collapsed": false,
    "scrolled": true
   },
   "outputs": [
    {
     "name": "stdout",
     "output_type": "stream",
     "text": [
      "<class 'pandas.core.frame.DataFrame'>\n",
      "Int64Index: 17259 entries, 119 to 1225179\n",
      "Data columns (total 19 columns):\n",
      "CAD CDW ID                     17259 non-null object\n",
      "CAD Event Number               17259 non-null int64\n",
      "General Offense Number         17259 non-null int64\n",
      "Event Clearance Code           17259 non-null float64\n",
      "Event Clearance Description    17259 non-null object\n",
      "Event Clearance SubGroup       17259 non-null object\n",
      "Event Clearance Group          17259 non-null object\n",
      "Event Clearance Date           17256 non-null datetime64[ns]\n",
      "Hundred Block Location         17217 non-null object\n",
      "District/Sector                17181 non-null object\n",
      "Zone/Beat                      17259 non-null object\n",
      "Census Tract                   17182 non-null float64\n",
      "Longitude                      17259 non-null float64\n",
      "Latitude                       17259 non-null float64\n",
      "Incident Location              17259 non-null object\n",
      "Initial Type Description       11160 non-null object\n",
      "Initial Type Subgroup          11160 non-null object\n",
      "Initial Type Group             11160 non-null object\n",
      "At Scene Time                  5556 non-null object\n",
      "dtypes: datetime64[ns](1), float64(4), int64(2), object(12)\n",
      "memory usage: 2.6+ MB\n"
     ]
    }
   ],
   "source": [
    "df_travel_assault.info()"
   ]
  },
  {
   "cell_type": "code",
   "execution_count": 179,
   "metadata": {
    "collapsed": true
   },
   "outputs": [],
   "source": [
    "df_theft = df_travel[(df_travel['Event Clearance Description']=='THEFT - MISCELLANEOUS') | \n",
    "                              (df_travel['Event Clearance Description']=='THEFT - CAR PROWL') |\n",
    "                              (df_travel['Event Clearance Description']=='STRONG ARM ROBBERY')\n",
    "                             ]"
   ]
  },
  {
   "cell_type": "code",
   "execution_count": 181,
   "metadata": {
    "collapsed": false
   },
   "outputs": [
    {
     "name": "stderr",
     "output_type": "stream",
     "text": [
      "/Users/ericpei/anaconda/lib/python2.7/site-packages/ipykernel/__main__.py:1: SettingWithCopyWarning: \n",
      "A value is trying to be set on a copy of a slice from a DataFrame.\n",
      "Try using .loc[row_indexer,col_indexer] = value instead\n",
      "\n",
      "See the caveats in the documentation: http://pandas.pydata.org/pandas-docs/stable/indexing.html#indexing-view-versus-copy\n",
      "  if __name__ == '__main__':\n"
     ]
    }
   ],
   "source": [
    "df_theft['Event Clearance Date'] = pd.to_datetime(df_theft['Event Clearance Date'])"
   ]
  },
  {
   "cell_type": "code",
   "execution_count": 182,
   "metadata": {
    "collapsed": false
   },
   "outputs": [
    {
     "data": {
      "text/html": [
       "<div>\n",
       "<table border=\"1\" class=\"dataframe\">\n",
       "  <thead>\n",
       "    <tr style=\"text-align: right;\">\n",
       "      <th></th>\n",
       "      <th>CAD CDW ID</th>\n",
       "      <th>CAD Event Number</th>\n",
       "      <th>General Offense Number</th>\n",
       "      <th>Event Clearance Code</th>\n",
       "      <th>Event Clearance Description</th>\n",
       "      <th>Event Clearance SubGroup</th>\n",
       "      <th>Event Clearance Group</th>\n",
       "      <th>Event Clearance Date</th>\n",
       "      <th>Hundred Block Location</th>\n",
       "      <th>District/Sector</th>\n",
       "      <th>Zone/Beat</th>\n",
       "      <th>Census Tract</th>\n",
       "      <th>Longitude</th>\n",
       "      <th>Latitude</th>\n",
       "      <th>Incident Location</th>\n",
       "      <th>Initial Type Description</th>\n",
       "      <th>Initial Type Subgroup</th>\n",
       "      <th>Initial Type Group</th>\n",
       "      <th>At Scene Time</th>\n",
       "    </tr>\n",
       "  </thead>\n",
       "  <tbody>\n",
       "    <tr>\n",
       "      <th>105</th>\n",
       "      <td>1658029</td>\n",
       "      <td>16000028159</td>\n",
       "      <td>201628159</td>\n",
       "      <td>65</td>\n",
       "      <td>THEFT - MISCELLANEOUS</td>\n",
       "      <td>THEFT</td>\n",
       "      <td>OTHER PROPERTY</td>\n",
       "      <td>2016-01-24 11:54:28</td>\n",
       "      <td>16XX BLOCK OF PIKE PL</td>\n",
       "      <td>M</td>\n",
       "      <td>M1</td>\n",
       "      <td>8100.3007</td>\n",
       "      <td>-122.342000</td>\n",
       "      <td>47.609535</td>\n",
       "      <td>(47.609535, -122.342)</td>\n",
       "      <td>PARKS VIOLATIONS/CITES (INCLUDES EXCLUSIONS)</td>\n",
       "      <td>TRESPASS</td>\n",
       "      <td>PARKS EXCLUSIONS</td>\n",
       "      <td>NaN</td>\n",
       "    </tr>\n",
       "    <tr>\n",
       "      <th>143</th>\n",
       "      <td>15882</td>\n",
       "      <td>10000246488</td>\n",
       "      <td>2010246488</td>\n",
       "      <td>65</td>\n",
       "      <td>THEFT - MISCELLANEOUS</td>\n",
       "      <td>THEFT</td>\n",
       "      <td>OTHER PROPERTY</td>\n",
       "      <td>2010-07-17 21:25:00</td>\n",
       "      <td>15XX BLOCK OF 7TH AVE</td>\n",
       "      <td>D</td>\n",
       "      <td>D3</td>\n",
       "      <td>8200.1005</td>\n",
       "      <td>-122.333808</td>\n",
       "      <td>47.612103</td>\n",
       "      <td>(47.612103393, -122.333808104)</td>\n",
       "      <td>NaN</td>\n",
       "      <td>NaN</td>\n",
       "      <td>NaN</td>\n",
       "      <td>NaN</td>\n",
       "    </tr>\n",
       "    <tr>\n",
       "      <th>303</th>\n",
       "      <td>16045</td>\n",
       "      <td>10000246924</td>\n",
       "      <td>2010246924</td>\n",
       "      <td>63</td>\n",
       "      <td>THEFT - CAR PROWL</td>\n",
       "      <td>CAR PROWL</td>\n",
       "      <td>CAR PROWL</td>\n",
       "      <td>2010-07-18 03:37:00</td>\n",
       "      <td>22XX BLOCK OF WESTERN AVE</td>\n",
       "      <td>M</td>\n",
       "      <td>M1</td>\n",
       "      <td>8002.2001</td>\n",
       "      <td>-122.346722</td>\n",
       "      <td>47.612326</td>\n",
       "      <td>(47.612326001, -122.346722395)</td>\n",
       "      <td>NaN</td>\n",
       "      <td>NaN</td>\n",
       "      <td>NaN</td>\n",
       "      <td>NaN</td>\n",
       "    </tr>\n",
       "    <tr>\n",
       "      <th>384</th>\n",
       "      <td>16129</td>\n",
       "      <td>10000246893</td>\n",
       "      <td>2010246893</td>\n",
       "      <td>63</td>\n",
       "      <td>THEFT - CAR PROWL</td>\n",
       "      <td>CAR PROWL</td>\n",
       "      <td>CAR PROWL</td>\n",
       "      <td>2010-07-18 03:56:00</td>\n",
       "      <td>12XX BLOCK OF 1ST AVE</td>\n",
       "      <td>M</td>\n",
       "      <td>M3</td>\n",
       "      <td>8100.1022</td>\n",
       "      <td>-122.337871</td>\n",
       "      <td>47.606478</td>\n",
       "      <td>(47.606478382, -122.33787064)</td>\n",
       "      <td>NaN</td>\n",
       "      <td>NaN</td>\n",
       "      <td>NaN</td>\n",
       "      <td>NaN</td>\n",
       "    </tr>\n",
       "    <tr>\n",
       "      <th>390</th>\n",
       "      <td>16136</td>\n",
       "      <td>10000246911</td>\n",
       "      <td>2010246911</td>\n",
       "      <td>63</td>\n",
       "      <td>THEFT - CAR PROWL</td>\n",
       "      <td>CAR PROWL</td>\n",
       "      <td>CAR PROWL</td>\n",
       "      <td>2010-07-18 04:23:00</td>\n",
       "      <td>XX BLOCK OF BELL ST</td>\n",
       "      <td>M</td>\n",
       "      <td>M1</td>\n",
       "      <td>8002.2008</td>\n",
       "      <td>-122.347802</td>\n",
       "      <td>47.612378</td>\n",
       "      <td>(47.612377961, -122.347802224)</td>\n",
       "      <td>NaN</td>\n",
       "      <td>NaN</td>\n",
       "      <td>NaN</td>\n",
       "      <td>NaN</td>\n",
       "    </tr>\n",
       "    <tr>\n",
       "      <th>408</th>\n",
       "      <td>16156</td>\n",
       "      <td>10000246743</td>\n",
       "      <td>2010246743</td>\n",
       "      <td>63</td>\n",
       "      <td>THEFT - CAR PROWL</td>\n",
       "      <td>CAR PROWL</td>\n",
       "      <td>CAR PROWL</td>\n",
       "      <td>2010-07-18 01:47:00</td>\n",
       "      <td>XX BLOCK OF LENORA ST</td>\n",
       "      <td>M</td>\n",
       "      <td>M3</td>\n",
       "      <td>8002.2014</td>\n",
       "      <td>-122.344990</td>\n",
       "      <td>47.611004</td>\n",
       "      <td>(47.611004422, -122.344989539)</td>\n",
       "      <td>NaN</td>\n",
       "      <td>NaN</td>\n",
       "      <td>NaN</td>\n",
       "      <td>NaN</td>\n",
       "    </tr>\n",
       "    <tr>\n",
       "      <th>640</th>\n",
       "      <td>16395</td>\n",
       "      <td>10000247344</td>\n",
       "      <td>2010247344</td>\n",
       "      <td>65</td>\n",
       "      <td>THEFT - MISCELLANEOUS</td>\n",
       "      <td>THEFT</td>\n",
       "      <td>OTHER PROPERTY</td>\n",
       "      <td>2010-07-18 16:14:00</td>\n",
       "      <td>5XX BLOCK OF OCCIDENTAL AVE S</td>\n",
       "      <td>K</td>\n",
       "      <td>K3</td>\n",
       "      <td>9300.2002</td>\n",
       "      <td>-122.333268</td>\n",
       "      <td>47.596783</td>\n",
       "      <td>(47.596783427, -122.333268217)</td>\n",
       "      <td>NaN</td>\n",
       "      <td>NaN</td>\n",
       "      <td>NaN</td>\n",
       "      <td>NaN</td>\n",
       "    </tr>\n",
       "    <tr>\n",
       "      <th>661</th>\n",
       "      <td>16416</td>\n",
       "      <td>10000247354</td>\n",
       "      <td>2010247354</td>\n",
       "      <td>63</td>\n",
       "      <td>THEFT - CAR PROWL</td>\n",
       "      <td>CAR PROWL</td>\n",
       "      <td>CAR PROWL</td>\n",
       "      <td>2010-07-18 16:16:00</td>\n",
       "      <td>4XX BLOCK OF STEWART ST</td>\n",
       "      <td>M</td>\n",
       "      <td>M2</td>\n",
       "      <td>7200.1063</td>\n",
       "      <td>-122.338303</td>\n",
       "      <td>47.612626</td>\n",
       "      <td>(47.612626071, -122.338302955)</td>\n",
       "      <td>NaN</td>\n",
       "      <td>NaN</td>\n",
       "      <td>NaN</td>\n",
       "      <td>NaN</td>\n",
       "    </tr>\n",
       "    <tr>\n",
       "      <th>687</th>\n",
       "      <td>16442</td>\n",
       "      <td>10000247368</td>\n",
       "      <td>2010247368</td>\n",
       "      <td>63</td>\n",
       "      <td>THEFT - CAR PROWL</td>\n",
       "      <td>CAR PROWL</td>\n",
       "      <td>CAR PROWL</td>\n",
       "      <td>2010-07-18 15:27:00</td>\n",
       "      <td>22XX BLOCK OF WESTERN AVE</td>\n",
       "      <td>M</td>\n",
       "      <td>M1</td>\n",
       "      <td>8002.2001</td>\n",
       "      <td>-122.346722</td>\n",
       "      <td>47.612326</td>\n",
       "      <td>(47.612326001, -122.346722395)</td>\n",
       "      <td>NaN</td>\n",
       "      <td>NaN</td>\n",
       "      <td>NaN</td>\n",
       "      <td>NaN</td>\n",
       "    </tr>\n",
       "    <tr>\n",
       "      <th>709</th>\n",
       "      <td>16465</td>\n",
       "      <td>10000247448</td>\n",
       "      <td>2010247448</td>\n",
       "      <td>65</td>\n",
       "      <td>THEFT - MISCELLANEOUS</td>\n",
       "      <td>THEFT</td>\n",
       "      <td>OTHER PROPERTY</td>\n",
       "      <td>2010-07-18 16:13:00</td>\n",
       "      <td>1XX BLOCK OF PIKE ST</td>\n",
       "      <td>M</td>\n",
       "      <td>M3</td>\n",
       "      <td>8100.1007</td>\n",
       "      <td>-122.339459</td>\n",
       "      <td>47.609053</td>\n",
       "      <td>(47.609053053, -122.339458563)</td>\n",
       "      <td>NaN</td>\n",
       "      <td>NaN</td>\n",
       "      <td>NaN</td>\n",
       "      <td>NaN</td>\n",
       "    </tr>\n",
       "    <tr>\n",
       "      <th>780</th>\n",
       "      <td>16539</td>\n",
       "      <td>10000247361</td>\n",
       "      <td>2010247361</td>\n",
       "      <td>63</td>\n",
       "      <td>THEFT - CAR PROWL</td>\n",
       "      <td>CAR PROWL</td>\n",
       "      <td>CAR PROWL</td>\n",
       "      <td>2010-07-18 18:02:00</td>\n",
       "      <td>15XX BLOCK OF 8TH AVE</td>\n",
       "      <td>D</td>\n",
       "      <td>D3</td>\n",
       "      <td>8200.1006</td>\n",
       "      <td>-122.332698</td>\n",
       "      <td>47.612567</td>\n",
       "      <td>(47.612567255, -122.332698359)</td>\n",
       "      <td>NaN</td>\n",
       "      <td>NaN</td>\n",
       "      <td>NaN</td>\n",
       "      <td>NaN</td>\n",
       "    </tr>\n",
       "    <tr>\n",
       "      <th>843</th>\n",
       "      <td>16605</td>\n",
       "      <td>10000247427</td>\n",
       "      <td>2010247427</td>\n",
       "      <td>63</td>\n",
       "      <td>THEFT - CAR PROWL</td>\n",
       "      <td>CAR PROWL</td>\n",
       "      <td>CAR PROWL</td>\n",
       "      <td>2010-07-18 16:39:00</td>\n",
       "      <td>3XX BLOCK OF VIRGINIA ST</td>\n",
       "      <td>M</td>\n",
       "      <td>M2</td>\n",
       "      <td>8002.1001</td>\n",
       "      <td>-122.340463</td>\n",
       "      <td>47.612730</td>\n",
       "      <td>(47.612730311, -122.340462679)</td>\n",
       "      <td>NaN</td>\n",
       "      <td>NaN</td>\n",
       "      <td>NaN</td>\n",
       "      <td>NaN</td>\n",
       "    </tr>\n",
       "    <tr>\n",
       "      <th>867</th>\n",
       "      <td>16629</td>\n",
       "      <td>10000247653</td>\n",
       "      <td>2010247653</td>\n",
       "      <td>63</td>\n",
       "      <td>THEFT - CAR PROWL</td>\n",
       "      <td>CAR PROWL</td>\n",
       "      <td>CAR PROWL</td>\n",
       "      <td>2010-07-18 20:30:00</td>\n",
       "      <td>14XX BLOCK OF WESTERN AVE</td>\n",
       "      <td>M</td>\n",
       "      <td>M3</td>\n",
       "      <td>8100.1011</td>\n",
       "      <td>-122.340670</td>\n",
       "      <td>47.607860</td>\n",
       "      <td>(47.607860347, -122.340669909)</td>\n",
       "      <td>NaN</td>\n",
       "      <td>NaN</td>\n",
       "      <td>NaN</td>\n",
       "      <td>NaN</td>\n",
       "    </tr>\n",
       "    <tr>\n",
       "      <th>897</th>\n",
       "      <td>16659</td>\n",
       "      <td>10000247696</td>\n",
       "      <td>2010247696</td>\n",
       "      <td>63</td>\n",
       "      <td>THEFT - CAR PROWL</td>\n",
       "      <td>CAR PROWL</td>\n",
       "      <td>CAR PROWL</td>\n",
       "      <td>2010-07-18 21:49:00</td>\n",
       "      <td>2XX BLOCK OF UNION ST</td>\n",
       "      <td>K</td>\n",
       "      <td>K1</td>\n",
       "      <td>8100.2010</td>\n",
       "      <td>-122.337440</td>\n",
       "      <td>47.608524</td>\n",
       "      <td>(47.608524196, -122.337439984)</td>\n",
       "      <td>NaN</td>\n",
       "      <td>NaN</td>\n",
       "      <td>NaN</td>\n",
       "      <td>NaN</td>\n",
       "    </tr>\n",
       "    <tr>\n",
       "      <th>1118</th>\n",
       "      <td>16884</td>\n",
       "      <td>10000247922</td>\n",
       "      <td>2010247922</td>\n",
       "      <td>63</td>\n",
       "      <td>THEFT - CAR PROWL</td>\n",
       "      <td>CAR PROWL</td>\n",
       "      <td>CAR PROWL</td>\n",
       "      <td>2010-07-19 04:02:00</td>\n",
       "      <td>8XX BLOCK OF MADISON ST</td>\n",
       "      <td>D</td>\n",
       "      <td>D3</td>\n",
       "      <td>8300.1003</td>\n",
       "      <td>-122.327916</td>\n",
       "      <td>47.608177</td>\n",
       "      <td>(47.608176612, -122.327915893)</td>\n",
       "      <td>NaN</td>\n",
       "      <td>NaN</td>\n",
       "      <td>NaN</td>\n",
       "      <td>NaN</td>\n",
       "    </tr>\n",
       "    <tr>\n",
       "      <th>1147</th>\n",
       "      <td>16913</td>\n",
       "      <td>10000248081</td>\n",
       "      <td>2010248081</td>\n",
       "      <td>63</td>\n",
       "      <td>THEFT - CAR PROWL</td>\n",
       "      <td>CAR PROWL</td>\n",
       "      <td>CAR PROWL</td>\n",
       "      <td>2010-07-19 06:23:00</td>\n",
       "      <td>6XX BLOCK OF UNIVERSITY ST</td>\n",
       "      <td>D</td>\n",
       "      <td>D3</td>\n",
       "      <td>8200.1014</td>\n",
       "      <td>-122.332154</td>\n",
       "      <td>47.609406</td>\n",
       "      <td>(47.609406407, -122.332153649)</td>\n",
       "      <td>NaN</td>\n",
       "      <td>NaN</td>\n",
       "      <td>NaN</td>\n",
       "      <td>NaN</td>\n",
       "    </tr>\n",
       "    <tr>\n",
       "      <th>1186</th>\n",
       "      <td>16955</td>\n",
       "      <td>10000246338</td>\n",
       "      <td>2010246338</td>\n",
       "      <td>65</td>\n",
       "      <td>THEFT - MISCELLANEOUS</td>\n",
       "      <td>THEFT</td>\n",
       "      <td>OTHER PROPERTY</td>\n",
       "      <td>2010-07-17 20:49:00</td>\n",
       "      <td>4XX BLOCK OF OCCIDENTAL AVE S</td>\n",
       "      <td>K</td>\n",
       "      <td>K3</td>\n",
       "      <td>9300.2004</td>\n",
       "      <td>-122.332884</td>\n",
       "      <td>47.598746</td>\n",
       "      <td>(47.59874629, -122.332884022)</td>\n",
       "      <td>NaN</td>\n",
       "      <td>NaN</td>\n",
       "      <td>NaN</td>\n",
       "      <td>NaN</td>\n",
       "    </tr>\n",
       "    <tr>\n",
       "      <th>1253</th>\n",
       "      <td>17022</td>\n",
       "      <td>10000248184</td>\n",
       "      <td>2010248184</td>\n",
       "      <td>63</td>\n",
       "      <td>THEFT - CAR PROWL</td>\n",
       "      <td>CAR PROWL</td>\n",
       "      <td>CAR PROWL</td>\n",
       "      <td>2010-07-19 11:29:00</td>\n",
       "      <td>7XX BLOCK OF 1ST AVE</td>\n",
       "      <td>K</td>\n",
       "      <td>K3</td>\n",
       "      <td>8100.1051</td>\n",
       "      <td>-122.334608</td>\n",
       "      <td>47.602912</td>\n",
       "      <td>(47.602911944, -122.334607822)</td>\n",
       "      <td>NaN</td>\n",
       "      <td>NaN</td>\n",
       "      <td>NaN</td>\n",
       "      <td>NaN</td>\n",
       "    </tr>\n",
       "    <tr>\n",
       "      <th>1295</th>\n",
       "      <td>17064</td>\n",
       "      <td>10000248334</td>\n",
       "      <td>2010248334</td>\n",
       "      <td>65</td>\n",
       "      <td>THEFT - MISCELLANEOUS</td>\n",
       "      <td>THEFT</td>\n",
       "      <td>OTHER PROPERTY</td>\n",
       "      <td>2010-07-19 12:22:00</td>\n",
       "      <td>19XX BLOCK OF PIKE PL</td>\n",
       "      <td>M</td>\n",
       "      <td>M3</td>\n",
       "      <td>8002.1008</td>\n",
       "      <td>-122.342822</td>\n",
       "      <td>47.610019</td>\n",
       "      <td>(47.610018897, -122.342821736)</td>\n",
       "      <td>NaN</td>\n",
       "      <td>NaN</td>\n",
       "      <td>NaN</td>\n",
       "      <td>NaN</td>\n",
       "    </tr>\n",
       "    <tr>\n",
       "      <th>1315</th>\n",
       "      <td>17086</td>\n",
       "      <td>10000248411</td>\n",
       "      <td>2010248411</td>\n",
       "      <td>65</td>\n",
       "      <td>THEFT - MISCELLANEOUS</td>\n",
       "      <td>THEFT</td>\n",
       "      <td>OTHER PROPERTY</td>\n",
       "      <td>2010-07-19 15:32:00</td>\n",
       "      <td>5XX BLOCK OF 5TH AVE S</td>\n",
       "      <td>K</td>\n",
       "      <td>K2</td>\n",
       "      <td>9300.2000</td>\n",
       "      <td>-122.327673</td>\n",
       "      <td>47.597936</td>\n",
       "      <td>(47.597936288, -122.327672937)</td>\n",
       "      <td>NaN</td>\n",
       "      <td>NaN</td>\n",
       "      <td>NaN</td>\n",
       "      <td>NaN</td>\n",
       "    </tr>\n",
       "    <tr>\n",
       "      <th>1340</th>\n",
       "      <td>17111</td>\n",
       "      <td>10000248409</td>\n",
       "      <td>2010248409</td>\n",
       "      <td>63</td>\n",
       "      <td>THEFT - CAR PROWL</td>\n",
       "      <td>CAR PROWL</td>\n",
       "      <td>CAR PROWL</td>\n",
       "      <td>2010-07-19 13:49:00</td>\n",
       "      <td>13XX BLOCK OF WESTERN AVE</td>\n",
       "      <td>M</td>\n",
       "      <td>M3</td>\n",
       "      <td>8100.1017</td>\n",
       "      <td>-122.339761</td>\n",
       "      <td>47.606867</td>\n",
       "      <td>(47.606867136, -122.339761475)</td>\n",
       "      <td>NaN</td>\n",
       "      <td>NaN</td>\n",
       "      <td>NaN</td>\n",
       "      <td>NaN</td>\n",
       "    </tr>\n",
       "    <tr>\n",
       "      <th>1446</th>\n",
       "      <td>17221</td>\n",
       "      <td>10000248554</td>\n",
       "      <td>2010248554</td>\n",
       "      <td>63</td>\n",
       "      <td>THEFT - CAR PROWL</td>\n",
       "      <td>CAR PROWL</td>\n",
       "      <td>CAR PROWL</td>\n",
       "      <td>2010-07-19 16:14:00</td>\n",
       "      <td>14XX BLOCK OF 3RD AVE</td>\n",
       "      <td>K</td>\n",
       "      <td>K1</td>\n",
       "      <td>8100.2009</td>\n",
       "      <td>-122.337339</td>\n",
       "      <td>47.609253</td>\n",
       "      <td>(47.60925298, -122.337338755)</td>\n",
       "      <td>NaN</td>\n",
       "      <td>NaN</td>\n",
       "      <td>NaN</td>\n",
       "      <td>NaN</td>\n",
       "    </tr>\n",
       "    <tr>\n",
       "      <th>1457</th>\n",
       "      <td>17234</td>\n",
       "      <td>10000248450</td>\n",
       "      <td>2010248450</td>\n",
       "      <td>63</td>\n",
       "      <td>THEFT - CAR PROWL</td>\n",
       "      <td>CAR PROWL</td>\n",
       "      <td>CAR PROWL</td>\n",
       "      <td>2010-07-19 14:34:00</td>\n",
       "      <td>XX BLOCK OF LENORA ST</td>\n",
       "      <td>M</td>\n",
       "      <td>M3</td>\n",
       "      <td>8002.2014</td>\n",
       "      <td>-122.344990</td>\n",
       "      <td>47.611004</td>\n",
       "      <td>(47.611004422, -122.344989539)</td>\n",
       "      <td>NaN</td>\n",
       "      <td>NaN</td>\n",
       "      <td>NaN</td>\n",
       "      <td>NaN</td>\n",
       "    </tr>\n",
       "    <tr>\n",
       "      <th>1481</th>\n",
       "      <td>17259</td>\n",
       "      <td>10000248643</td>\n",
       "      <td>2010248643</td>\n",
       "      <td>63</td>\n",
       "      <td>THEFT - CAR PROWL</td>\n",
       "      <td>CAR PROWL</td>\n",
       "      <td>CAR PROWL</td>\n",
       "      <td>2010-07-19 17:22:00</td>\n",
       "      <td>XX BLOCK OF PIKE ST</td>\n",
       "      <td>M</td>\n",
       "      <td>M3</td>\n",
       "      <td>8100.1003</td>\n",
       "      <td>-122.340798</td>\n",
       "      <td>47.608493</td>\n",
       "      <td>(47.608493097, -122.340797599)</td>\n",
       "      <td>NaN</td>\n",
       "      <td>NaN</td>\n",
       "      <td>NaN</td>\n",
       "      <td>NaN</td>\n",
       "    </tr>\n",
       "    <tr>\n",
       "      <th>1553</th>\n",
       "      <td>17334</td>\n",
       "      <td>10000248621</td>\n",
       "      <td>2010248621</td>\n",
       "      <td>63</td>\n",
       "      <td>THEFT - CAR PROWL</td>\n",
       "      <td>CAR PROWL</td>\n",
       "      <td>CAR PROWL</td>\n",
       "      <td>2010-07-19 17:24:00</td>\n",
       "      <td>XX BLOCK OF PIKE ST</td>\n",
       "      <td>M</td>\n",
       "      <td>M3</td>\n",
       "      <td>8100.1010</td>\n",
       "      <td>-122.340267</td>\n",
       "      <td>47.608683</td>\n",
       "      <td>(47.608682699, -122.340266616)</td>\n",
       "      <td>NaN</td>\n",
       "      <td>NaN</td>\n",
       "      <td>NaN</td>\n",
       "      <td>NaN</td>\n",
       "    </tr>\n",
       "    <tr>\n",
       "      <th>1567</th>\n",
       "      <td>17348</td>\n",
       "      <td>10000248601</td>\n",
       "      <td>2010248601</td>\n",
       "      <td>65</td>\n",
       "      <td>THEFT - MISCELLANEOUS</td>\n",
       "      <td>THEFT</td>\n",
       "      <td>OTHER PROPERTY</td>\n",
       "      <td>2010-07-19 16:51:00</td>\n",
       "      <td>2XX BLOCK OF LENORA ST</td>\n",
       "      <td>M</td>\n",
       "      <td>M2</td>\n",
       "      <td>8002.1001</td>\n",
       "      <td>-122.342623</td>\n",
       "      <td>47.612834</td>\n",
       "      <td>(47.612834368, -122.342622658)</td>\n",
       "      <td>NaN</td>\n",
       "      <td>NaN</td>\n",
       "      <td>NaN</td>\n",
       "      <td>NaN</td>\n",
       "    </tr>\n",
       "    <tr>\n",
       "      <th>1657</th>\n",
       "      <td>17440</td>\n",
       "      <td>10000248892</td>\n",
       "      <td>2010248892</td>\n",
       "      <td>63</td>\n",
       "      <td>THEFT - CAR PROWL</td>\n",
       "      <td>CAR PROWL</td>\n",
       "      <td>CAR PROWL</td>\n",
       "      <td>2010-07-19 22:19:00</td>\n",
       "      <td>2XX BLOCK OF STEWART ST</td>\n",
       "      <td>M</td>\n",
       "      <td>M3</td>\n",
       "      <td>8100.2003</td>\n",
       "      <td>-122.340022</td>\n",
       "      <td>47.611297</td>\n",
       "      <td>(47.611296543, -122.340022029)</td>\n",
       "      <td>NaN</td>\n",
       "      <td>NaN</td>\n",
       "      <td>NaN</td>\n",
       "      <td>NaN</td>\n",
       "    </tr>\n",
       "    <tr>\n",
       "      <th>1954</th>\n",
       "      <td>17741</td>\n",
       "      <td>10000249292</td>\n",
       "      <td>2010249292</td>\n",
       "      <td>65</td>\n",
       "      <td>THEFT - MISCELLANEOUS</td>\n",
       "      <td>THEFT</td>\n",
       "      <td>OTHER PROPERTY</td>\n",
       "      <td>2010-07-20 06:49:00</td>\n",
       "      <td>6XX BLOCK OF S WELLER ST</td>\n",
       "      <td>K</td>\n",
       "      <td>K2</td>\n",
       "      <td>9100.2005</td>\n",
       "      <td>-122.325715</td>\n",
       "      <td>47.597514</td>\n",
       "      <td>(47.597514069, -122.325714577)</td>\n",
       "      <td>NaN</td>\n",
       "      <td>NaN</td>\n",
       "      <td>NaN</td>\n",
       "      <td>NaN</td>\n",
       "    </tr>\n",
       "    <tr>\n",
       "      <th>2114</th>\n",
       "      <td>17906</td>\n",
       "      <td>10000249548</td>\n",
       "      <td>2010249548</td>\n",
       "      <td>63</td>\n",
       "      <td>THEFT - CAR PROWL</td>\n",
       "      <td>CAR PROWL</td>\n",
       "      <td>CAR PROWL</td>\n",
       "      <td>2010-07-20 11:39:00</td>\n",
       "      <td>1XX BLOCK OF VIRGINIA ST</td>\n",
       "      <td>M</td>\n",
       "      <td>M2</td>\n",
       "      <td>8002.1001</td>\n",
       "      <td>-122.342183</td>\n",
       "      <td>47.611401</td>\n",
       "      <td>(47.611400659, -122.342182557)</td>\n",
       "      <td>NaN</td>\n",
       "      <td>NaN</td>\n",
       "      <td>NaN</td>\n",
       "      <td>NaN</td>\n",
       "    </tr>\n",
       "    <tr>\n",
       "      <th>2476</th>\n",
       "      <td>18285</td>\n",
       "      <td>10000249981</td>\n",
       "      <td>2010249981</td>\n",
       "      <td>63</td>\n",
       "      <td>THEFT - CAR PROWL</td>\n",
       "      <td>CAR PROWL</td>\n",
       "      <td>CAR PROWL</td>\n",
       "      <td>2010-07-20 17:23:00</td>\n",
       "      <td>XX BLOCK OF S JACKSON ST</td>\n",
       "      <td>K</td>\n",
       "      <td>K3</td>\n",
       "      <td>9200.2024</td>\n",
       "      <td>-122.335554</td>\n",
       "      <td>47.599207</td>\n",
       "      <td>(47.599207142, -122.335554418)</td>\n",
       "      <td>NaN</td>\n",
       "      <td>NaN</td>\n",
       "      <td>NaN</td>\n",
       "      <td>NaN</td>\n",
       "    </tr>\n",
       "    <tr>\n",
       "      <th>...</th>\n",
       "      <td>...</td>\n",
       "      <td>...</td>\n",
       "      <td>...</td>\n",
       "      <td>...</td>\n",
       "      <td>...</td>\n",
       "      <td>...</td>\n",
       "      <td>...</td>\n",
       "      <td>...</td>\n",
       "      <td>...</td>\n",
       "      <td>...</td>\n",
       "      <td>...</td>\n",
       "      <td>...</td>\n",
       "      <td>...</td>\n",
       "      <td>...</td>\n",
       "      <td>...</td>\n",
       "      <td>...</td>\n",
       "      <td>...</td>\n",
       "      <td>...</td>\n",
       "      <td>...</td>\n",
       "    </tr>\n",
       "    <tr>\n",
       "      <th>1223325</th>\n",
       "      <td>1142385</td>\n",
       "      <td>15000230704</td>\n",
       "      <td>2015230704</td>\n",
       "      <td>65</td>\n",
       "      <td>THEFT - MISCELLANEOUS</td>\n",
       "      <td>THEFT</td>\n",
       "      <td>OTHER PROPERTY</td>\n",
       "      <td>2015-07-06 17:08:00</td>\n",
       "      <td>15XX BLOCK OF 1 AV</td>\n",
       "      <td>M</td>\n",
       "      <td>M1</td>\n",
       "      <td>8100.3001</td>\n",
       "      <td>-122.340468</td>\n",
       "      <td>47.609318</td>\n",
       "      <td>(47.6093176, -122.340467728)</td>\n",
       "      <td>THEFT (DOES NOT INCLUDE SHOPLIFT OR SVCS)</td>\n",
       "      <td>OTHER PROPERTY</td>\n",
       "      <td>THEFT</td>\n",
       "      <td>NaN</td>\n",
       "    </tr>\n",
       "    <tr>\n",
       "      <th>1223330</th>\n",
       "      <td>1142376</td>\n",
       "      <td>15000230582</td>\n",
       "      <td>2015230582</td>\n",
       "      <td>63</td>\n",
       "      <td>THEFT - CAR PROWL</td>\n",
       "      <td>CAR PROWL</td>\n",
       "      <td>CAR PROWL</td>\n",
       "      <td>2015-07-06 16:57:00</td>\n",
       "      <td>4 AV / CHERRY ST</td>\n",
       "      <td>K</td>\n",
       "      <td>K1</td>\n",
       "      <td>8100.2041</td>\n",
       "      <td>-122.330956</td>\n",
       "      <td>47.603946</td>\n",
       "      <td>(47.603946079, -122.330955893)</td>\n",
       "      <td>SECONDARY - THEFT (NOT SHOPLIFT OR SERVICES)</td>\n",
       "      <td>OTHER PROPERTY</td>\n",
       "      <td>THEFT</td>\n",
       "      <td>07/06/2015 03:56:00 PM</td>\n",
       "    </tr>\n",
       "    <tr>\n",
       "      <th>1223339</th>\n",
       "      <td>1142414</td>\n",
       "      <td>15000230727</td>\n",
       "      <td>2015230727</td>\n",
       "      <td>31</td>\n",
       "      <td>STRONG ARM ROBBERY</td>\n",
       "      <td>ROBBERY</td>\n",
       "      <td>ROBBERY</td>\n",
       "      <td>2015-07-06 17:41:00</td>\n",
       "      <td>13XX BLOCK OF 2 AV</td>\n",
       "      <td>M</td>\n",
       "      <td>M1</td>\n",
       "      <td>8100.1000</td>\n",
       "      <td>-122.337541</td>\n",
       "      <td>47.607796</td>\n",
       "      <td>(47.607795617, -122.337541068)</td>\n",
       "      <td>ROBBERY - IP/JO (INCLUDES STRONG ARM)</td>\n",
       "      <td>ROBBERY</td>\n",
       "      <td>ROBBERY</td>\n",
       "      <td>07/06/2015 04:50:00 PM</td>\n",
       "    </tr>\n",
       "    <tr>\n",
       "      <th>1223344</th>\n",
       "      <td>1142420</td>\n",
       "      <td>15000230620</td>\n",
       "      <td>2015230620</td>\n",
       "      <td>63</td>\n",
       "      <td>THEFT - CAR PROWL</td>\n",
       "      <td>CAR PROWL</td>\n",
       "      <td>CAR PROWL</td>\n",
       "      <td>2015-07-06 17:34:00</td>\n",
       "      <td>2 AV / UNION ST</td>\n",
       "      <td>M</td>\n",
       "      <td>M1</td>\n",
       "      <td>8100.3003</td>\n",
       "      <td>-122.337998</td>\n",
       "      <td>47.608290</td>\n",
       "      <td>(47.60828974, -122.337998165)</td>\n",
       "      <td>THEFT (DOES NOT INCLUDE SHOPLIFT OR SVCS)</td>\n",
       "      <td>OTHER PROPERTY</td>\n",
       "      <td>THEFT</td>\n",
       "      <td>07/06/2015 04:37:00 PM</td>\n",
       "    </tr>\n",
       "    <tr>\n",
       "      <th>1223419</th>\n",
       "      <td>1142526</td>\n",
       "      <td>15000230694</td>\n",
       "      <td>2015230694</td>\n",
       "      <td>63</td>\n",
       "      <td>THEFT - CAR PROWL</td>\n",
       "      <td>CAR PROWL</td>\n",
       "      <td>CAR PROWL</td>\n",
       "      <td>2015-07-06 19:09:00</td>\n",
       "      <td>BLANCHARD ST / ELLIOTT AV</td>\n",
       "      <td>D</td>\n",
       "      <td>D1</td>\n",
       "      <td>8002.2009</td>\n",
       "      <td>-122.346537</td>\n",
       "      <td>47.611610</td>\n",
       "      <td>(47.611609517, -122.346536535)</td>\n",
       "      <td>TRU - THEFT</td>\n",
       "      <td>OTHER PROPERTY</td>\n",
       "      <td>THEFT</td>\n",
       "      <td>07/06/2015 06:12:00 PM</td>\n",
       "    </tr>\n",
       "    <tr>\n",
       "      <th>1223574</th>\n",
       "      <td>1142785</td>\n",
       "      <td>15000231112</td>\n",
       "      <td>2015231112</td>\n",
       "      <td>31</td>\n",
       "      <td>STRONG ARM ROBBERY</td>\n",
       "      <td>ROBBERY</td>\n",
       "      <td>ROBBERY</td>\n",
       "      <td>2015-07-06 23:50:00</td>\n",
       "      <td>4XX BLOCK OF PINE ST</td>\n",
       "      <td>M</td>\n",
       "      <td>M3</td>\n",
       "      <td>8100.2004</td>\n",
       "      <td>-122.337320</td>\n",
       "      <td>47.611321</td>\n",
       "      <td>(47.611321238, -122.337320424)</td>\n",
       "      <td>ROBBERY - IP/JO (INCLUDES STRONG ARM)</td>\n",
       "      <td>ROBBERY</td>\n",
       "      <td>ROBBERY</td>\n",
       "      <td>07/06/2015 10:18:00 PM</td>\n",
       "    </tr>\n",
       "    <tr>\n",
       "      <th>1223695</th>\n",
       "      <td>1143005</td>\n",
       "      <td>15000231447</td>\n",
       "      <td>2015231447</td>\n",
       "      <td>63</td>\n",
       "      <td>THEFT - CAR PROWL</td>\n",
       "      <td>CAR PROWL</td>\n",
       "      <td>CAR PROWL</td>\n",
       "      <td>2015-07-07 08:01:00</td>\n",
       "      <td>20XX BLOCK OF 2 AV</td>\n",
       "      <td>M</td>\n",
       "      <td>M1</td>\n",
       "      <td>8002.1001</td>\n",
       "      <td>-122.342403</td>\n",
       "      <td>47.612117</td>\n",
       "      <td>(47.612117499, -122.3424026)</td>\n",
       "      <td>TRU - THEFT</td>\n",
       "      <td>OTHER PROPERTY</td>\n",
       "      <td>THEFT</td>\n",
       "      <td>NaN</td>\n",
       "    </tr>\n",
       "    <tr>\n",
       "      <th>1223778</th>\n",
       "      <td>1323824</td>\n",
       "      <td>15000235612</td>\n",
       "      <td>2015235612</td>\n",
       "      <td>63</td>\n",
       "      <td>THEFT - CAR PROWL</td>\n",
       "      <td>CAR PROWL</td>\n",
       "      <td>CAR PROWL</td>\n",
       "      <td>2015-07-10 08:37:00</td>\n",
       "      <td>1XX BLOCK OF YESLER WY</td>\n",
       "      <td>K</td>\n",
       "      <td>K1</td>\n",
       "      <td>8100.1054</td>\n",
       "      <td>-122.334039</td>\n",
       "      <td>47.601722</td>\n",
       "      <td>(47.601722113, -122.334038713)</td>\n",
       "      <td>TRU - THEFT</td>\n",
       "      <td>OTHER PROPERTY</td>\n",
       "      <td>THEFT</td>\n",
       "      <td>NaN</td>\n",
       "    </tr>\n",
       "    <tr>\n",
       "      <th>1223848</th>\n",
       "      <td>1239035</td>\n",
       "      <td>15000232113</td>\n",
       "      <td>2015232113</td>\n",
       "      <td>65</td>\n",
       "      <td>THEFT - MISCELLANEOUS</td>\n",
       "      <td>THEFT</td>\n",
       "      <td>OTHER PROPERTY</td>\n",
       "      <td>2015-07-07 19:08:00</td>\n",
       "      <td>10XX BLOCK OF 4 AV</td>\n",
       "      <td>K</td>\n",
       "      <td>K1</td>\n",
       "      <td>8100.2023</td>\n",
       "      <td>-122.333236</td>\n",
       "      <td>47.606445</td>\n",
       "      <td>(47.606444573, -122.333235573)</td>\n",
       "      <td>THEFT (DOES NOT INCLUDE SHOPLIFT OR SVCS)</td>\n",
       "      <td>OTHER PROPERTY</td>\n",
       "      <td>THEFT</td>\n",
       "      <td>07/07/2015 05:13:00 PM</td>\n",
       "    </tr>\n",
       "    <tr>\n",
       "      <th>1223967</th>\n",
       "      <td>1239321</td>\n",
       "      <td>15000232384</td>\n",
       "      <td>2015232384</td>\n",
       "      <td>63</td>\n",
       "      <td>THEFT - CAR PROWL</td>\n",
       "      <td>CAR PROWL</td>\n",
       "      <td>CAR PROWL</td>\n",
       "      <td>2015-07-07 22:01:00</td>\n",
       "      <td>SENECA ST / 1 AV</td>\n",
       "      <td>K</td>\n",
       "      <td>K1</td>\n",
       "      <td>8100.1006</td>\n",
       "      <td>-122.337546</td>\n",
       "      <td>47.606121</td>\n",
       "      <td>(47.6061213, -122.337546233)</td>\n",
       "      <td>THEFT (DOES NOT INCLUDE SHOPLIFT OR SVCS)</td>\n",
       "      <td>OTHER PROPERTY</td>\n",
       "      <td>THEFT</td>\n",
       "      <td>NaN</td>\n",
       "    </tr>\n",
       "    <tr>\n",
       "      <th>1224091</th>\n",
       "      <td>1239905</td>\n",
       "      <td>15000232819</td>\n",
       "      <td>2015232819</td>\n",
       "      <td>65</td>\n",
       "      <td>THEFT - MISCELLANEOUS</td>\n",
       "      <td>THEFT</td>\n",
       "      <td>OTHER PROPERTY</td>\n",
       "      <td>2015-07-08 15:11:00</td>\n",
       "      <td>4 AV / JAMES ST</td>\n",
       "      <td>K</td>\n",
       "      <td>K1</td>\n",
       "      <td>8100.2041</td>\n",
       "      <td>-122.330299</td>\n",
       "      <td>47.603231</td>\n",
       "      <td>(47.603230836, -122.330298791)</td>\n",
       "      <td>SECONDARY - THEFT (NOT SHOPLIFT OR SERVICES)</td>\n",
       "      <td>OTHER PROPERTY</td>\n",
       "      <td>THEFT</td>\n",
       "      <td>07/08/2015 12:10:00 PM</td>\n",
       "    </tr>\n",
       "    <tr>\n",
       "      <th>1224133</th>\n",
       "      <td>1240058</td>\n",
       "      <td>15000233254</td>\n",
       "      <td>2015233254</td>\n",
       "      <td>65</td>\n",
       "      <td>THEFT - MISCELLANEOUS</td>\n",
       "      <td>THEFT</td>\n",
       "      <td>OTHER PROPERTY</td>\n",
       "      <td>2015-07-08 17:29:00</td>\n",
       "      <td>5XX BLOCK OF PINE ST</td>\n",
       "      <td>M</td>\n",
       "      <td>M2</td>\n",
       "      <td>8200.1003</td>\n",
       "      <td>-122.335929</td>\n",
       "      <td>47.611904</td>\n",
       "      <td>(47.611904235, -122.335928552)</td>\n",
       "      <td>THEFT (DOES NOT INCLUDE SHOPLIFT OR SVCS)</td>\n",
       "      <td>OTHER PROPERTY</td>\n",
       "      <td>THEFT</td>\n",
       "      <td>07/08/2015 02:14:00 PM</td>\n",
       "    </tr>\n",
       "    <tr>\n",
       "      <th>1224147</th>\n",
       "      <td>1240178</td>\n",
       "      <td>15000233480</td>\n",
       "      <td>2015233480</td>\n",
       "      <td>63</td>\n",
       "      <td>THEFT - CAR PROWL</td>\n",
       "      <td>CAR PROWL</td>\n",
       "      <td>CAR PROWL</td>\n",
       "      <td>2015-07-08 19:25:00</td>\n",
       "      <td>BLANCHARD ST / WESTERN AV</td>\n",
       "      <td>D</td>\n",
       "      <td>D1</td>\n",
       "      <td>8002.2006</td>\n",
       "      <td>-122.346076</td>\n",
       "      <td>47.611939</td>\n",
       "      <td>(47.611939202, -122.346075747)</td>\n",
       "      <td>THEFT (DOES NOT INCLUDE SHOPLIFT OR SVCS)</td>\n",
       "      <td>OTHER PROPERTY</td>\n",
       "      <td>THEFT</td>\n",
       "      <td>07/08/2015 05:24:00 PM</td>\n",
       "    </tr>\n",
       "    <tr>\n",
       "      <th>1224180</th>\n",
       "      <td>1240515</td>\n",
       "      <td>15000233808</td>\n",
       "      <td>2015233808</td>\n",
       "      <td>31</td>\n",
       "      <td>STRONG ARM ROBBERY</td>\n",
       "      <td>ROBBERY</td>\n",
       "      <td>ROBBERY</td>\n",
       "      <td>2015-07-09 02:05:00</td>\n",
       "      <td>14XX BLOCK OF 2 AV</td>\n",
       "      <td>M</td>\n",
       "      <td>M1</td>\n",
       "      <td>8100.3003</td>\n",
       "      <td>-122.338450</td>\n",
       "      <td>47.608789</td>\n",
       "      <td>(47.608788659, -122.33844952)</td>\n",
       "      <td>ROBBERY - IP/JO (INCLUDES STRONG ARM)</td>\n",
       "      <td>ROBBERY</td>\n",
       "      <td>ROBBERY</td>\n",
       "      <td>07/08/2015 10:07:00 PM</td>\n",
       "    </tr>\n",
       "    <tr>\n",
       "      <th>1224292</th>\n",
       "      <td>1322889</td>\n",
       "      <td>15000234267</td>\n",
       "      <td>2015234267</td>\n",
       "      <td>65</td>\n",
       "      <td>THEFT - MISCELLANEOUS</td>\n",
       "      <td>THEFT</td>\n",
       "      <td>OTHER PROPERTY</td>\n",
       "      <td>2015-07-09 13:14:00</td>\n",
       "      <td>20XX BLOCK OF 3 AV</td>\n",
       "      <td>M</td>\n",
       "      <td>M2</td>\n",
       "      <td>7200.1067</td>\n",
       "      <td>-122.341543</td>\n",
       "      <td>47.612782</td>\n",
       "      <td>(47.612782412, -122.3415426)</td>\n",
       "      <td>THEFT (DOES NOT INCLUDE SHOPLIFT OR SVCS)</td>\n",
       "      <td>OTHER PROPERTY</td>\n",
       "      <td>THEFT</td>\n",
       "      <td>07/09/2015 12:17:00 PM</td>\n",
       "    </tr>\n",
       "    <tr>\n",
       "      <th>1224325</th>\n",
       "      <td>1323079</td>\n",
       "      <td>15000234659</td>\n",
       "      <td>2015234659</td>\n",
       "      <td>65</td>\n",
       "      <td>THEFT - MISCELLANEOUS</td>\n",
       "      <td>THEFT</td>\n",
       "      <td>OTHER PROPERTY</td>\n",
       "      <td>2015-07-09 16:01:00</td>\n",
       "      <td>10XX BLOCK OF 4 AV</td>\n",
       "      <td>K</td>\n",
       "      <td>K1</td>\n",
       "      <td>8100.2023</td>\n",
       "      <td>-122.333236</td>\n",
       "      <td>47.606445</td>\n",
       "      <td>(47.606444573, -122.333235573)</td>\n",
       "      <td>THEFT (DOES NOT INCLUDE SHOPLIFT OR SVCS)</td>\n",
       "      <td>OTHER PROPERTY</td>\n",
       "      <td>THEFT</td>\n",
       "      <td>07/09/2015 03:11:00 PM</td>\n",
       "    </tr>\n",
       "    <tr>\n",
       "      <th>1224397</th>\n",
       "      <td>1323324</td>\n",
       "      <td>15000234847</td>\n",
       "      <td>2015234847</td>\n",
       "      <td>65</td>\n",
       "      <td>THEFT - MISCELLANEOUS</td>\n",
       "      <td>THEFT</td>\n",
       "      <td>OTHER PROPERTY</td>\n",
       "      <td>2015-07-09 19:50:00</td>\n",
       "      <td>6XX BLOCK OF UNIVERSITY ST</td>\n",
       "      <td>M</td>\n",
       "      <td>M3</td>\n",
       "      <td>8200.1022</td>\n",
       "      <td>-122.332154</td>\n",
       "      <td>47.609406</td>\n",
       "      <td>(47.609406409, -122.332153643)</td>\n",
       "      <td>THEFT (DOES NOT INCLUDE SHOPLIFT OR SVCS)</td>\n",
       "      <td>OTHER PROPERTY</td>\n",
       "      <td>THEFT</td>\n",
       "      <td>07/09/2015 05:49:00 PM</td>\n",
       "    </tr>\n",
       "    <tr>\n",
       "      <th>1224459</th>\n",
       "      <td>1323355</td>\n",
       "      <td>15000235037</td>\n",
       "      <td>2015235037</td>\n",
       "      <td>65</td>\n",
       "      <td>THEFT - MISCELLANEOUS</td>\n",
       "      <td>THEFT</td>\n",
       "      <td>OTHER PROPERTY</td>\n",
       "      <td>2015-07-09 20:28:00</td>\n",
       "      <td>5 AV / SENECA ST</td>\n",
       "      <td>M</td>\n",
       "      <td>M3</td>\n",
       "      <td>8100.2022</td>\n",
       "      <td>-122.333107</td>\n",
       "      <td>47.607979</td>\n",
       "      <td>(47.607978656, -122.333107381)</td>\n",
       "      <td>THEFT (DOES NOT INCLUDE SHOPLIFT OR SVCS)</td>\n",
       "      <td>OTHER PROPERTY</td>\n",
       "      <td>THEFT</td>\n",
       "      <td>NaN</td>\n",
       "    </tr>\n",
       "    <tr>\n",
       "      <th>1224582</th>\n",
       "      <td>1323523</td>\n",
       "      <td>15000235378</td>\n",
       "      <td>2015235378</td>\n",
       "      <td>63</td>\n",
       "      <td>THEFT - CAR PROWL</td>\n",
       "      <td>CAR PROWL</td>\n",
       "      <td>CAR PROWL</td>\n",
       "      <td>2015-07-10 01:59:00</td>\n",
       "      <td>1 AV / BLANCHARD ST</td>\n",
       "      <td>D</td>\n",
       "      <td>D1</td>\n",
       "      <td>8002.2006</td>\n",
       "      <td>-122.345215</td>\n",
       "      <td>47.612606</td>\n",
       "      <td>(47.612605982, -122.345215195)</td>\n",
       "      <td>WEAPN-IP/JO-GUN,DEADLY WPN (NO THRT/ASLT/DIST)</td>\n",
       "      <td>WEAPONS CALLS</td>\n",
       "      <td>WEAPONS CALLS</td>\n",
       "      <td>07/10/2015 12:44:00 AM</td>\n",
       "    </tr>\n",
       "    <tr>\n",
       "      <th>1224658</th>\n",
       "      <td>1323637</td>\n",
       "      <td>15000235077</td>\n",
       "      <td>2015235077</td>\n",
       "      <td>63</td>\n",
       "      <td>THEFT - CAR PROWL</td>\n",
       "      <td>CAR PROWL</td>\n",
       "      <td>CAR PROWL</td>\n",
       "      <td>2015-07-09 22:01:00</td>\n",
       "      <td>XX BLOCK OF LENORA ST</td>\n",
       "      <td>D</td>\n",
       "      <td>D1</td>\n",
       "      <td>8002.2014</td>\n",
       "      <td>-122.344990</td>\n",
       "      <td>47.611004</td>\n",
       "      <td>(47.61100442, -122.344989536)</td>\n",
       "      <td>TRU - THEFT</td>\n",
       "      <td>OTHER PROPERTY</td>\n",
       "      <td>THEFT</td>\n",
       "      <td>07/09/2015 09:07:00 PM</td>\n",
       "    </tr>\n",
       "    <tr>\n",
       "      <th>1224676</th>\n",
       "      <td>1323668</td>\n",
       "      <td>15000235119</td>\n",
       "      <td>2015235119</td>\n",
       "      <td>63</td>\n",
       "      <td>THEFT - CAR PROWL</td>\n",
       "      <td>CAR PROWL</td>\n",
       "      <td>CAR PROWL</td>\n",
       "      <td>2015-07-10 03:38:00</td>\n",
       "      <td>20XX BLOCK OF WESTERN AV</td>\n",
       "      <td>M</td>\n",
       "      <td>M1</td>\n",
       "      <td>8100.3011</td>\n",
       "      <td>-122.344123</td>\n",
       "      <td>47.610790</td>\n",
       "      <td>(47.610790353, -122.344123271)</td>\n",
       "      <td>THEFT (DOES NOT INCLUDE SHOPLIFT OR SVCS)</td>\n",
       "      <td>OTHER PROPERTY</td>\n",
       "      <td>THEFT</td>\n",
       "      <td>07/09/2015 11:00:00 PM</td>\n",
       "    </tr>\n",
       "    <tr>\n",
       "      <th>1224853</th>\n",
       "      <td>1324108</td>\n",
       "      <td>15000235918</td>\n",
       "      <td>2015235918</td>\n",
       "      <td>65</td>\n",
       "      <td>THEFT - MISCELLANEOUS</td>\n",
       "      <td>THEFT</td>\n",
       "      <td>OTHER PROPERTY</td>\n",
       "      <td>2015-07-10 15:05:00</td>\n",
       "      <td>2XX BLOCK OF 1 AV S</td>\n",
       "      <td>K</td>\n",
       "      <td>K2</td>\n",
       "      <td>9200.2022</td>\n",
       "      <td>-122.334183</td>\n",
       "      <td>47.600478</td>\n",
       "      <td>(47.600478305, -122.334183172)</td>\n",
       "      <td>THEFT (DOES NOT INCLUDE SHOPLIFT OR SVCS)</td>\n",
       "      <td>OTHER PROPERTY</td>\n",
       "      <td>THEFT</td>\n",
       "      <td>07/10/2015 12:46:00 PM</td>\n",
       "    </tr>\n",
       "    <tr>\n",
       "      <th>1224906</th>\n",
       "      <td>1324208</td>\n",
       "      <td>15000235823</td>\n",
       "      <td>2015235823</td>\n",
       "      <td>63</td>\n",
       "      <td>THEFT - CAR PROWL</td>\n",
       "      <td>CAR PROWL</td>\n",
       "      <td>CAR PROWL</td>\n",
       "      <td>2015-07-10 17:02:00</td>\n",
       "      <td>WESTERN AV / UNION ST</td>\n",
       "      <td>M</td>\n",
       "      <td>M1</td>\n",
       "      <td>8100.3013</td>\n",
       "      <td>-122.340218</td>\n",
       "      <td>47.607364</td>\n",
       "      <td>(47.607363729, -122.340217636)</td>\n",
       "      <td>SECONDARY - THEFT (NOT SHOPLIFT OR SERVICES)</td>\n",
       "      <td>OTHER PROPERTY</td>\n",
       "      <td>THEFT</td>\n",
       "      <td>NaN</td>\n",
       "    </tr>\n",
       "    <tr>\n",
       "      <th>1224952</th>\n",
       "      <td>1324314</td>\n",
       "      <td>15000236254</td>\n",
       "      <td>2015236254</td>\n",
       "      <td>63</td>\n",
       "      <td>THEFT - CAR PROWL</td>\n",
       "      <td>CAR PROWL</td>\n",
       "      <td>CAR PROWL</td>\n",
       "      <td>2015-07-10 18:46:00</td>\n",
       "      <td>ALASKAN WY / PIKE ST</td>\n",
       "      <td>M</td>\n",
       "      <td>M1</td>\n",
       "      <td>8100.1013</td>\n",
       "      <td>-122.342652</td>\n",
       "      <td>47.607841</td>\n",
       "      <td>(47.607841478, -122.342652089)</td>\n",
       "      <td>THEFT (DOES NOT INCLUDE SHOPLIFT OR SVCS)</td>\n",
       "      <td>OTHER PROPERTY</td>\n",
       "      <td>THEFT</td>\n",
       "      <td>07/10/2015 05:03:00 PM</td>\n",
       "    </tr>\n",
       "    <tr>\n",
       "      <th>1225044</th>\n",
       "      <td>1324444</td>\n",
       "      <td>15000236386</td>\n",
       "      <td>2015236386</td>\n",
       "      <td>63</td>\n",
       "      <td>THEFT - CAR PROWL</td>\n",
       "      <td>CAR PROWL</td>\n",
       "      <td>CAR PROWL</td>\n",
       "      <td>2015-07-10 21:12:00</td>\n",
       "      <td>BLANCHARD ST / WESTERN AV</td>\n",
       "      <td>D</td>\n",
       "      <td>D1</td>\n",
       "      <td>8002.2006</td>\n",
       "      <td>-122.346076</td>\n",
       "      <td>47.611939</td>\n",
       "      <td>(47.611939202, -122.346075747)</td>\n",
       "      <td>SECONDARY - THEFT (NOT SHOPLIFT OR SERVICES)</td>\n",
       "      <td>OTHER PROPERTY</td>\n",
       "      <td>THEFT</td>\n",
       "      <td>NaN</td>\n",
       "    </tr>\n",
       "    <tr>\n",
       "      <th>1225064</th>\n",
       "      <td>1324478</td>\n",
       "      <td>15000236475</td>\n",
       "      <td>2015236475</td>\n",
       "      <td>63</td>\n",
       "      <td>THEFT - CAR PROWL</td>\n",
       "      <td>CAR PROWL</td>\n",
       "      <td>CAR PROWL</td>\n",
       "      <td>2015-07-10 21:49:00</td>\n",
       "      <td>WESTERN AV / UNION ST</td>\n",
       "      <td>M</td>\n",
       "      <td>M1</td>\n",
       "      <td>8100.3013</td>\n",
       "      <td>-122.340218</td>\n",
       "      <td>47.607364</td>\n",
       "      <td>(47.607363729, -122.340217636)</td>\n",
       "      <td>SECONDARY - THEFT (NOT SHOPLIFT OR SERVICES)</td>\n",
       "      <td>OTHER PROPERTY</td>\n",
       "      <td>THEFT</td>\n",
       "      <td>NaN</td>\n",
       "    </tr>\n",
       "    <tr>\n",
       "      <th>1225092</th>\n",
       "      <td>1324528</td>\n",
       "      <td>15000236470</td>\n",
       "      <td>2015236470</td>\n",
       "      <td>63</td>\n",
       "      <td>THEFT - CAR PROWL</td>\n",
       "      <td>CAR PROWL</td>\n",
       "      <td>CAR PROWL</td>\n",
       "      <td>2015-07-10 22:31:00</td>\n",
       "      <td>20XX BLOCK OF 1 AV</td>\n",
       "      <td>M</td>\n",
       "      <td>M1</td>\n",
       "      <td>8002.1007</td>\n",
       "      <td>-122.343262</td>\n",
       "      <td>47.611453</td>\n",
       "      <td>(47.611452756, -122.343262292)</td>\n",
       "      <td>THEFT (DOES NOT INCLUDE SHOPLIFT OR SVCS)</td>\n",
       "      <td>OTHER PROPERTY</td>\n",
       "      <td>THEFT</td>\n",
       "      <td>07/10/2015 09:15:00 PM</td>\n",
       "    </tr>\n",
       "    <tr>\n",
       "      <th>1225187</th>\n",
       "      <td>1324725</td>\n",
       "      <td>15000236688</td>\n",
       "      <td>2015236688</td>\n",
       "      <td>65</td>\n",
       "      <td>THEFT - MISCELLANEOUS</td>\n",
       "      <td>THEFT</td>\n",
       "      <td>OTHER PROPERTY</td>\n",
       "      <td>2015-07-11 01:53:00</td>\n",
       "      <td>15XX BLOCK OF 1 AV</td>\n",
       "      <td>M</td>\n",
       "      <td>M1</td>\n",
       "      <td>8100.3001</td>\n",
       "      <td>-122.340468</td>\n",
       "      <td>47.609318</td>\n",
       "      <td>(47.6093176, -122.340467728)</td>\n",
       "      <td>DISTURBANCE, MISCELLANEOUS/OTHER</td>\n",
       "      <td>DISTURBANCES</td>\n",
       "      <td>DISTURBANCES</td>\n",
       "      <td>07/10/2015 11:10:00 PM</td>\n",
       "    </tr>\n",
       "    <tr>\n",
       "      <th>1225264</th>\n",
       "      <td>1324933</td>\n",
       "      <td>15000237004</td>\n",
       "      <td>2015237004</td>\n",
       "      <td>65</td>\n",
       "      <td>THEFT - MISCELLANEOUS</td>\n",
       "      <td>THEFT</td>\n",
       "      <td>OTHER PROPERTY</td>\n",
       "      <td>2015-07-11 10:14:00</td>\n",
       "      <td>4XX BLOCK OF JEFFERSON ST</td>\n",
       "      <td>K</td>\n",
       "      <td>K3</td>\n",
       "      <td>8100.2046</td>\n",
       "      <td>-122.329090</td>\n",
       "      <td>47.602752</td>\n",
       "      <td>(47.602752292, -122.329090134)</td>\n",
       "      <td>UNKNOWN - COMPLAINT OF UNKNOWN NATURE</td>\n",
       "      <td>SUSPICIOUS CIRCUMSTANCES</td>\n",
       "      <td>SUSPICIOUS CIRCUMSTANCES</td>\n",
       "      <td>07/11/2015 05:40:00 AM</td>\n",
       "    </tr>\n",
       "    <tr>\n",
       "      <th>1225299</th>\n",
       "      <td>1345372</td>\n",
       "      <td>15000238154</td>\n",
       "      <td>2015238154</td>\n",
       "      <td>63</td>\n",
       "      <td>THEFT - CAR PROWL</td>\n",
       "      <td>CAR PROWL</td>\n",
       "      <td>CAR PROWL</td>\n",
       "      <td>NaT</td>\n",
       "      <td>11XX BLOCK OF 8 AV</td>\n",
       "      <td>E</td>\n",
       "      <td>E3</td>\n",
       "      <td>8200.2000</td>\n",
       "      <td>-122.329450</td>\n",
       "      <td>47.609015</td>\n",
       "      <td>(47.609014956, -122.329450042)</td>\n",
       "      <td>DISTURBANCE, MISCELLANEOUS/OTHER</td>\n",
       "      <td>DISTURBANCES</td>\n",
       "      <td>DISTURBANCES</td>\n",
       "      <td>07/12/2015 02:12:00 AM</td>\n",
       "    </tr>\n",
       "  </tbody>\n",
       "</table>\n",
       "<p>15030 rows × 19 columns</p>\n",
       "</div>"
      ],
      "text/plain": [
       "        CAD CDW ID  CAD Event Number  General Offense Number  \\\n",
       "105        1658029       16000028159               201628159   \n",
       "143          15882       10000246488              2010246488   \n",
       "303          16045       10000246924              2010246924   \n",
       "384          16129       10000246893              2010246893   \n",
       "390          16136       10000246911              2010246911   \n",
       "408          16156       10000246743              2010246743   \n",
       "640          16395       10000247344              2010247344   \n",
       "661          16416       10000247354              2010247354   \n",
       "687          16442       10000247368              2010247368   \n",
       "709          16465       10000247448              2010247448   \n",
       "780          16539       10000247361              2010247361   \n",
       "843          16605       10000247427              2010247427   \n",
       "867          16629       10000247653              2010247653   \n",
       "897          16659       10000247696              2010247696   \n",
       "1118         16884       10000247922              2010247922   \n",
       "1147         16913       10000248081              2010248081   \n",
       "1186         16955       10000246338              2010246338   \n",
       "1253         17022       10000248184              2010248184   \n",
       "1295         17064       10000248334              2010248334   \n",
       "1315         17086       10000248411              2010248411   \n",
       "1340         17111       10000248409              2010248409   \n",
       "1446         17221       10000248554              2010248554   \n",
       "1457         17234       10000248450              2010248450   \n",
       "1481         17259       10000248643              2010248643   \n",
       "1553         17334       10000248621              2010248621   \n",
       "1567         17348       10000248601              2010248601   \n",
       "1657         17440       10000248892              2010248892   \n",
       "1954         17741       10000249292              2010249292   \n",
       "2114         17906       10000249548              2010249548   \n",
       "2476         18285       10000249981              2010249981   \n",
       "...            ...               ...                     ...   \n",
       "1223325    1142385       15000230704              2015230704   \n",
       "1223330    1142376       15000230582              2015230582   \n",
       "1223339    1142414       15000230727              2015230727   \n",
       "1223344    1142420       15000230620              2015230620   \n",
       "1223419    1142526       15000230694              2015230694   \n",
       "1223574    1142785       15000231112              2015231112   \n",
       "1223695    1143005       15000231447              2015231447   \n",
       "1223778    1323824       15000235612              2015235612   \n",
       "1223848    1239035       15000232113              2015232113   \n",
       "1223967    1239321       15000232384              2015232384   \n",
       "1224091    1239905       15000232819              2015232819   \n",
       "1224133    1240058       15000233254              2015233254   \n",
       "1224147    1240178       15000233480              2015233480   \n",
       "1224180    1240515       15000233808              2015233808   \n",
       "1224292    1322889       15000234267              2015234267   \n",
       "1224325    1323079       15000234659              2015234659   \n",
       "1224397    1323324       15000234847              2015234847   \n",
       "1224459    1323355       15000235037              2015235037   \n",
       "1224582    1323523       15000235378              2015235378   \n",
       "1224658    1323637       15000235077              2015235077   \n",
       "1224676    1323668       15000235119              2015235119   \n",
       "1224853    1324108       15000235918              2015235918   \n",
       "1224906    1324208       15000235823              2015235823   \n",
       "1224952    1324314       15000236254              2015236254   \n",
       "1225044    1324444       15000236386              2015236386   \n",
       "1225064    1324478       15000236475              2015236475   \n",
       "1225092    1324528       15000236470              2015236470   \n",
       "1225187    1324725       15000236688              2015236688   \n",
       "1225264    1324933       15000237004              2015237004   \n",
       "1225299    1345372       15000238154              2015238154   \n",
       "\n",
       "         Event Clearance Code Event Clearance Description  \\\n",
       "105                        65       THEFT - MISCELLANEOUS   \n",
       "143                        65       THEFT - MISCELLANEOUS   \n",
       "303                        63           THEFT - CAR PROWL   \n",
       "384                        63           THEFT - CAR PROWL   \n",
       "390                        63           THEFT - CAR PROWL   \n",
       "408                        63           THEFT - CAR PROWL   \n",
       "640                        65       THEFT - MISCELLANEOUS   \n",
       "661                        63           THEFT - CAR PROWL   \n",
       "687                        63           THEFT - CAR PROWL   \n",
       "709                        65       THEFT - MISCELLANEOUS   \n",
       "780                        63           THEFT - CAR PROWL   \n",
       "843                        63           THEFT - CAR PROWL   \n",
       "867                        63           THEFT - CAR PROWL   \n",
       "897                        63           THEFT - CAR PROWL   \n",
       "1118                       63           THEFT - CAR PROWL   \n",
       "1147                       63           THEFT - CAR PROWL   \n",
       "1186                       65       THEFT - MISCELLANEOUS   \n",
       "1253                       63           THEFT - CAR PROWL   \n",
       "1295                       65       THEFT - MISCELLANEOUS   \n",
       "1315                       65       THEFT - MISCELLANEOUS   \n",
       "1340                       63           THEFT - CAR PROWL   \n",
       "1446                       63           THEFT - CAR PROWL   \n",
       "1457                       63           THEFT - CAR PROWL   \n",
       "1481                       63           THEFT - CAR PROWL   \n",
       "1553                       63           THEFT - CAR PROWL   \n",
       "1567                       65       THEFT - MISCELLANEOUS   \n",
       "1657                       63           THEFT - CAR PROWL   \n",
       "1954                       65       THEFT - MISCELLANEOUS   \n",
       "2114                       63           THEFT - CAR PROWL   \n",
       "2476                       63           THEFT - CAR PROWL   \n",
       "...                       ...                         ...   \n",
       "1223325                    65       THEFT - MISCELLANEOUS   \n",
       "1223330                    63           THEFT - CAR PROWL   \n",
       "1223339                    31          STRONG ARM ROBBERY   \n",
       "1223344                    63           THEFT - CAR PROWL   \n",
       "1223419                    63           THEFT - CAR PROWL   \n",
       "1223574                    31          STRONG ARM ROBBERY   \n",
       "1223695                    63           THEFT - CAR PROWL   \n",
       "1223778                    63           THEFT - CAR PROWL   \n",
       "1223848                    65       THEFT - MISCELLANEOUS   \n",
       "1223967                    63           THEFT - CAR PROWL   \n",
       "1224091                    65       THEFT - MISCELLANEOUS   \n",
       "1224133                    65       THEFT - MISCELLANEOUS   \n",
       "1224147                    63           THEFT - CAR PROWL   \n",
       "1224180                    31          STRONG ARM ROBBERY   \n",
       "1224292                    65       THEFT - MISCELLANEOUS   \n",
       "1224325                    65       THEFT - MISCELLANEOUS   \n",
       "1224397                    65       THEFT - MISCELLANEOUS   \n",
       "1224459                    65       THEFT - MISCELLANEOUS   \n",
       "1224582                    63           THEFT - CAR PROWL   \n",
       "1224658                    63           THEFT - CAR PROWL   \n",
       "1224676                    63           THEFT - CAR PROWL   \n",
       "1224853                    65       THEFT - MISCELLANEOUS   \n",
       "1224906                    63           THEFT - CAR PROWL   \n",
       "1224952                    63           THEFT - CAR PROWL   \n",
       "1225044                    63           THEFT - CAR PROWL   \n",
       "1225064                    63           THEFT - CAR PROWL   \n",
       "1225092                    63           THEFT - CAR PROWL   \n",
       "1225187                    65       THEFT - MISCELLANEOUS   \n",
       "1225264                    65       THEFT - MISCELLANEOUS   \n",
       "1225299                    63           THEFT - CAR PROWL   \n",
       "\n",
       "        Event Clearance SubGroup Event Clearance Group Event Clearance Date  \\\n",
       "105                        THEFT        OTHER PROPERTY  2016-01-24 11:54:28   \n",
       "143                        THEFT        OTHER PROPERTY  2010-07-17 21:25:00   \n",
       "303                    CAR PROWL             CAR PROWL  2010-07-18 03:37:00   \n",
       "384                    CAR PROWL             CAR PROWL  2010-07-18 03:56:00   \n",
       "390                    CAR PROWL             CAR PROWL  2010-07-18 04:23:00   \n",
       "408                    CAR PROWL             CAR PROWL  2010-07-18 01:47:00   \n",
       "640                        THEFT        OTHER PROPERTY  2010-07-18 16:14:00   \n",
       "661                    CAR PROWL             CAR PROWL  2010-07-18 16:16:00   \n",
       "687                    CAR PROWL             CAR PROWL  2010-07-18 15:27:00   \n",
       "709                        THEFT        OTHER PROPERTY  2010-07-18 16:13:00   \n",
       "780                    CAR PROWL             CAR PROWL  2010-07-18 18:02:00   \n",
       "843                    CAR PROWL             CAR PROWL  2010-07-18 16:39:00   \n",
       "867                    CAR PROWL             CAR PROWL  2010-07-18 20:30:00   \n",
       "897                    CAR PROWL             CAR PROWL  2010-07-18 21:49:00   \n",
       "1118                   CAR PROWL             CAR PROWL  2010-07-19 04:02:00   \n",
       "1147                   CAR PROWL             CAR PROWL  2010-07-19 06:23:00   \n",
       "1186                       THEFT        OTHER PROPERTY  2010-07-17 20:49:00   \n",
       "1253                   CAR PROWL             CAR PROWL  2010-07-19 11:29:00   \n",
       "1295                       THEFT        OTHER PROPERTY  2010-07-19 12:22:00   \n",
       "1315                       THEFT        OTHER PROPERTY  2010-07-19 15:32:00   \n",
       "1340                   CAR PROWL             CAR PROWL  2010-07-19 13:49:00   \n",
       "1446                   CAR PROWL             CAR PROWL  2010-07-19 16:14:00   \n",
       "1457                   CAR PROWL             CAR PROWL  2010-07-19 14:34:00   \n",
       "1481                   CAR PROWL             CAR PROWL  2010-07-19 17:22:00   \n",
       "1553                   CAR PROWL             CAR PROWL  2010-07-19 17:24:00   \n",
       "1567                       THEFT        OTHER PROPERTY  2010-07-19 16:51:00   \n",
       "1657                   CAR PROWL             CAR PROWL  2010-07-19 22:19:00   \n",
       "1954                       THEFT        OTHER PROPERTY  2010-07-20 06:49:00   \n",
       "2114                   CAR PROWL             CAR PROWL  2010-07-20 11:39:00   \n",
       "2476                   CAR PROWL             CAR PROWL  2010-07-20 17:23:00   \n",
       "...                          ...                   ...                  ...   \n",
       "1223325                    THEFT        OTHER PROPERTY  2015-07-06 17:08:00   \n",
       "1223330                CAR PROWL             CAR PROWL  2015-07-06 16:57:00   \n",
       "1223339                  ROBBERY               ROBBERY  2015-07-06 17:41:00   \n",
       "1223344                CAR PROWL             CAR PROWL  2015-07-06 17:34:00   \n",
       "1223419                CAR PROWL             CAR PROWL  2015-07-06 19:09:00   \n",
       "1223574                  ROBBERY               ROBBERY  2015-07-06 23:50:00   \n",
       "1223695                CAR PROWL             CAR PROWL  2015-07-07 08:01:00   \n",
       "1223778                CAR PROWL             CAR PROWL  2015-07-10 08:37:00   \n",
       "1223848                    THEFT        OTHER PROPERTY  2015-07-07 19:08:00   \n",
       "1223967                CAR PROWL             CAR PROWL  2015-07-07 22:01:00   \n",
       "1224091                    THEFT        OTHER PROPERTY  2015-07-08 15:11:00   \n",
       "1224133                    THEFT        OTHER PROPERTY  2015-07-08 17:29:00   \n",
       "1224147                CAR PROWL             CAR PROWL  2015-07-08 19:25:00   \n",
       "1224180                  ROBBERY               ROBBERY  2015-07-09 02:05:00   \n",
       "1224292                    THEFT        OTHER PROPERTY  2015-07-09 13:14:00   \n",
       "1224325                    THEFT        OTHER PROPERTY  2015-07-09 16:01:00   \n",
       "1224397                    THEFT        OTHER PROPERTY  2015-07-09 19:50:00   \n",
       "1224459                    THEFT        OTHER PROPERTY  2015-07-09 20:28:00   \n",
       "1224582                CAR PROWL             CAR PROWL  2015-07-10 01:59:00   \n",
       "1224658                CAR PROWL             CAR PROWL  2015-07-09 22:01:00   \n",
       "1224676                CAR PROWL             CAR PROWL  2015-07-10 03:38:00   \n",
       "1224853                    THEFT        OTHER PROPERTY  2015-07-10 15:05:00   \n",
       "1224906                CAR PROWL             CAR PROWL  2015-07-10 17:02:00   \n",
       "1224952                CAR PROWL             CAR PROWL  2015-07-10 18:46:00   \n",
       "1225044                CAR PROWL             CAR PROWL  2015-07-10 21:12:00   \n",
       "1225064                CAR PROWL             CAR PROWL  2015-07-10 21:49:00   \n",
       "1225092                CAR PROWL             CAR PROWL  2015-07-10 22:31:00   \n",
       "1225187                    THEFT        OTHER PROPERTY  2015-07-11 01:53:00   \n",
       "1225264                    THEFT        OTHER PROPERTY  2015-07-11 10:14:00   \n",
       "1225299                CAR PROWL             CAR PROWL                  NaT   \n",
       "\n",
       "                Hundred Block Location District/Sector Zone/Beat  \\\n",
       "105              16XX BLOCK OF PIKE PL               M        M1   \n",
       "143              15XX BLOCK OF 7TH AVE               D        D3   \n",
       "303          22XX BLOCK OF WESTERN AVE               M        M1   \n",
       "384              12XX BLOCK OF 1ST AVE               M        M3   \n",
       "390                XX BLOCK OF BELL ST               M        M1   \n",
       "408              XX BLOCK OF LENORA ST               M        M3   \n",
       "640      5XX BLOCK OF OCCIDENTAL AVE S               K        K3   \n",
       "661            4XX BLOCK OF STEWART ST               M        M2   \n",
       "687          22XX BLOCK OF WESTERN AVE               M        M1   \n",
       "709               1XX BLOCK OF PIKE ST               M        M3   \n",
       "780              15XX BLOCK OF 8TH AVE               D        D3   \n",
       "843           3XX BLOCK OF VIRGINIA ST               M        M2   \n",
       "867          14XX BLOCK OF WESTERN AVE               M        M3   \n",
       "897              2XX BLOCK OF UNION ST               K        K1   \n",
       "1118           8XX BLOCK OF MADISON ST               D        D3   \n",
       "1147        6XX BLOCK OF UNIVERSITY ST               D        D3   \n",
       "1186     4XX BLOCK OF OCCIDENTAL AVE S               K        K3   \n",
       "1253              7XX BLOCK OF 1ST AVE               K        K3   \n",
       "1295             19XX BLOCK OF PIKE PL               M        M3   \n",
       "1315            5XX BLOCK OF 5TH AVE S               K        K2   \n",
       "1340         13XX BLOCK OF WESTERN AVE               M        M3   \n",
       "1446             14XX BLOCK OF 3RD AVE               K        K1   \n",
       "1457             XX BLOCK OF LENORA ST               M        M3   \n",
       "1481               XX BLOCK OF PIKE ST               M        M3   \n",
       "1553               XX BLOCK OF PIKE ST               M        M3   \n",
       "1567            2XX BLOCK OF LENORA ST               M        M2   \n",
       "1657           2XX BLOCK OF STEWART ST               M        M3   \n",
       "1954          6XX BLOCK OF S WELLER ST               K        K2   \n",
       "2114          1XX BLOCK OF VIRGINIA ST               M        M2   \n",
       "2476          XX BLOCK OF S JACKSON ST               K        K3   \n",
       "...                                ...             ...       ...   \n",
       "1223325             15XX BLOCK OF 1 AV               M        M1   \n",
       "1223330               4 AV / CHERRY ST               K        K1   \n",
       "1223339             13XX BLOCK OF 2 AV               M        M1   \n",
       "1223344                2 AV / UNION ST               M        M1   \n",
       "1223419      BLANCHARD ST / ELLIOTT AV               D        D1   \n",
       "1223574           4XX BLOCK OF PINE ST               M        M3   \n",
       "1223695             20XX BLOCK OF 2 AV               M        M1   \n",
       "1223778         1XX BLOCK OF YESLER WY               K        K1   \n",
       "1223848             10XX BLOCK OF 4 AV               K        K1   \n",
       "1223967               SENECA ST / 1 AV               K        K1   \n",
       "1224091                4 AV / JAMES ST               K        K1   \n",
       "1224133           5XX BLOCK OF PINE ST               M        M2   \n",
       "1224147      BLANCHARD ST / WESTERN AV               D        D1   \n",
       "1224180             14XX BLOCK OF 2 AV               M        M1   \n",
       "1224292             20XX BLOCK OF 3 AV               M        M2   \n",
       "1224325             10XX BLOCK OF 4 AV               K        K1   \n",
       "1224397     6XX BLOCK OF UNIVERSITY ST               M        M3   \n",
       "1224459               5 AV / SENECA ST               M        M3   \n",
       "1224582            1 AV / BLANCHARD ST               D        D1   \n",
       "1224658          XX BLOCK OF LENORA ST               D        D1   \n",
       "1224676       20XX BLOCK OF WESTERN AV               M        M1   \n",
       "1224853            2XX BLOCK OF 1 AV S               K        K2   \n",
       "1224906          WESTERN AV / UNION ST               M        M1   \n",
       "1224952           ALASKAN WY / PIKE ST               M        M1   \n",
       "1225044      BLANCHARD ST / WESTERN AV               D        D1   \n",
       "1225064          WESTERN AV / UNION ST               M        M1   \n",
       "1225092             20XX BLOCK OF 1 AV               M        M1   \n",
       "1225187             15XX BLOCK OF 1 AV               M        M1   \n",
       "1225264      4XX BLOCK OF JEFFERSON ST               K        K3   \n",
       "1225299             11XX BLOCK OF 8 AV               E        E3   \n",
       "\n",
       "         Census Tract   Longitude   Latitude               Incident Location  \\\n",
       "105         8100.3007 -122.342000  47.609535           (47.609535, -122.342)   \n",
       "143         8200.1005 -122.333808  47.612103  (47.612103393, -122.333808104)   \n",
       "303         8002.2001 -122.346722  47.612326  (47.612326001, -122.346722395)   \n",
       "384         8100.1022 -122.337871  47.606478   (47.606478382, -122.33787064)   \n",
       "390         8002.2008 -122.347802  47.612378  (47.612377961, -122.347802224)   \n",
       "408         8002.2014 -122.344990  47.611004  (47.611004422, -122.344989539)   \n",
       "640         9300.2002 -122.333268  47.596783  (47.596783427, -122.333268217)   \n",
       "661         7200.1063 -122.338303  47.612626  (47.612626071, -122.338302955)   \n",
       "687         8002.2001 -122.346722  47.612326  (47.612326001, -122.346722395)   \n",
       "709         8100.1007 -122.339459  47.609053  (47.609053053, -122.339458563)   \n",
       "780         8200.1006 -122.332698  47.612567  (47.612567255, -122.332698359)   \n",
       "843         8002.1001 -122.340463  47.612730  (47.612730311, -122.340462679)   \n",
       "867         8100.1011 -122.340670  47.607860  (47.607860347, -122.340669909)   \n",
       "897         8100.2010 -122.337440  47.608524  (47.608524196, -122.337439984)   \n",
       "1118        8300.1003 -122.327916  47.608177  (47.608176612, -122.327915893)   \n",
       "1147        8200.1014 -122.332154  47.609406  (47.609406407, -122.332153649)   \n",
       "1186        9300.2004 -122.332884  47.598746   (47.59874629, -122.332884022)   \n",
       "1253        8100.1051 -122.334608  47.602912  (47.602911944, -122.334607822)   \n",
       "1295        8002.1008 -122.342822  47.610019  (47.610018897, -122.342821736)   \n",
       "1315        9300.2000 -122.327673  47.597936  (47.597936288, -122.327672937)   \n",
       "1340        8100.1017 -122.339761  47.606867  (47.606867136, -122.339761475)   \n",
       "1446        8100.2009 -122.337339  47.609253   (47.60925298, -122.337338755)   \n",
       "1457        8002.2014 -122.344990  47.611004  (47.611004422, -122.344989539)   \n",
       "1481        8100.1003 -122.340798  47.608493  (47.608493097, -122.340797599)   \n",
       "1553        8100.1010 -122.340267  47.608683  (47.608682699, -122.340266616)   \n",
       "1567        8002.1001 -122.342623  47.612834  (47.612834368, -122.342622658)   \n",
       "1657        8100.2003 -122.340022  47.611297  (47.611296543, -122.340022029)   \n",
       "1954        9100.2005 -122.325715  47.597514  (47.597514069, -122.325714577)   \n",
       "2114        8002.1001 -122.342183  47.611401  (47.611400659, -122.342182557)   \n",
       "2476        9200.2024 -122.335554  47.599207  (47.599207142, -122.335554418)   \n",
       "...               ...         ...        ...                             ...   \n",
       "1223325     8100.3001 -122.340468  47.609318    (47.6093176, -122.340467728)   \n",
       "1223330     8100.2041 -122.330956  47.603946  (47.603946079, -122.330955893)   \n",
       "1223339     8100.1000 -122.337541  47.607796  (47.607795617, -122.337541068)   \n",
       "1223344     8100.3003 -122.337998  47.608290   (47.60828974, -122.337998165)   \n",
       "1223419     8002.2009 -122.346537  47.611610  (47.611609517, -122.346536535)   \n",
       "1223574     8100.2004 -122.337320  47.611321  (47.611321238, -122.337320424)   \n",
       "1223695     8002.1001 -122.342403  47.612117    (47.612117499, -122.3424026)   \n",
       "1223778     8100.1054 -122.334039  47.601722  (47.601722113, -122.334038713)   \n",
       "1223848     8100.2023 -122.333236  47.606445  (47.606444573, -122.333235573)   \n",
       "1223967     8100.1006 -122.337546  47.606121    (47.6061213, -122.337546233)   \n",
       "1224091     8100.2041 -122.330299  47.603231  (47.603230836, -122.330298791)   \n",
       "1224133     8200.1003 -122.335929  47.611904  (47.611904235, -122.335928552)   \n",
       "1224147     8002.2006 -122.346076  47.611939  (47.611939202, -122.346075747)   \n",
       "1224180     8100.3003 -122.338450  47.608789   (47.608788659, -122.33844952)   \n",
       "1224292     7200.1067 -122.341543  47.612782    (47.612782412, -122.3415426)   \n",
       "1224325     8100.2023 -122.333236  47.606445  (47.606444573, -122.333235573)   \n",
       "1224397     8200.1022 -122.332154  47.609406  (47.609406409, -122.332153643)   \n",
       "1224459     8100.2022 -122.333107  47.607979  (47.607978656, -122.333107381)   \n",
       "1224582     8002.2006 -122.345215  47.612606  (47.612605982, -122.345215195)   \n",
       "1224658     8002.2014 -122.344990  47.611004   (47.61100442, -122.344989536)   \n",
       "1224676     8100.3011 -122.344123  47.610790  (47.610790353, -122.344123271)   \n",
       "1224853     9200.2022 -122.334183  47.600478  (47.600478305, -122.334183172)   \n",
       "1224906     8100.3013 -122.340218  47.607364  (47.607363729, -122.340217636)   \n",
       "1224952     8100.1013 -122.342652  47.607841  (47.607841478, -122.342652089)   \n",
       "1225044     8002.2006 -122.346076  47.611939  (47.611939202, -122.346075747)   \n",
       "1225064     8100.3013 -122.340218  47.607364  (47.607363729, -122.340217636)   \n",
       "1225092     8002.1007 -122.343262  47.611453  (47.611452756, -122.343262292)   \n",
       "1225187     8100.3001 -122.340468  47.609318    (47.6093176, -122.340467728)   \n",
       "1225264     8100.2046 -122.329090  47.602752  (47.602752292, -122.329090134)   \n",
       "1225299     8200.2000 -122.329450  47.609015  (47.609014956, -122.329450042)   \n",
       "\n",
       "                               Initial Type Description  \\\n",
       "105        PARKS VIOLATIONS/CITES (INCLUDES EXCLUSIONS)   \n",
       "143                                                 NaN   \n",
       "303                                                 NaN   \n",
       "384                                                 NaN   \n",
       "390                                                 NaN   \n",
       "408                                                 NaN   \n",
       "640                                                 NaN   \n",
       "661                                                 NaN   \n",
       "687                                                 NaN   \n",
       "709                                                 NaN   \n",
       "780                                                 NaN   \n",
       "843                                                 NaN   \n",
       "867                                                 NaN   \n",
       "897                                                 NaN   \n",
       "1118                                                NaN   \n",
       "1147                                                NaN   \n",
       "1186                                                NaN   \n",
       "1253                                                NaN   \n",
       "1295                                                NaN   \n",
       "1315                                                NaN   \n",
       "1340                                                NaN   \n",
       "1446                                                NaN   \n",
       "1457                                                NaN   \n",
       "1481                                                NaN   \n",
       "1553                                                NaN   \n",
       "1567                                                NaN   \n",
       "1657                                                NaN   \n",
       "1954                                                NaN   \n",
       "2114                                                NaN   \n",
       "2476                                                NaN   \n",
       "...                                                 ...   \n",
       "1223325       THEFT (DOES NOT INCLUDE SHOPLIFT OR SVCS)   \n",
       "1223330    SECONDARY - THEFT (NOT SHOPLIFT OR SERVICES)   \n",
       "1223339           ROBBERY - IP/JO (INCLUDES STRONG ARM)   \n",
       "1223344       THEFT (DOES NOT INCLUDE SHOPLIFT OR SVCS)   \n",
       "1223419                                     TRU - THEFT   \n",
       "1223574           ROBBERY - IP/JO (INCLUDES STRONG ARM)   \n",
       "1223695                                     TRU - THEFT   \n",
       "1223778                                     TRU - THEFT   \n",
       "1223848       THEFT (DOES NOT INCLUDE SHOPLIFT OR SVCS)   \n",
       "1223967       THEFT (DOES NOT INCLUDE SHOPLIFT OR SVCS)   \n",
       "1224091    SECONDARY - THEFT (NOT SHOPLIFT OR SERVICES)   \n",
       "1224133       THEFT (DOES NOT INCLUDE SHOPLIFT OR SVCS)   \n",
       "1224147       THEFT (DOES NOT INCLUDE SHOPLIFT OR SVCS)   \n",
       "1224180           ROBBERY - IP/JO (INCLUDES STRONG ARM)   \n",
       "1224292       THEFT (DOES NOT INCLUDE SHOPLIFT OR SVCS)   \n",
       "1224325       THEFT (DOES NOT INCLUDE SHOPLIFT OR SVCS)   \n",
       "1224397       THEFT (DOES NOT INCLUDE SHOPLIFT OR SVCS)   \n",
       "1224459       THEFT (DOES NOT INCLUDE SHOPLIFT OR SVCS)   \n",
       "1224582  WEAPN-IP/JO-GUN,DEADLY WPN (NO THRT/ASLT/DIST)   \n",
       "1224658                                     TRU - THEFT   \n",
       "1224676       THEFT (DOES NOT INCLUDE SHOPLIFT OR SVCS)   \n",
       "1224853       THEFT (DOES NOT INCLUDE SHOPLIFT OR SVCS)   \n",
       "1224906    SECONDARY - THEFT (NOT SHOPLIFT OR SERVICES)   \n",
       "1224952       THEFT (DOES NOT INCLUDE SHOPLIFT OR SVCS)   \n",
       "1225044    SECONDARY - THEFT (NOT SHOPLIFT OR SERVICES)   \n",
       "1225064    SECONDARY - THEFT (NOT SHOPLIFT OR SERVICES)   \n",
       "1225092       THEFT (DOES NOT INCLUDE SHOPLIFT OR SVCS)   \n",
       "1225187                DISTURBANCE, MISCELLANEOUS/OTHER   \n",
       "1225264           UNKNOWN - COMPLAINT OF UNKNOWN NATURE   \n",
       "1225299                DISTURBANCE, MISCELLANEOUS/OTHER   \n",
       "\n",
       "            Initial Type Subgroup        Initial Type Group  \\\n",
       "105                      TRESPASS          PARKS EXCLUSIONS   \n",
       "143                           NaN                       NaN   \n",
       "303                           NaN                       NaN   \n",
       "384                           NaN                       NaN   \n",
       "390                           NaN                       NaN   \n",
       "408                           NaN                       NaN   \n",
       "640                           NaN                       NaN   \n",
       "661                           NaN                       NaN   \n",
       "687                           NaN                       NaN   \n",
       "709                           NaN                       NaN   \n",
       "780                           NaN                       NaN   \n",
       "843                           NaN                       NaN   \n",
       "867                           NaN                       NaN   \n",
       "897                           NaN                       NaN   \n",
       "1118                          NaN                       NaN   \n",
       "1147                          NaN                       NaN   \n",
       "1186                          NaN                       NaN   \n",
       "1253                          NaN                       NaN   \n",
       "1295                          NaN                       NaN   \n",
       "1315                          NaN                       NaN   \n",
       "1340                          NaN                       NaN   \n",
       "1446                          NaN                       NaN   \n",
       "1457                          NaN                       NaN   \n",
       "1481                          NaN                       NaN   \n",
       "1553                          NaN                       NaN   \n",
       "1567                          NaN                       NaN   \n",
       "1657                          NaN                       NaN   \n",
       "1954                          NaN                       NaN   \n",
       "2114                          NaN                       NaN   \n",
       "2476                          NaN                       NaN   \n",
       "...                           ...                       ...   \n",
       "1223325            OTHER PROPERTY                     THEFT   \n",
       "1223330            OTHER PROPERTY                     THEFT   \n",
       "1223339                   ROBBERY                   ROBBERY   \n",
       "1223344            OTHER PROPERTY                     THEFT   \n",
       "1223419            OTHER PROPERTY                     THEFT   \n",
       "1223574                   ROBBERY                   ROBBERY   \n",
       "1223695            OTHER PROPERTY                     THEFT   \n",
       "1223778            OTHER PROPERTY                     THEFT   \n",
       "1223848            OTHER PROPERTY                     THEFT   \n",
       "1223967            OTHER PROPERTY                     THEFT   \n",
       "1224091            OTHER PROPERTY                     THEFT   \n",
       "1224133            OTHER PROPERTY                     THEFT   \n",
       "1224147            OTHER PROPERTY                     THEFT   \n",
       "1224180                   ROBBERY                   ROBBERY   \n",
       "1224292            OTHER PROPERTY                     THEFT   \n",
       "1224325            OTHER PROPERTY                     THEFT   \n",
       "1224397            OTHER PROPERTY                     THEFT   \n",
       "1224459            OTHER PROPERTY                     THEFT   \n",
       "1224582             WEAPONS CALLS             WEAPONS CALLS   \n",
       "1224658            OTHER PROPERTY                     THEFT   \n",
       "1224676            OTHER PROPERTY                     THEFT   \n",
       "1224853            OTHER PROPERTY                     THEFT   \n",
       "1224906            OTHER PROPERTY                     THEFT   \n",
       "1224952            OTHER PROPERTY                     THEFT   \n",
       "1225044            OTHER PROPERTY                     THEFT   \n",
       "1225064            OTHER PROPERTY                     THEFT   \n",
       "1225092            OTHER PROPERTY                     THEFT   \n",
       "1225187              DISTURBANCES              DISTURBANCES   \n",
       "1225264  SUSPICIOUS CIRCUMSTANCES  SUSPICIOUS CIRCUMSTANCES   \n",
       "1225299              DISTURBANCES              DISTURBANCES   \n",
       "\n",
       "                  At Scene Time  \n",
       "105                         NaN  \n",
       "143                         NaN  \n",
       "303                         NaN  \n",
       "384                         NaN  \n",
       "390                         NaN  \n",
       "408                         NaN  \n",
       "640                         NaN  \n",
       "661                         NaN  \n",
       "687                         NaN  \n",
       "709                         NaN  \n",
       "780                         NaN  \n",
       "843                         NaN  \n",
       "867                         NaN  \n",
       "897                         NaN  \n",
       "1118                        NaN  \n",
       "1147                        NaN  \n",
       "1186                        NaN  \n",
       "1253                        NaN  \n",
       "1295                        NaN  \n",
       "1315                        NaN  \n",
       "1340                        NaN  \n",
       "1446                        NaN  \n",
       "1457                        NaN  \n",
       "1481                        NaN  \n",
       "1553                        NaN  \n",
       "1567                        NaN  \n",
       "1657                        NaN  \n",
       "1954                        NaN  \n",
       "2114                        NaN  \n",
       "2476                        NaN  \n",
       "...                         ...  \n",
       "1223325                     NaN  \n",
       "1223330  07/06/2015 03:56:00 PM  \n",
       "1223339  07/06/2015 04:50:00 PM  \n",
       "1223344  07/06/2015 04:37:00 PM  \n",
       "1223419  07/06/2015 06:12:00 PM  \n",
       "1223574  07/06/2015 10:18:00 PM  \n",
       "1223695                     NaN  \n",
       "1223778                     NaN  \n",
       "1223848  07/07/2015 05:13:00 PM  \n",
       "1223967                     NaN  \n",
       "1224091  07/08/2015 12:10:00 PM  \n",
       "1224133  07/08/2015 02:14:00 PM  \n",
       "1224147  07/08/2015 05:24:00 PM  \n",
       "1224180  07/08/2015 10:07:00 PM  \n",
       "1224292  07/09/2015 12:17:00 PM  \n",
       "1224325  07/09/2015 03:11:00 PM  \n",
       "1224397  07/09/2015 05:49:00 PM  \n",
       "1224459                     NaN  \n",
       "1224582  07/10/2015 12:44:00 AM  \n",
       "1224658  07/09/2015 09:07:00 PM  \n",
       "1224676  07/09/2015 11:00:00 PM  \n",
       "1224853  07/10/2015 12:46:00 PM  \n",
       "1224906                     NaN  \n",
       "1224952  07/10/2015 05:03:00 PM  \n",
       "1225044                     NaN  \n",
       "1225064                     NaN  \n",
       "1225092  07/10/2015 09:15:00 PM  \n",
       "1225187  07/10/2015 11:10:00 PM  \n",
       "1225264  07/11/2015 05:40:00 AM  \n",
       "1225299  07/12/2015 02:12:00 AM  \n",
       "\n",
       "[15030 rows x 19 columns]"
      ]
     },
     "execution_count": 182,
     "metadata": {},
     "output_type": "execute_result"
    }
   ],
   "source": [
    "df_theft"
   ]
  },
  {
   "cell_type": "code",
   "execution_count": 183,
   "metadata": {
    "collapsed": true
   },
   "outputs": [],
   "source": [
    "df_life = df_travel[(df_travel['Event Clearance Description']=='HAZARDS') | \n",
    "                                (df_travel['Event Clearance Description']=='DRIVING WHILE UNDER INFLUENCE (DUI)') |\n",
    "                                (df_travel['Event Clearance Description']=='HOMICIDE') |\n",
    "                                (df_travel['Event Clearance Description']=='RECKLESS BURNING') |\n",
    "                                (df_travel['Event Clearance Description']=='DRIVE BY (NO INJURY)') |\n",
    "                                (df_travel['Event Clearance Description']=='DRIVE BY SHOOTING (NO INJURIES)') |\n",
    "                                (df_travel['Event Clearance Description']=='PERSON WITH A WEAPON (NOT GUN) ') |   \n",
    "                                (df_travel['Event Clearance Description']=='PERSON WITH A GUN')                       \n",
    "                             ]"
   ]
  },
  {
   "cell_type": "code",
   "execution_count": 184,
   "metadata": {
    "collapsed": false
   },
   "outputs": [
    {
     "name": "stderr",
     "output_type": "stream",
     "text": [
      "/Users/ericpei/anaconda/lib/python2.7/site-packages/ipykernel/__main__.py:1: SettingWithCopyWarning: \n",
      "A value is trying to be set on a copy of a slice from a DataFrame.\n",
      "Try using .loc[row_indexer,col_indexer] = value instead\n",
      "\n",
      "See the caveats in the documentation: http://pandas.pydata.org/pandas-docs/stable/indexing.html#indexing-view-versus-copy\n",
      "  if __name__ == '__main__':\n"
     ]
    }
   ],
   "source": [
    "df_life['Event Clearance Date'] = pd.to_datetime(df_life['Event Clearance Date'])"
   ]
  },
  {
   "cell_type": "code",
   "execution_count": 189,
   "metadata": {
    "collapsed": false
   },
   "outputs": [
    {
     "data": {
      "text/plain": [
       "Timestamp('2016-05-20 03:13:49')"
      ]
     },
     "execution_count": 189,
     "metadata": {},
     "output_type": "execute_result"
    }
   ],
   "source": [
    "max(df_life['Event Clearance Date'])"
   ]
  },
  {
   "cell_type": "code",
   "execution_count": 195,
   "metadata": {
    "collapsed": false
   },
   "outputs": [],
   "source": [
    "latitudes = np.arange(47.595114,47.6129902,(47.6129902-47.595114)/(10))"
   ]
  },
  {
   "cell_type": "code",
   "execution_count": 196,
   "metadata": {
    "collapsed": false
   },
   "outputs": [],
   "source": [
    "longitudes = np.arange(-122.3521897,-122.3211315,(-122.3211315+122.3521897)/(10))"
   ]
  },
  {
   "cell_type": "code",
   "execution_count": 197,
   "metadata": {
    "collapsed": false
   },
   "outputs": [
    {
     "data": {
      "text/plain": [
       "array([-122.3521897 , -122.34908388, -122.34597806, -122.34287224,\n",
       "       -122.33976642, -122.3366606 , -122.33355478, -122.33044896,\n",
       "       -122.32734314, -122.32423732])"
      ]
     },
     "execution_count": 197,
     "metadata": {},
     "output_type": "execute_result"
    }
   ],
   "source": [
    "longitudes"
   ]
  },
  {
   "cell_type": "code",
   "execution_count": 393,
   "metadata": {
    "collapsed": false
   },
   "outputs": [],
   "source": [
    "index_lat = np.digitize(df_life['Latitude'], latitudes)\n",
    "index_lon = np.digitize(df_life['Longitude'], longitudes)"
   ]
  },
  {
   "cell_type": "code",
   "execution_count": 395,
   "metadata": {
    "collapsed": false
   },
   "outputs": [
    {
     "data": {
      "text/plain": [
       "2791"
      ]
     },
     "execution_count": 395,
     "metadata": {},
     "output_type": "execute_result"
    }
   ],
   "source": [
    "len(index_lat)"
   ]
  },
  {
   "cell_type": "code",
   "execution_count": 396,
   "metadata": {
    "collapsed": true
   },
   "outputs": [],
   "source": [
    "index_lat = index_lat-1\n",
    "index_lon = index_lon-1"
   ]
  },
  {
   "cell_type": "code",
   "execution_count": 397,
   "metadata": {
    "collapsed": false
   },
   "outputs": [
    {
     "data": {
      "text/plain": [
       "2791"
      ]
     },
     "execution_count": 397,
     "metadata": {},
     "output_type": "execute_result"
    }
   ],
   "source": [
    "len(index_lat)"
   ]
  },
  {
   "cell_type": "code",
   "execution_count": 398,
   "metadata": {
    "collapsed": false,
    "scrolled": true
   },
   "outputs": [
    {
     "data": {
      "text/plain": [
       "2791"
      ]
     },
     "execution_count": 398,
     "metadata": {},
     "output_type": "execute_result"
    }
   ],
   "source": [
    "len(df_life['Lat_bin'])"
   ]
  },
  {
   "cell_type": "code",
   "execution_count": 399,
   "metadata": {
    "collapsed": false,
    "scrolled": true
   },
   "outputs": [],
   "source": [
    "df_life['Lat_bin'] = index_lat\n",
    "df_life['Lon_bin'] = index_lon"
   ]
  },
  {
   "cell_type": "code",
   "execution_count": 252,
   "metadata": {
    "collapsed": false
   },
   "outputs": [],
   "source": [
    "df_life = df_life.drop(['Long_Bin','Lat_Bin'], axis=1)"
   ]
  },
  {
   "cell_type": "code",
   "execution_count": 400,
   "metadata": {
    "collapsed": true
   },
   "outputs": [],
   "source": [
    "index_lat_theft = np.digitize(df_theft['Latitude'], latitudes)\n",
    "index_lon_theft = np.digitize(df_theft['Longitude'], longitudes)"
   ]
  },
  {
   "cell_type": "code",
   "execution_count": 401,
   "metadata": {
    "collapsed": true
   },
   "outputs": [],
   "source": [
    "index_lat_theft = index_lat_theft-1\n",
    "index_lon_theft = index_lon_theft-1"
   ]
  },
  {
   "cell_type": "code",
   "execution_count": 402,
   "metadata": {
    "collapsed": false
   },
   "outputs": [
    {
     "name": "stderr",
     "output_type": "stream",
     "text": [
      "/Users/ericpei/anaconda/lib/python2.7/site-packages/ipykernel/__main__.py:1: SettingWithCopyWarning: \n",
      "A value is trying to be set on a copy of a slice from a DataFrame.\n",
      "Try using .loc[row_indexer,col_indexer] = value instead\n",
      "\n",
      "See the caveats in the documentation: http://pandas.pydata.org/pandas-docs/stable/indexing.html#indexing-view-versus-copy\n",
      "  if __name__ == '__main__':\n",
      "/Users/ericpei/anaconda/lib/python2.7/site-packages/ipykernel/__main__.py:2: SettingWithCopyWarning: \n",
      "A value is trying to be set on a copy of a slice from a DataFrame.\n",
      "Try using .loc[row_indexer,col_indexer] = value instead\n",
      "\n",
      "See the caveats in the documentation: http://pandas.pydata.org/pandas-docs/stable/indexing.html#indexing-view-versus-copy\n",
      "  from ipykernel import kernelapp as app\n"
     ]
    }
   ],
   "source": [
    "df_theft['Lat_bin'] = index_lat_theft\n",
    "df_theft['Lon_bin'] = index_lon_theft"
   ]
  },
  {
   "cell_type": "code",
   "execution_count": 403,
   "metadata": {
    "collapsed": true
   },
   "outputs": [],
   "source": [
    "index_lat_assault = np.digitize(df_assault['Latitude'], latitudes)\n",
    "index_lon_assault = np.digitize(df_assault['Longitude'], longitudes)"
   ]
  },
  {
   "cell_type": "code",
   "execution_count": 404,
   "metadata": {
    "collapsed": true
   },
   "outputs": [],
   "source": [
    "index_lat_assault = index_lat_assault-1\n",
    "index_lon_assault = index_lon_assault-1"
   ]
  },
  {
   "cell_type": "code",
   "execution_count": 405,
   "metadata": {
    "collapsed": false
   },
   "outputs": [
    {
     "name": "stderr",
     "output_type": "stream",
     "text": [
      "/Users/ericpei/anaconda/lib/python2.7/site-packages/ipykernel/__main__.py:1: SettingWithCopyWarning: \n",
      "A value is trying to be set on a copy of a slice from a DataFrame.\n",
      "Try using .loc[row_indexer,col_indexer] = value instead\n",
      "\n",
      "See the caveats in the documentation: http://pandas.pydata.org/pandas-docs/stable/indexing.html#indexing-view-versus-copy\n",
      "  if __name__ == '__main__':\n",
      "/Users/ericpei/anaconda/lib/python2.7/site-packages/ipykernel/__main__.py:2: SettingWithCopyWarning: \n",
      "A value is trying to be set on a copy of a slice from a DataFrame.\n",
      "Try using .loc[row_indexer,col_indexer] = value instead\n",
      "\n",
      "See the caveats in the documentation: http://pandas.pydata.org/pandas-docs/stable/indexing.html#indexing-view-versus-copy\n",
      "  from ipykernel import kernelapp as app\n"
     ]
    }
   ],
   "source": [
    "df_assault['Lat_bin'] = index_lat_assault\n",
    "df_assault['Lon_bin'] = index_lon_assault"
   ]
  },
  {
   "cell_type": "code",
   "execution_count": 406,
   "metadata": {
    "collapsed": false
   },
   "outputs": [
    {
     "data": {
      "text/plain": [
       "17256"
      ]
     },
     "execution_count": 406,
     "metadata": {},
     "output_type": "execute_result"
    }
   ],
   "source": [
    "len(df_assault)"
   ]
  },
  {
   "cell_type": "code",
   "execution_count": 407,
   "metadata": {
    "collapsed": false
   },
   "outputs": [
    {
     "data": {
      "text/plain": [
       "15025"
      ]
     },
     "execution_count": 407,
     "metadata": {},
     "output_type": "execute_result"
    }
   ],
   "source": [
    "len(df_theft)"
   ]
  },
  {
   "cell_type": "code",
   "execution_count": 408,
   "metadata": {
    "collapsed": false
   },
   "outputs": [
    {
     "data": {
      "text/plain": [
       "2791"
      ]
     },
     "execution_count": 408,
     "metadata": {},
     "output_type": "execute_result"
    }
   ],
   "source": [
    "len(df_life)"
   ]
  },
  {
   "cell_type": "code",
   "execution_count": 409,
   "metadata": {
    "collapsed": false
   },
   "outputs": [
    {
     "name": "stdout",
     "output_type": "stream",
     "text": [
      "<class 'pandas.core.frame.DataFrame'>\n",
      "Int64Index: 17256 entries, 119 to 1225179\n",
      "Data columns (total 25 columns):\n",
      "CAD CDW ID                     17256 non-null object\n",
      "CAD Event Number               17256 non-null int64\n",
      "General Offense Number         17256 non-null int64\n",
      "Event Clearance Code           17256 non-null float64\n",
      "Event Clearance Description    17256 non-null object\n",
      "Event Clearance SubGroup       17256 non-null object\n",
      "Event Clearance Group          17256 non-null object\n",
      "Event Clearance Date           17256 non-null datetime64[ns]\n",
      "Hundred Block Location         17214 non-null object\n",
      "District/Sector                17178 non-null object\n",
      "Zone/Beat                      17256 non-null object\n",
      "Census Tract                   17179 non-null float64\n",
      "Longitude                      17256 non-null float64\n",
      "Latitude                       17256 non-null float64\n",
      "Incident Location              17256 non-null object\n",
      "Initial Type Description       11157 non-null object\n",
      "Initial Type Subgroup          11157 non-null object\n",
      "Initial Type Group             11157 non-null object\n",
      "At Scene Time                  5553 non-null object\n",
      "Lat_bin                        17256 non-null int64\n",
      "Lon_bin                        17256 non-null int64\n",
      "Event Clearance Hour           17256 non-null int64\n",
      "Time category                  17256 non-null object\n",
      "DoW                            17256 non-null int64\n",
      "Period                         17256 non-null int64\n",
      "dtypes: datetime64[ns](1), float64(4), int64(7), object(13)\n",
      "memory usage: 3.4+ MB\n"
     ]
    }
   ],
   "source": [
    "df_assault.info()"
   ]
  },
  {
   "cell_type": "code",
   "execution_count": 269,
   "metadata": {
    "collapsed": true
   },
   "outputs": [],
   "source": [
    "df_assault = df_assault.dropna(subset=['Event Clearance Date'])\n",
    "df_theft = df_theft.dropna(subset=['Event Clearance Date'])\n",
    "df_life = df_life.dropna(subset=['Event Clearance Date'])"
   ]
  },
  {
   "cell_type": "code",
   "execution_count": 272,
   "metadata": {
    "collapsed": false
   },
   "outputs": [
    {
     "name": "stderr",
     "output_type": "stream",
     "text": [
      "/Users/ericpei/anaconda/lib/python2.7/site-packages/ipykernel/__main__.py:1: SettingWithCopyWarning: \n",
      "A value is trying to be set on a copy of a slice from a DataFrame.\n",
      "Try using .loc[row_indexer,col_indexer] = value instead\n",
      "\n",
      "See the caveats in the documentation: http://pandas.pydata.org/pandas-docs/stable/indexing.html#indexing-view-versus-copy\n",
      "  if __name__ == '__main__':\n",
      "/Users/ericpei/anaconda/lib/python2.7/site-packages/ipykernel/__main__.py:2: SettingWithCopyWarning: \n",
      "A value is trying to be set on a copy of a slice from a DataFrame.\n",
      "Try using .loc[row_indexer,col_indexer] = value instead\n",
      "\n",
      "See the caveats in the documentation: http://pandas.pydata.org/pandas-docs/stable/indexing.html#indexing-view-versus-copy\n",
      "  from ipykernel import kernelapp as app\n"
     ]
    }
   ],
   "source": [
    "df_assault['Event Clearance Hour'] = df_assault['Event Clearance Date'].apply(lambda x: x.hour)\n",
    "df_theft['Event Clearance Hour'] = df_theft['Event Clearance Date'].apply(lambda x: x.hour)\n",
    "df_life['Event Clearance Hour'] = df_life['Event Clearance Date'].apply(lambda x: x.hour)"
   ]
  },
  {
   "cell_type": "code",
   "execution_count": 273,
   "metadata": {
    "collapsed": false
   },
   "outputs": [
    {
     "name": "stderr",
     "output_type": "stream",
     "text": [
      "/Users/ericpei/anaconda/lib/python2.7/site-packages/ipykernel/__main__.py:9: SettingWithCopyWarning: \n",
      "A value is trying to be set on a copy of a slice from a DataFrame.\n",
      "Try using .loc[row_indexer,col_indexer] = value instead\n",
      "\n",
      "See the caveats in the documentation: http://pandas.pydata.org/pandas-docs/stable/indexing.html#indexing-view-versus-copy\n",
      "/Users/ericpei/anaconda/lib/python2.7/site-packages/ipykernel/__main__.py:10: SettingWithCopyWarning: \n",
      "A value is trying to be set on a copy of a slice from a DataFrame.\n",
      "Try using .loc[row_indexer,col_indexer] = value instead\n",
      "\n",
      "See the caveats in the documentation: http://pandas.pydata.org/pandas-docs/stable/indexing.html#indexing-view-versus-copy\n"
     ]
    }
   ],
   "source": [
    "def categorize_time(hour):\n",
    "   if hour >= 0 and hour < 8:\n",
    "       return 'Morning'\n",
    "   if hour >= 8 and hour < 16:\n",
    "       return 'Day'\n",
    "   else:\n",
    "       return 'Night'\n",
    "\n",
    "df_assault['Time category'] = df_assault['Event Clearance Hour'].apply(categorize_time)\n",
    "df_theft['Time category'] = df_theft['Event Clearance Hour'].apply(categorize_time)\n",
    "df_life['Time category'] = df_life['Event Clearance Hour'].apply(categorize_time)"
   ]
  },
  {
   "cell_type": "code",
   "execution_count": 278,
   "metadata": {
    "collapsed": true
   },
   "outputs": [],
   "source": [
    "from datetime import date"
   ]
  },
  {
   "cell_type": "code",
   "execution_count": 284,
   "metadata": {
    "collapsed": false
   },
   "outputs": [
    {
     "name": "stderr",
     "output_type": "stream",
     "text": [
      "/Users/ericpei/anaconda/lib/python2.7/site-packages/ipykernel/__main__.py:1: SettingWithCopyWarning: \n",
      "A value is trying to be set on a copy of a slice from a DataFrame.\n",
      "Try using .loc[row_indexer,col_indexer] = value instead\n",
      "\n",
      "See the caveats in the documentation: http://pandas.pydata.org/pandas-docs/stable/indexing.html#indexing-view-versus-copy\n",
      "  if __name__ == '__main__':\n",
      "/Users/ericpei/anaconda/lib/python2.7/site-packages/ipykernel/__main__.py:2: SettingWithCopyWarning: \n",
      "A value is trying to be set on a copy of a slice from a DataFrame.\n",
      "Try using .loc[row_indexer,col_indexer] = value instead\n",
      "\n",
      "See the caveats in the documentation: http://pandas.pydata.org/pandas-docs/stable/indexing.html#indexing-view-versus-copy\n",
      "  from ipykernel import kernelapp as app\n"
     ]
    }
   ],
   "source": [
    "df_assault['DoW'] = df_assault['Event Clearance Date'].apply(date.weekday)\n",
    "df_theft['DoW'] = df_theft['Event Clearance Date'].apply(date.weekday)\n",
    "df_life['DoW'] = df_life['Event Clearance Date'].apply(date.weekday)"
   ]
  },
  {
   "cell_type": "code",
   "execution_count": 287,
   "metadata": {
    "collapsed": false
   },
   "outputs": [
    {
     "name": "stdout",
     "output_type": "stream",
     "text": [
      "2010-07-18 14:25:00\n",
      "2009-10-20 09:15:00\n",
      "2010-01-03 03:27:00\n"
     ]
    }
   ],
   "source": [
    "print min(df_life['Event Clearance Date'])\n",
    "print min(df_theft['Event Clearance Date'])\n",
    "print min(df_assault['Event Clearance Date'])"
   ]
  },
  {
   "cell_type": "code",
   "execution_count": 288,
   "metadata": {
    "collapsed": false
   },
   "outputs": [
    {
     "name": "stdout",
     "output_type": "stream",
     "text": [
      "<class 'pandas.core.frame.DataFrame'>\n",
      "Int64Index: 17256 entries, 119 to 1225179\n",
      "Data columns (total 24 columns):\n",
      "CAD CDW ID                     17256 non-null object\n",
      "CAD Event Number               17256 non-null int64\n",
      "General Offense Number         17256 non-null int64\n",
      "Event Clearance Code           17256 non-null float64\n",
      "Event Clearance Description    17256 non-null object\n",
      "Event Clearance SubGroup       17256 non-null object\n",
      "Event Clearance Group          17256 non-null object\n",
      "Event Clearance Date           17256 non-null datetime64[ns]\n",
      "Hundred Block Location         17214 non-null object\n",
      "District/Sector                17178 non-null object\n",
      "Zone/Beat                      17256 non-null object\n",
      "Census Tract                   17179 non-null float64\n",
      "Longitude                      17256 non-null float64\n",
      "Latitude                       17256 non-null float64\n",
      "Incident Location              17256 non-null object\n",
      "Initial Type Description       11157 non-null object\n",
      "Initial Type Subgroup          11157 non-null object\n",
      "Initial Type Group             11157 non-null object\n",
      "At Scene Time                  5553 non-null object\n",
      "Lat_bin                        17256 non-null int64\n",
      "Lon_bin                        17256 non-null int64\n",
      "Event Clearance Hour           17256 non-null int64\n",
      "Time category                  17256 non-null object\n",
      "DoW                            17256 non-null int64\n",
      "dtypes: datetime64[ns](1), float64(4), int64(6), object(13)\n",
      "memory usage: 3.3+ MB\n"
     ]
    }
   ],
   "source": [
    "df_assault.info()"
   ]
  },
  {
   "cell_type": "code",
   "execution_count": 291,
   "metadata": {
    "collapsed": false
   },
   "outputs": [
    {
     "name": "stdout",
     "output_type": "stream",
     "text": [
      "Morning\n",
      "Day\n",
      "Night\n"
     ]
    }
   ],
   "source": [
    "for i in set(df_assault['Time category']):\n",
    "    print i"
   ]
  },
  {
   "cell_type": "code",
   "execution_count": 289,
   "metadata": {
    "collapsed": false
   },
   "outputs": [
    {
     "name": "stdout",
     "output_type": "stream",
     "text": [
      "0\n",
      "1\n",
      "2\n",
      "3\n",
      "4\n",
      "5\n",
      "6\n",
      "7\n",
      "8\n",
      "9\n"
     ]
    }
   ],
   "source": [
    "# for lat in xrange(1,11):\n",
    "#     for lon in xrange(1,11):\n",
    "#         for time in set(df_assault['Time category']):\n",
    "            "
   ]
  },
  {
   "cell_type": "code",
   "execution_count": 294,
   "metadata": {
    "collapsed": false
   },
   "outputs": [],
   "source": [
    "c = np.zeros((10,10,7,3))"
   ]
  },
  {
   "cell_type": "code",
   "execution_count": 410,
   "metadata": {
    "collapsed": true
   },
   "outputs": [],
   "source": [
    "day_dict = {'Morning':0,'Day':1,'Night':2}"
   ]
  },
  {
   "cell_type": "code",
   "execution_count": 411,
   "metadata": {
    "collapsed": false,
    "scrolled": false
   },
   "outputs": [
    {
     "name": "stderr",
     "output_type": "stream",
     "text": [
      "/Users/ericpei/anaconda/lib/python2.7/site-packages/ipykernel/__main__.py:1: SettingWithCopyWarning: \n",
      "A value is trying to be set on a copy of a slice from a DataFrame.\n",
      "Try using .loc[row_indexer,col_indexer] = value instead\n",
      "\n",
      "See the caveats in the documentation: http://pandas.pydata.org/pandas-docs/stable/indexing.html#indexing-view-versus-copy\n",
      "  if __name__ == '__main__':\n",
      "/Users/ericpei/anaconda/lib/python2.7/site-packages/ipykernel/__main__.py:2: SettingWithCopyWarning: \n",
      "A value is trying to be set on a copy of a slice from a DataFrame.\n",
      "Try using .loc[row_indexer,col_indexer] = value instead\n",
      "\n",
      "See the caveats in the documentation: http://pandas.pydata.org/pandas-docs/stable/indexing.html#indexing-view-versus-copy\n",
      "  from ipykernel import kernelapp as app\n"
     ]
    }
   ],
   "source": [
    "df_assault['Period'] = df_assault['Time category'].apply(lambda x: day_dict[x])\n",
    "df_theft['Period'] = df_theft['Time category'].apply(lambda x: day_dict[x])\n",
    "df_life['Period'] = df_life['Time category'].apply(lambda x: day_dict[x])"
   ]
  },
  {
   "cell_type": "code",
   "execution_count": 412,
   "metadata": {
    "collapsed": false
   },
   "outputs": [
    {
     "name": "stdout",
     "output_type": "stream",
     "text": [
      "<class 'pandas.core.frame.DataFrame'>\n",
      "Int64Index: 17256 entries, 119 to 1225179\n",
      "Data columns (total 25 columns):\n",
      "CAD CDW ID                     17256 non-null object\n",
      "CAD Event Number               17256 non-null int64\n",
      "General Offense Number         17256 non-null int64\n",
      "Event Clearance Code           17256 non-null float64\n",
      "Event Clearance Description    17256 non-null object\n",
      "Event Clearance SubGroup       17256 non-null object\n",
      "Event Clearance Group          17256 non-null object\n",
      "Event Clearance Date           17256 non-null datetime64[ns]\n",
      "Hundred Block Location         17214 non-null object\n",
      "District/Sector                17178 non-null object\n",
      "Zone/Beat                      17256 non-null object\n",
      "Census Tract                   17179 non-null float64\n",
      "Longitude                      17256 non-null float64\n",
      "Latitude                       17256 non-null float64\n",
      "Incident Location              17256 non-null object\n",
      "Initial Type Description       11157 non-null object\n",
      "Initial Type Subgroup          11157 non-null object\n",
      "Initial Type Group             11157 non-null object\n",
      "At Scene Time                  5553 non-null object\n",
      "Lat_bin                        17256 non-null int64\n",
      "Lon_bin                        17256 non-null int64\n",
      "Event Clearance Hour           17256 non-null int64\n",
      "Time category                  17256 non-null object\n",
      "DoW                            17256 non-null int64\n",
      "Period                         17256 non-null int64\n",
      "dtypes: datetime64[ns](1), float64(4), int64(7), object(13)\n",
      "memory usage: 3.4+ MB\n"
     ]
    }
   ],
   "source": [
    "df_assault.info()"
   ]
  },
  {
   "cell_type": "code",
   "execution_count": 413,
   "metadata": {
    "collapsed": true
   },
   "outputs": [],
   "source": [
    "na = df_assault.reset_index()\n",
    "nt = df_theft.reset_index() \n",
    "nl = df_life.reset_index()"
   ]
  },
  {
   "cell_type": "code",
   "execution_count": 414,
   "metadata": {
    "collapsed": false
   },
   "outputs": [],
   "source": [
    "def generate_nparray(df):\n",
    "    a = np.zeros((len(df), 4))\n",
    "    for i, row in df.iterrows():\n",
    "        a[i,0] = df.loc[i,'Lat_bin'] \n",
    "        a[i,1] = df.loc[i,'Lon_bin']\n",
    "        a[i,2] = df.loc[i,'DoW']\n",
    "        a[i,3] = df.loc[i,'Period']\n",
    "    return a"
   ]
  },
  {
   "cell_type": "code",
   "execution_count": 415,
   "metadata": {
    "collapsed": false
   },
   "outputs": [],
   "source": [
    "np_assault = generate_nparray(na)\n",
    "np_theft = generate_nparray(nt)\n",
    "np_life = generate_nparray(nl)\n",
    "np_assault = np_assault.astype(int)\n",
    "np_theft = np_theft.astype(int)\n",
    "np_life = np_life.astype(int)"
   ]
  },
  {
   "cell_type": "code",
   "execution_count": 416,
   "metadata": {
    "collapsed": true
   },
   "outputs": [],
   "source": [
    "y_assault = np.ones((len(np_assault),1))\n",
    "y_theft = np.ones((len(np_theft),1))\n",
    "y_life = np.ones((len(np_life),1))"
   ]
  },
  {
   "cell_type": "code",
   "execution_count": 417,
   "metadata": {
    "collapsed": true
   },
   "outputs": [],
   "source": [
    "array = np.zeros((10,10,365,7,3))"
   ]
  },
  {
   "cell_type": "code",
   "execution_count": 418,
   "metadata": {
    "collapsed": false
   },
   "outputs": [],
   "source": [
    "for i in xrange(len(np_assault)):\n",
    "    array[tuple(np_assault[i])] += 1"
   ]
  },
  {
   "cell_type": "code",
   "execution_count": 573,
   "metadata": {
    "collapsed": false
   },
   "outputs": [],
   "source": [
    "xs = [(i,j,k,l,m) for i in xrange(10) for j in xrange(10) for k in xrange(2405) for l in xrange(7) for m in xrange(3)]\n",
    "\n",
    "#ys = array.flatten()"
   ]
  },
  {
   "cell_type": "code",
   "execution_count": 575,
   "metadata": {
    "collapsed": false
   },
   "outputs": [
    {
     "data": {
      "text/plain": [
       "5050500"
      ]
     },
     "execution_count": 575,
     "metadata": {},
     "output_type": "execute_result"
    }
   ],
   "source": [
    "len(xs)"
   ]
  },
  {
   "cell_type": "code",
   "execution_count": 527,
   "metadata": {
    "collapsed": true
   },
   "outputs": [],
   "source": [
    "from datetime import datetime\n",
    "from datetime import timedelta"
   ]
  },
  {
   "cell_type": "code",
   "execution_count": 513,
   "metadata": {
    "collapsed": false
   },
   "outputs": [
    {
     "data": {
      "text/plain": [
       "733"
      ]
     },
     "execution_count": 513,
     "metadata": {},
     "output_type": "execute_result"
    }
   ],
   "source": [
    "(min(df_assault['Event Clearance Date']) - datetime(2008,1,1)).days"
   ]
  },
  {
   "cell_type": "code",
   "execution_count": 538,
   "metadata": {
    "collapsed": true
   },
   "outputs": [],
   "source": [
    "def days_hours_minutes(td):\n",
    "    return td.days"
   ]
  },
  {
   "cell_type": "code",
   "execution_count": 539,
   "metadata": {
    "collapsed": false
   },
   "outputs": [],
   "source": [
    "def day_count(df):\n",
    "    diff_date = df['Event Clearance Date'] - min(df_assault['Event Clearance Date'])\n",
    "    #df['date'] = df.apply(lambda x: (x['Event Clearance Date'] - datetime(2008,1,1)).days)\n",
    "    #df['date'] = df.apply(lambda x: x['Event Clearance Date'].day, axis=1)\n",
    "    df['date'] = diff_date\n",
    "    df['date2'] = df['date'].apply(days_hours_minutes)\n",
    "    return None\n"
   ]
  },
  {
   "cell_type": "code",
   "execution_count": 562,
   "metadata": {
    "collapsed": false,
    "scrolled": true
   },
   "outputs": [
    {
     "name": "stderr",
     "output_type": "stream",
     "text": [
      "/Users/ericpei/anaconda/lib/python2.7/site-packages/ipykernel/__main__.py:1: SettingWithCopyWarning: \n",
      "A value is trying to be set on a copy of a slice from a DataFrame.\n",
      "Try using .loc[row_indexer,col_indexer] = value instead\n",
      "\n",
      "See the caveats in the documentation: http://pandas.pydata.org/pandas-docs/stable/indexing.html#indexing-view-versus-copy\n",
      "  if __name__ == '__main__':\n",
      "/Users/ericpei/anaconda/lib/python2.7/site-packages/ipykernel/__main__.py:2: SettingWithCopyWarning: \n",
      "A value is trying to be set on a copy of a slice from a DataFrame.\n",
      "Try using .loc[row_indexer,col_indexer] = value instead\n",
      "\n",
      "See the caveats in the documentation: http://pandas.pydata.org/pandas-docs/stable/indexing.html#indexing-view-versus-copy\n",
      "  from ipykernel import kernelapp as app\n"
     ]
    }
   ],
   "source": [
    "df_assault['days'] = [(row - datetime(2008,1,1)).days for row in df_assault['Event Clearance Date']]\n",
    "df_theft['days'] = [(row - datetime(2008,1,1)).days for row in df_theft['Event Clearance Date']]\n",
    "df_life['days'] = [(row - datetime(2008,1,1)).days for row in df_life['Event Clearance Date']]"
   ]
  },
  {
   "cell_type": "code",
   "execution_count": 569,
   "metadata": {
    "collapsed": false
   },
   "outputs": [
    {
     "name": "stderr",
     "output_type": "stream",
     "text": [
      "/Users/ericpei/anaconda/lib/python2.7/site-packages/ipykernel/__main__.py:1: SettingWithCopyWarning: \n",
      "A value is trying to be set on a copy of a slice from a DataFrame.\n",
      "Try using .loc[row_indexer,col_indexer] = value instead\n",
      "\n",
      "See the caveats in the documentation: http://pandas.pydata.org/pandas-docs/stable/indexing.html#indexing-view-versus-copy\n",
      "  if __name__ == '__main__':\n"
     ]
    }
   ],
   "source": [
    "df_theft['days'] = df_theft['days'] - 658"
   ]
  },
  {
   "cell_type": "code",
   "execution_count": 571,
   "metadata": {
    "collapsed": false
   },
   "outputs": [
    {
     "name": "stderr",
     "output_type": "stream",
     "text": [
      "/Users/ericpei/anaconda/lib/python2.7/site-packages/ipykernel/__main__.py:1: SettingWithCopyWarning: \n",
      "A value is trying to be set on a copy of a slice from a DataFrame.\n",
      "Try using .loc[row_indexer,col_indexer] = value instead\n",
      "\n",
      "See the caveats in the documentation: http://pandas.pydata.org/pandas-docs/stable/indexing.html#indexing-view-versus-copy\n",
      "  if __name__ == '__main__':\n"
     ]
    }
   ],
   "source": [
    "df_assault['days'] = df_assault['days'] - 658\n",
    "df_life['days'] = df_life['days'] - 658"
   ]
  },
  {
   "cell_type": "code",
   "execution_count": 576,
   "metadata": {
    "collapsed": false
   },
   "outputs": [
    {
     "data": {
      "text/html": [
       "<div>\n",
       "<table border=\"1\" class=\"dataframe\">\n",
       "  <thead>\n",
       "    <tr style=\"text-align: right;\">\n",
       "      <th></th>\n",
       "      <th>CAD CDW ID</th>\n",
       "      <th>CAD Event Number</th>\n",
       "      <th>General Offense Number</th>\n",
       "      <th>Event Clearance Code</th>\n",
       "      <th>Event Clearance Description</th>\n",
       "      <th>Event Clearance SubGroup</th>\n",
       "      <th>Event Clearance Group</th>\n",
       "      <th>Event Clearance Date</th>\n",
       "      <th>Hundred Block Location</th>\n",
       "      <th>District/Sector</th>\n",
       "      <th>...</th>\n",
       "      <th>Lat_bin</th>\n",
       "      <th>Lon_bin</th>\n",
       "      <th>Event Clearance Hour</th>\n",
       "      <th>Time category</th>\n",
       "      <th>DoW</th>\n",
       "      <th>Period</th>\n",
       "      <th>Diff_date</th>\n",
       "      <th>date</th>\n",
       "      <th>diff_date</th>\n",
       "      <th>days</th>\n",
       "    </tr>\n",
       "  </thead>\n",
       "  <tbody>\n",
       "    <tr>\n",
       "      <th>119</th>\n",
       "      <td>15856</td>\n",
       "      <td>10000246584</td>\n",
       "      <td>2010246584</td>\n",
       "      <td>250</td>\n",
       "      <td>MISCHIEF, NUISANCE COMPLAINTS</td>\n",
       "      <td>NUISANCE, MISCHIEF COMPLAINTS</td>\n",
       "      <td>NUISANCE, MISCHIEF</td>\n",
       "      <td>2010-07-17 23:47:00</td>\n",
       "      <td>16XX BLOCK OF WESTERN AVE</td>\n",
       "      <td>M</td>\n",
       "      <td>...</td>\n",
       "      <td>8</td>\n",
       "      <td>2</td>\n",
       "      <td>23</td>\n",
       "      <td>Night</td>\n",
       "      <td>5</td>\n",
       "      <td>2</td>\n",
       "      <td>&lt;function &lt;lambda&gt; at 0x115253b90&gt;</td>\n",
       "      <td>195 days 20:20:00</td>\n",
       "      <td>14</td>\n",
       "      <td>270</td>\n",
       "    </tr>\n",
       "    <tr>\n",
       "      <th>347</th>\n",
       "      <td>16089</td>\n",
       "      <td>10000246912</td>\n",
       "      <td>2010246912</td>\n",
       "      <td>250</td>\n",
       "      <td>MISCHIEF, NUISANCE COMPLAINTS</td>\n",
       "      <td>NUISANCE, MISCHIEF COMPLAINTS</td>\n",
       "      <td>NUISANCE, MISCHIEF</td>\n",
       "      <td>2010-07-18 02:27:00</td>\n",
       "      <td>2XX BLOCK OF LENORA ST</td>\n",
       "      <td>M</td>\n",
       "      <td>...</td>\n",
       "      <td>9</td>\n",
       "      <td>3</td>\n",
       "      <td>2</td>\n",
       "      <td>Morning</td>\n",
       "      <td>6</td>\n",
       "      <td>0</td>\n",
       "      <td>&lt;function &lt;lambda&gt; at 0x115253320&gt;</td>\n",
       "      <td>195 days 23:00:00</td>\n",
       "      <td>15</td>\n",
       "      <td>271</td>\n",
       "    </tr>\n",
       "    <tr>\n",
       "      <th>399</th>\n",
       "      <td>16145</td>\n",
       "      <td>10000246923</td>\n",
       "      <td>2010246923</td>\n",
       "      <td>250</td>\n",
       "      <td>MISCHIEF, NUISANCE COMPLAINTS</td>\n",
       "      <td>NUISANCE, MISCHIEF COMPLAINTS</td>\n",
       "      <td>NUISANCE, MISCHIEF</td>\n",
       "      <td>2010-07-18 02:43:00</td>\n",
       "      <td>3XX BLOCK OF 2ND AVE S</td>\n",
       "      <td>K</td>\n",
       "      <td>...</td>\n",
       "      <td>2</td>\n",
       "      <td>6</td>\n",
       "      <td>2</td>\n",
       "      <td>Morning</td>\n",
       "      <td>6</td>\n",
       "      <td>0</td>\n",
       "      <td>&lt;function &lt;lambda&gt; at 0x115253488&gt;</td>\n",
       "      <td>195 days 23:16:00</td>\n",
       "      <td>15</td>\n",
       "      <td>271</td>\n",
       "    </tr>\n",
       "    <tr>\n",
       "      <th>521</th>\n",
       "      <td>16273</td>\n",
       "      <td>10000247151</td>\n",
       "      <td>2010247151</td>\n",
       "      <td>250</td>\n",
       "      <td>MISCHIEF, NUISANCE COMPLAINTS</td>\n",
       "      <td>NUISANCE, MISCHIEF COMPLAINTS</td>\n",
       "      <td>NUISANCE, MISCHIEF</td>\n",
       "      <td>2010-07-18 10:28:00</td>\n",
       "      <td>14XX BLOCK OF BOREN AVE</td>\n",
       "      <td>D</td>\n",
       "      <td>...</td>\n",
       "      <td>9</td>\n",
       "      <td>7</td>\n",
       "      <td>10</td>\n",
       "      <td>Day</td>\n",
       "      <td>6</td>\n",
       "      <td>1</td>\n",
       "      <td>&lt;function &lt;lambda&gt; at 0x115253ed8&gt;</td>\n",
       "      <td>196 days 07:01:00</td>\n",
       "      <td>15</td>\n",
       "      <td>271</td>\n",
       "    </tr>\n",
       "    <tr>\n",
       "      <th>590</th>\n",
       "      <td>16345</td>\n",
       "      <td>10000247330</td>\n",
       "      <td>2010247330</td>\n",
       "      <td>40</td>\n",
       "      <td>ASSAULTS, OTHER</td>\n",
       "      <td>ASSAULTS</td>\n",
       "      <td>ASSAULTS</td>\n",
       "      <td>2010-07-18 15:24:00</td>\n",
       "      <td>2XX BLOCK OF UNION ST</td>\n",
       "      <td>K</td>\n",
       "      <td>...</td>\n",
       "      <td>7</td>\n",
       "      <td>4</td>\n",
       "      <td>15</td>\n",
       "      <td>Day</td>\n",
       "      <td>6</td>\n",
       "      <td>1</td>\n",
       "      <td>&lt;function &lt;lambda&gt; at 0x1152539b0&gt;</td>\n",
       "      <td>196 days 11:57:00</td>\n",
       "      <td>15</td>\n",
       "      <td>271</td>\n",
       "    </tr>\n",
       "  </tbody>\n",
       "</table>\n",
       "<p>5 rows × 29 columns</p>\n",
       "</div>"
      ],
      "text/plain": [
       "    CAD CDW ID  CAD Event Number  General Offense Number  \\\n",
       "119      15856       10000246584              2010246584   \n",
       "347      16089       10000246912              2010246912   \n",
       "399      16145       10000246923              2010246923   \n",
       "521      16273       10000247151              2010247151   \n",
       "590      16345       10000247330              2010247330   \n",
       "\n",
       "     Event Clearance Code    Event Clearance Description  \\\n",
       "119                   250  MISCHIEF, NUISANCE COMPLAINTS   \n",
       "347                   250  MISCHIEF, NUISANCE COMPLAINTS   \n",
       "399                   250  MISCHIEF, NUISANCE COMPLAINTS   \n",
       "521                   250  MISCHIEF, NUISANCE COMPLAINTS   \n",
       "590                    40                ASSAULTS, OTHER   \n",
       "\n",
       "          Event Clearance SubGroup Event Clearance Group Event Clearance Date  \\\n",
       "119  NUISANCE, MISCHIEF COMPLAINTS   NUISANCE, MISCHIEF   2010-07-17 23:47:00   \n",
       "347  NUISANCE, MISCHIEF COMPLAINTS   NUISANCE, MISCHIEF   2010-07-18 02:27:00   \n",
       "399  NUISANCE, MISCHIEF COMPLAINTS   NUISANCE, MISCHIEF   2010-07-18 02:43:00   \n",
       "521  NUISANCE, MISCHIEF COMPLAINTS   NUISANCE, MISCHIEF   2010-07-18 10:28:00   \n",
       "590                       ASSAULTS              ASSAULTS  2010-07-18 15:24:00   \n",
       "\n",
       "        Hundred Block Location District/Sector  ...  Lat_bin  Lon_bin  \\\n",
       "119  16XX BLOCK OF WESTERN AVE               M  ...        8        2   \n",
       "347     2XX BLOCK OF LENORA ST               M  ...        9        3   \n",
       "399     3XX BLOCK OF 2ND AVE S               K  ...        2        6   \n",
       "521    14XX BLOCK OF BOREN AVE               D  ...        9        7   \n",
       "590      2XX BLOCK OF UNION ST               K  ...        7        4   \n",
       "\n",
       "     Event Clearance Hour  Time category DoW Period  \\\n",
       "119                    23          Night   5      2   \n",
       "347                     2        Morning   6      0   \n",
       "399                     2        Morning   6      0   \n",
       "521                    10            Day   6      1   \n",
       "590                    15            Day   6      1   \n",
       "\n",
       "                              Diff_date              date diff_date  days  \n",
       "119  <function <lambda> at 0x115253b90> 195 days 20:20:00        14   270  \n",
       "347  <function <lambda> at 0x115253320> 195 days 23:00:00        15   271  \n",
       "399  <function <lambda> at 0x115253488> 195 days 23:16:00        15   271  \n",
       "521  <function <lambda> at 0x115253ed8> 196 days 07:01:00        15   271  \n",
       "590  <function <lambda> at 0x1152539b0> 196 days 11:57:00        15   271  \n",
       "\n",
       "[5 rows x 29 columns]"
      ]
     },
     "execution_count": 576,
     "metadata": {},
     "output_type": "execute_result"
    }
   ],
   "source": [
    "df_assault.head()"
   ]
  },
  {
   "cell_type": "code",
   "execution_count": 572,
   "metadata": {
    "collapsed": false
   },
   "outputs": [
    {
     "name": "stdout",
     "output_type": "stream",
     "text": [
      "75 2404\n",
      "0 2404\n",
      "271 2404\n"
     ]
    }
   ],
   "source": [
    "print min(df_assault['days']), max(df_assault['days'])\n",
    "print min(df_theft['days']), max(df_theft['days'])\n",
    "print min(df_life['days']), max(df_life['days'])"
   ]
  },
  {
   "cell_type": "markdown",
   "metadata": {},
   "source": [
    "### 658 to 3062"
   ]
  },
  {
   "cell_type": "code",
   "execution_count": 565,
   "metadata": {
    "collapsed": false,
    "scrolled": true
   },
   "outputs": [
    {
     "name": "stdout",
     "output_type": "stream",
     "text": [
      "<class 'pandas.core.frame.DataFrame'>\n",
      "Int64Index: 15025 entries, 105 to 1225264\n",
      "Data columns (total 26 columns):\n",
      "CAD CDW ID                     15025 non-null object\n",
      "CAD Event Number               15025 non-null int64\n",
      "General Offense Number         15025 non-null int64\n",
      "Event Clearance Code           15025 non-null float64\n",
      "Event Clearance Description    15025 non-null object\n",
      "Event Clearance SubGroup       15025 non-null object\n",
      "Event Clearance Group          15025 non-null object\n",
      "Event Clearance Date           15025 non-null datetime64[ns]\n",
      "Hundred Block Location         14979 non-null object\n",
      "District/Sector                15010 non-null object\n",
      "Zone/Beat                      15025 non-null object\n",
      "Census Tract                   15009 non-null float64\n",
      "Longitude                      15025 non-null float64\n",
      "Latitude                       15025 non-null float64\n",
      "Incident Location              15025 non-null object\n",
      "Initial Type Description       8811 non-null object\n",
      "Initial Type Subgroup          8811 non-null object\n",
      "Initial Type Group             8811 non-null object\n",
      "At Scene Time                  6048 non-null object\n",
      "Lat_bin                        15025 non-null int64\n",
      "Lon_bin                        15025 non-null int64\n",
      "Event Clearance Hour           15025 non-null int64\n",
      "Time category                  15025 non-null object\n",
      "DoW                            15025 non-null int64\n",
      "Period                         15025 non-null int64\n",
      "days                           15025 non-null int64\n",
      "dtypes: datetime64[ns](1), float64(4), int64(8), object(13)\n",
      "memory usage: 3.1+ MB\n"
     ]
    }
   ],
   "source": [
    "df_theft.info()"
   ]
  },
  {
   "cell_type": "code",
   "execution_count": null,
   "metadata": {
    "collapsed": true
   },
   "outputs": [],
   "source": [
    "def convert2(nparr):\n",
    "    for i in nparr:\n",
    "        "
   ]
  },
  {
   "cell_type": "code",
   "execution_count": null,
   "metadata": {
    "collapsed": true
   },
   "outputs": [],
   "source": [
    "def convert(df):\n",
    "    yval = np.zeros((len(xs)), 1)\n",
    "    for lat in xrange(0,10):\n",
    "        for lon in xrange(0,10):\n",
    "            for date in xrange(0,365):\n",
    "                for day in xrange(0,7):\n",
    "                    for time in xrange(0,3):\n",
    "                        yval[] = []"
   ]
  },
  {
   "cell_type": "code",
   "execution_count": 577,
   "metadata": {
    "collapsed": false
   },
   "outputs": [
    {
     "data": {
      "text/plain": [
       "(17256, 4)"
      ]
     },
     "execution_count": 577,
     "metadata": {},
     "output_type": "execute_result"
    }
   ],
   "source": [
    "np_assault.shape"
   ]
  },
  {
   "cell_type": "code",
   "execution_count": 637,
   "metadata": {
    "collapsed": false
   },
   "outputs": [
    {
     "name": "stderr",
     "output_type": "stream",
     "text": [
      "/Users/ericpei/anaconda/lib/python2.7/site-packages/ipykernel/__main__.py:1: SettingWithCopyWarning: \n",
      "A value is trying to be set on a copy of a slice from a DataFrame.\n",
      "Try using .loc[row_indexer,col_indexer] = value instead\n",
      "\n",
      "See the caveats in the documentation: http://pandas.pydata.org/pandas-docs/stable/indexing.html#indexing-view-versus-copy\n",
      "  if __name__ == '__main__':\n"
     ]
    },
    {
     "data": {
      "image/png": "[encoded data removed]",
      "text/plain": [
       "<matplotlib.figure.Figure at 0x16e9cc490>"
      ]
     },
     "metadata": {},
     "output_type": "display_data"
    },
    {
     "data": {
      "text/plain": [
       "(array([  1.33210000e+04,   1.45800000e+03,   2.69000000e+02,\n",
       "          2.40000000e+01,   4.00000000e+00]),\n",
       " array([ 0.69314718,  1.01503476,  1.33692235,  1.65880993,  1.98069751,\n",
       "         2.30258509]),\n",
       " <a list of 5 Patch objects>)"
      ]
     },
     "execution_count": 637,
     "metadata": {},
     "output_type": "execute_result"
    },
    {
     "data": {
      "image/png": "[encoded data removed]",
      "text/plain": [
       "<matplotlib.figure.Figure at 0x16ef14690>"
      ]
     },
     "metadata": {},
     "output_type": "display_data"
    }
   ],
   "source": [
    "df_assault['occurence'] = np.ones(len(df_assault))\n",
    "df_assault['DoY'] = df_assault['Event Clearance Data'].apply(lambda x: x.)\n",
    "test = df_assault.groupby(['Lat_bin', 'Lon_bin', 'DoW', 'Period', 'days']).sum()\n",
    "test.reset_index(inplace=True)\n",
    "Xs = test[['Lat_bin', 'Lon_bin', 'DoW', 'Period', 'days']].values\n",
    "ys = np.log(test[['occurence']].values + 1)\n",
    "\n",
    "cmap = plt.cm.CMRmap\n",
    "plt.scatter(Xs[:,0], Xs[:,1], c=ys, cmap=cmap, alpha=0.005)\n",
    "plt.show()\n",
    "\n",
    "\n",
    "plt.hist(ys, bins=5)"
   ]
  },
  {
   "cell_type": "code",
   "execution_count": 646,
   "metadata": {
    "collapsed": false
   },
   "outputs": [
    {
     "name": "stdout",
     "output_type": "stream",
     "text": [
      "0.059105965507\n"
     ]
    },
    {
     "data": {
      "image/png": "[encoded data removed]",
      "text/plain": [
       "<matplotlib.figure.Figure at 0x16ec64f50>"
      ]
     },
     "metadata": {},
     "output_type": "display_data"
    }
   ],
   "source": [
    "from sklearn.linear_model import LinearRegression\n",
    "from sklearn.cross_validation import train_test_split\n",
    "from scipy import stats\n",
    "from sklearn.preprocessing import PolynomialFeatures\n",
    "\n",
    "days = Xs[:,4] \n",
    "\n",
    "previous_events = []\n",
    "for i in xrange(len(Xs)):\n",
    "    current_day = Xs[i,4]\n",
    "    subset = ys[(days>=current_day-14) & (days<current_day)]\n",
    "    total = np.sum(subset)\n",
    "    previous_events.append(total>0)\n",
    "previous_events = np.array(previous_events, dtype=int).reshape(-1,1)\n",
    "\n",
    "Xs = np.hstack((Xs,previous_events))\n",
    "\n",
    "poly = PolynomialFeatures(degree=6)\n",
    "add_X = poly.fit_transform(Xs[:,:2])[:,3:]\n",
    "\n",
    "Xs = np.hstack((Xs,add_X))\n",
    "\n",
    "\n",
    "X_train, X_test, y_train, y_test = train_test_split(Xs, ys)\n",
    "\n",
    "model = LinearRegression(fit_intercept=True, normalize=False, copy_X=True, n_jobs=1)\n",
    "model.fit(X_train, y_train)\n",
    "y_predict = model.predict(X_test)\n",
    "\n",
    "errors = y_predict - y_test\n",
    "plt.scatter(y_predict, y_test)\n",
    "\n",
    "slope, intercept, r_value, p_value, std_err = stats.linregress(y_predict.flatten(), y_test.flatten())\n",
    "print r_value**2"
   ]
  },
  {
   "cell_type": "code",
   "execution_count": 636,
   "metadata": {
    "collapsed": false
   },
   "outputs": [
    {
     "name": "stderr",
     "output_type": "stream",
     "text": [
      "/Users/ericpei/anaconda/lib/python2.7/site-packages/ipykernel/__main__.py:1: SettingWithCopyWarning: \n",
      "A value is trying to be set on a copy of a slice from a DataFrame.\n",
      "Try using .loc[row_indexer,col_indexer] = value instead\n",
      "\n",
      "See the caveats in the documentation: http://pandas.pydata.org/pandas-docs/stable/indexing.html#indexing-view-versus-copy\n",
      "  if __name__ == '__main__':\n"
     ]
    },
    {
     "data": {
      "text/plain": [
       "<matplotlib.axes._subplots.AxesSubplot at 0x170db8150>"
      ]
     },
     "execution_count": 636,
     "metadata": {},
     "output_type": "execute_result"
    },
    {
     "data": {
      "image/png": "[encoded data removed]",
      "text/plain": [
       "<matplotlib.figure.Figure at 0x172141e90>"
      ]
     },
     "metadata": {},
     "output_type": "display_data"
    }
   ],
   "source": [
    "df_assault['month'] = df_assault['Event Clearance Date'].apply(lambda x: x.month)\n",
    "#df_assault['year'] \n",
    "#test = df_assault.groupby('month').sum()\n",
    "\n",
    "df_assault.index = df_assault['Event Clearance Date']\n",
    "\n",
    "#df_assault.head()\n",
    "test = df_assault.resample('M', how=\"sum\")\n",
    "\n",
    "#test.reset_index(inplace=True)\n",
    "#test1 = test[['month', 'occurence']].values\n",
    "plt.figure(figsize=(15,7))\n",
    "test['occurence'].plot()"
   ]
  },
  {
   "cell_type": "code",
   "execution_count": 644,
   "metadata": {
    "collapsed": false
   },
   "outputs": [
    {
     "data": {
      "text/plain": [
       "count    15076.000000\n",
       "mean         1.144601\n",
       "std          0.454699\n",
       "min          1.000000\n",
       "25%          1.000000\n",
       "50%          1.000000\n",
       "75%          1.000000\n",
       "max          9.000000\n",
       "Name: occurence, dtype: float64"
      ]
     },
     "execution_count": 644,
     "metadata": {},
     "output_type": "execute_result"
    }
   ],
   "source": [
    "#np.log(test['occurence'])\n",
    "test['occurence'].describe()"
   ]
  },
  {
   "cell_type": "code",
   "execution_count": null,
   "metadata": {
    "collapsed": true
   },
   "outputs": [],
   "source": [
    "def generate_zeros(df):\n",
    "    a = np.zeros((len(df)))\n",
    "    return a"
   ]
  }
 ],
 "metadata": {
  "kernelspec": {
   "display_name": "Python 2",
   "language": "python",
   "name": "python2"
  },
  "language_info": {
   "codemirror_mode": {
    "name": "ipython",
    "version": 2
   },
   "file_extension": ".py",
   "mimetype": "text/x-python",
   "name": "python",
   "nbconvert_exporter": "python",
   "pygments_lexer": "ipython2",
   "version": "2.7.11"
  }
 },
 "nbformat": 4,
 "nbformat_minor": 0
}
